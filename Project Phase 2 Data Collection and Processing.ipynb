{
 "cells": [
  {
   "cell_type": "markdown",
   "metadata": {},
   "source": [
    "# 1. Research Question\n",
    "What factors are related to the share of female inventors, relative to the number of all inventors, among OECD (Organisation for Economic Co-operation and Development) member countries?\n",
    "\n",
    "### Secondary Questions:\n",
    "1. What domestic factors are related to the (relative) number of female inventors?\n",
    "2. Education is believed to have positive externalities. Is education also related to the growth of female inventors group?\n",
    "3. Social resources can have tremendous effect on a social agent's life decision. Would social resources (access to capital / training opportunities) have strong relation with the percentage of women among inventors?\n",
    "4. Initiatives / motivations play a great role in an inventor's story. How strong (or weak) is the connection between the scale of female inventors and female citizens' general attitude towards entrepreneurial risks?"
   ]
  },
  {
   "cell_type": "markdown",
   "metadata": {},
   "source": [
    "# 2. Data Cleaning"
   ]
  },
  {
   "cell_type": "markdown",
   "metadata": {},
   "source": [
    "## 2.1 Dataset: Share of Women Inventors"
   ]
  },
  {
   "cell_type": "code",
   "execution_count": 1,
   "metadata": {
    "ExecuteTime": {
     "end_time": "2021-04-28T03:28:28.123936Z",
     "start_time": "2021-04-28T03:28:26.608082Z"
    }
   },
   "outputs": [],
   "source": [
    "import pandas as pd\n",
    "import numpy as np\n",
    "import matplotlib.pyplot as plt\n",
    "from scipy import stats"
   ]
  },
  {
   "cell_type": "markdown",
   "metadata": {},
   "source": [
    "5 Datasets are downloaded before preprocessing in this jupyter notebook:\n",
    "\n",
    "2 datasets from Max Roser and Esteban Ortiz-Ospina (2013) - \"Tertiary Education\". Published online at OurWorldInData.org. Retrieved from: 'https://ourworldindata.org/tertiary-education' [Online Resource].\n",
    "\n",
    "1. gpi-tertiary-education.csv \n",
    "2. share-graduates-stem-female.csv\n",
    "\n",
    "3 datasets from OECD.Stat (https://stats.oecd.org/index.aspx?queryid=83119#).\n",
    "\n",
    "1. Share_of_women_inventors.csv \n",
    "2. Attitude_towards_entrepreneurial_risk_by_sex.csv \n",
    "3. Access_to_training_and_money_to_start_a_business_by_sex.csv "
   ]
  },
  {
   "cell_type": "code",
   "execution_count": 2,
   "metadata": {
    "ExecuteTime": {
     "end_time": "2021-04-28T03:28:28.200139Z",
     "start_time": "2021-04-28T03:28:28.126583Z"
    }
   },
   "outputs": [
    {
     "data": {
      "text/html": [
       "<div>\n",
       "<style scoped>\n",
       "    .dataframe tbody tr th:only-of-type {\n",
       "        vertical-align: middle;\n",
       "    }\n",
       "\n",
       "    .dataframe tbody tr th {\n",
       "        vertical-align: top;\n",
       "    }\n",
       "\n",
       "    .dataframe thead th {\n",
       "        text-align: right;\n",
       "    }\n",
       "</style>\n",
       "<table border=\"1\" class=\"dataframe\">\n",
       "  <thead>\n",
       "    <tr style=\"text-align: right;\">\n",
       "      <th></th>\n",
       "      <th>Country</th>\n",
       "      <th>Year</th>\n",
       "      <th>Unit</th>\n",
       "      <th>Share of Women Inventors (%)</th>\n",
       "    </tr>\n",
       "  </thead>\n",
       "  <tbody>\n",
       "    <tr>\n",
       "      <td>0</td>\n",
       "      <td>Argentina</td>\n",
       "      <td>1996</td>\n",
       "      <td>Percentage</td>\n",
       "      <td>10.7</td>\n",
       "    </tr>\n",
       "    <tr>\n",
       "      <td>1</td>\n",
       "      <td>Argentina</td>\n",
       "      <td>1997</td>\n",
       "      <td>Percentage</td>\n",
       "      <td>8.6</td>\n",
       "    </tr>\n",
       "    <tr>\n",
       "      <td>2</td>\n",
       "      <td>Argentina</td>\n",
       "      <td>1998</td>\n",
       "      <td>Percentage</td>\n",
       "      <td>9.4</td>\n",
       "    </tr>\n",
       "    <tr>\n",
       "      <td>3</td>\n",
       "      <td>Argentina</td>\n",
       "      <td>1999</td>\n",
       "      <td>Percentage</td>\n",
       "      <td>12.9</td>\n",
       "    </tr>\n",
       "    <tr>\n",
       "      <td>4</td>\n",
       "      <td>Argentina</td>\n",
       "      <td>2000</td>\n",
       "      <td>Percentage</td>\n",
       "      <td>16.4</td>\n",
       "    </tr>\n",
       "  </tbody>\n",
       "</table>\n",
       "</div>"
      ],
      "text/plain": [
       "     Country  Year        Unit  Share of Women Inventors (%)\n",
       "0  Argentina  1996  Percentage                          10.7\n",
       "1  Argentina  1997  Percentage                           8.6\n",
       "2  Argentina  1998  Percentage                           9.4\n",
       "3  Argentina  1999  Percentage                          12.9\n",
       "4  Argentina  2000  Percentage                          16.4"
      ]
     },
     "execution_count": 2,
     "metadata": {},
     "output_type": "execute_result"
    }
   ],
   "source": [
    "#load raw dataset of Share of Women Inventors\n",
    "share_of_women_inventors = pd.read_csv(\"share_of_women_inventors.csv\")\n",
    "\n",
    "#get rid of undesired columns\n",
    "share_of_women_inventors = share_of_women_inventors.drop(columns=['LOCATION','INDICATOR','SEX','Sex','AGE','Age','TIME','Unit Code','PowerCode Code','PowerCode','Reference Period Code','Reference Period','Flag Codes','Flags'])\n",
    "\n",
    "#merge indicator and value columns to one column\n",
    "share_of_women_inventors['Share of Women Inventors (%)'] = share_of_women_inventors['Value']\n",
    "\n",
    "#get rid of the original indicator and value columns\n",
    "share_of_women_inventors = share_of_women_inventors.drop(columns=['Indicator','Value'])\n",
    "\n",
    "#view of the dataset\n",
    "share_of_women_inventors.head()"
   ]
  },
  {
   "cell_type": "markdown",
   "metadata": {},
   "source": [
    "To clarity, GPI Ratio of female to male net enrolment ratio for tertiary education. It is calculated by dividing the female value for the indicator by the male value for the indicator. A GPI of 1 indicates parity between females and males. A value less than 1 indicates disparity in favor of males and a value greater than 1 indicates disparity in favor of females. "
   ]
  },
  {
   "cell_type": "code",
   "execution_count": 3,
   "metadata": {
    "ExecuteTime": {
     "end_time": "2021-04-28T03:28:28.215098Z",
     "start_time": "2021-04-28T03:28:28.203132Z"
    }
   },
   "outputs": [
    {
     "data": {
      "text/plain": [
       "(1074, 4)"
      ]
     },
     "execution_count": 3,
     "metadata": {},
     "output_type": "execute_result"
    }
   ],
   "source": [
    "#size of the dataset\n",
    "share_of_women_inventors.shape"
   ]
  },
  {
   "cell_type": "code",
   "execution_count": 4,
   "metadata": {
    "ExecuteTime": {
     "end_time": "2021-04-28T03:28:28.231056Z",
     "start_time": "2021-04-28T03:28:28.218094Z"
    }
   },
   "outputs": [],
   "source": [
    "#create a list of desired OECD countries\n",
    "countries = set(\n",
    "    [\n",
    "        \"Australia\",\n",
    "        \"Austria\",\n",
    "        \"Belgium\",\n",
    "        \"Canada\",\n",
    "        \"Chile\",\n",
    "        \"Colombia\",\n",
    "        \"Denmark\",\n",
    "        \"Finland\",\n",
    "        \"France\",\n",
    "        \"Germany\",\n",
    "        \"Greece\",\n",
    "        \"Hungary\",\n",
    "        \"Iceland\",\n",
    "        \"Ireland\",\n",
    "        \"Israel\",\n",
    "        \"Italy\",\n",
    "        \"Japan\",\n",
    "        \"Lithuania\",\n",
    "        \"Luxembourg\",\n",
    "        \"Mexico\",\n",
    "        \"Netherlands\",\n",
    "        \"New Zealand\",\n",
    "        \"Norway\",\n",
    "        \"Poland\",\n",
    "        \"Portugal\",\n",
    "        \"Slovakia\",\n",
    "        \"Slovenia\",\n",
    "        \"Spain\",\n",
    "        \"Sweden\",\n",
    "        \"Switzerland\",\n",
    "        \"Turkey\",\n",
    "        \"United Kingdom\",\n",
    "        \"United States\",\n",
    "    ]\n",
    ")"
   ]
  },
  {
   "cell_type": "code",
   "execution_count": 5,
   "metadata": {
    "ExecuteTime": {
     "end_time": "2021-04-28T03:28:28.261980Z",
     "start_time": "2021-04-28T03:28:28.234050Z"
    }
   },
   "outputs": [
    {
     "data": {
      "text/html": [
       "<div>\n",
       "<style scoped>\n",
       "    .dataframe tbody tr th:only-of-type {\n",
       "        vertical-align: middle;\n",
       "    }\n",
       "\n",
       "    .dataframe tbody tr th {\n",
       "        vertical-align: top;\n",
       "    }\n",
       "\n",
       "    .dataframe thead th {\n",
       "        text-align: right;\n",
       "    }\n",
       "</style>\n",
       "<table border=\"1\" class=\"dataframe\">\n",
       "  <thead>\n",
       "    <tr style=\"text-align: right;\">\n",
       "      <th></th>\n",
       "      <th>Country</th>\n",
       "      <th>Year</th>\n",
       "      <th>Unit</th>\n",
       "      <th>Share of Women Inventors (%)</th>\n",
       "    </tr>\n",
       "  </thead>\n",
       "  <tbody>\n",
       "    <tr>\n",
       "      <td>0</td>\n",
       "      <td>Australia</td>\n",
       "      <td>1985</td>\n",
       "      <td>Percentage</td>\n",
       "      <td>4.4</td>\n",
       "    </tr>\n",
       "    <tr>\n",
       "      <td>1</td>\n",
       "      <td>Australia</td>\n",
       "      <td>1986</td>\n",
       "      <td>Percentage</td>\n",
       "      <td>4.7</td>\n",
       "    </tr>\n",
       "    <tr>\n",
       "      <td>2</td>\n",
       "      <td>Australia</td>\n",
       "      <td>1987</td>\n",
       "      <td>Percentage</td>\n",
       "      <td>5.7</td>\n",
       "    </tr>\n",
       "    <tr>\n",
       "      <td>3</td>\n",
       "      <td>Australia</td>\n",
       "      <td>1988</td>\n",
       "      <td>Percentage</td>\n",
       "      <td>6.0</td>\n",
       "    </tr>\n",
       "    <tr>\n",
       "      <td>4</td>\n",
       "      <td>Australia</td>\n",
       "      <td>1989</td>\n",
       "      <td>Percentage</td>\n",
       "      <td>6.5</td>\n",
       "    </tr>\n",
       "    <tr>\n",
       "      <td>...</td>\n",
       "      <td>...</td>\n",
       "      <td>...</td>\n",
       "      <td>...</td>\n",
       "      <td>...</td>\n",
       "    </tr>\n",
       "    <tr>\n",
       "      <td>913</td>\n",
       "      <td>United States</td>\n",
       "      <td>2013</td>\n",
       "      <td>Percentage</td>\n",
       "      <td>12.1</td>\n",
       "    </tr>\n",
       "    <tr>\n",
       "      <td>914</td>\n",
       "      <td>United States</td>\n",
       "      <td>2014</td>\n",
       "      <td>Percentage</td>\n",
       "      <td>12.1</td>\n",
       "    </tr>\n",
       "    <tr>\n",
       "      <td>915</td>\n",
       "      <td>United States</td>\n",
       "      <td>2015</td>\n",
       "      <td>Percentage</td>\n",
       "      <td>12.1</td>\n",
       "    </tr>\n",
       "    <tr>\n",
       "      <td>916</td>\n",
       "      <td>United States</td>\n",
       "      <td>2016</td>\n",
       "      <td>Percentage</td>\n",
       "      <td>11.9</td>\n",
       "    </tr>\n",
       "    <tr>\n",
       "      <td>917</td>\n",
       "      <td>United States</td>\n",
       "      <td>2017</td>\n",
       "      <td>Percentage</td>\n",
       "      <td>11.8</td>\n",
       "    </tr>\n",
       "  </tbody>\n",
       "</table>\n",
       "<p>918 rows × 4 columns</p>\n",
       "</div>"
      ],
      "text/plain": [
       "           Country  Year        Unit  Share of Women Inventors (%)\n",
       "0        Australia  1985  Percentage                           4.4\n",
       "1        Australia  1986  Percentage                           4.7\n",
       "2        Australia  1987  Percentage                           5.7\n",
       "3        Australia  1988  Percentage                           6.0\n",
       "4        Australia  1989  Percentage                           6.5\n",
       "..             ...   ...         ...                           ...\n",
       "913  United States  2013  Percentage                          12.1\n",
       "914  United States  2014  Percentage                          12.1\n",
       "915  United States  2015  Percentage                          12.1\n",
       "916  United States  2016  Percentage                          11.9\n",
       "917  United States  2017  Percentage                          11.8\n",
       "\n",
       "[918 rows x 4 columns]"
      ]
     },
     "execution_count": 5,
     "metadata": {},
     "output_type": "execute_result"
    }
   ],
   "source": [
    "#filter out the desired countries in the dataset\n",
    "share_of_women_inventors_1 = share_of_women_inventors.loc[share_of_women_inventors.Country.isin(countries)]\n",
    "\n",
    "#reset index\n",
    "share_of_women_inventors_1.reset_index(drop='True')"
   ]
  },
  {
   "cell_type": "code",
   "execution_count": 6,
   "metadata": {
    "ExecuteTime": {
     "end_time": "2021-04-28T03:28:28.277933Z",
     "start_time": "2021-04-28T03:28:28.264967Z"
    }
   },
   "outputs": [],
   "source": [
    "years = set(\n",
    "    [\n",
    "        \"2010\",\n",
    "        \"2011\",\n",
    "        \"2012\",\n",
    "        \"2013\",\n",
    "        \"2014\",\n",
    "    ]\n",
    ")"
   ]
  },
  {
   "cell_type": "code",
   "execution_count": 7,
   "metadata": {
    "ExecuteTime": {
     "end_time": "2021-04-28T03:28:28.309125Z",
     "start_time": "2021-04-28T03:28:28.279942Z"
    }
   },
   "outputs": [],
   "source": [
    "#filter out the desired countries in the dataset\n",
    "share_of_women_inventors_final = share_of_women_inventors_1.loc[share_of_women_inventors_1.Year.astype(str).isin(years)]"
   ]
  },
  {
   "cell_type": "code",
   "execution_count": 8,
   "metadata": {
    "ExecuteTime": {
     "end_time": "2021-04-28T03:28:28.340040Z",
     "start_time": "2021-04-28T03:28:28.314111Z"
    }
   },
   "outputs": [
    {
     "data": {
      "text/html": [
       "<div>\n",
       "<style scoped>\n",
       "    .dataframe tbody tr th:only-of-type {\n",
       "        vertical-align: middle;\n",
       "    }\n",
       "\n",
       "    .dataframe tbody tr th {\n",
       "        vertical-align: top;\n",
       "    }\n",
       "\n",
       "    .dataframe thead th {\n",
       "        text-align: right;\n",
       "    }\n",
       "</style>\n",
       "<table border=\"1\" class=\"dataframe\">\n",
       "  <thead>\n",
       "    <tr style=\"text-align: right;\">\n",
       "      <th></th>\n",
       "      <th>Country</th>\n",
       "      <th>Year</th>\n",
       "      <th>Unit</th>\n",
       "      <th>Share of Women Inventors (%)</th>\n",
       "    </tr>\n",
       "  </thead>\n",
       "  <tbody>\n",
       "    <tr>\n",
       "      <td>0</td>\n",
       "      <td>Australia</td>\n",
       "      <td>2010</td>\n",
       "      <td>Percentage</td>\n",
       "      <td>10.7</td>\n",
       "    </tr>\n",
       "    <tr>\n",
       "      <td>1</td>\n",
       "      <td>Australia</td>\n",
       "      <td>2011</td>\n",
       "      <td>Percentage</td>\n",
       "      <td>11.0</td>\n",
       "    </tr>\n",
       "    <tr>\n",
       "      <td>2</td>\n",
       "      <td>Australia</td>\n",
       "      <td>2012</td>\n",
       "      <td>Percentage</td>\n",
       "      <td>11.1</td>\n",
       "    </tr>\n",
       "    <tr>\n",
       "      <td>3</td>\n",
       "      <td>Australia</td>\n",
       "      <td>2013</td>\n",
       "      <td>Percentage</td>\n",
       "      <td>11.4</td>\n",
       "    </tr>\n",
       "    <tr>\n",
       "      <td>4</td>\n",
       "      <td>Australia</td>\n",
       "      <td>2014</td>\n",
       "      <td>Percentage</td>\n",
       "      <td>11.5</td>\n",
       "    </tr>\n",
       "    <tr>\n",
       "      <td>...</td>\n",
       "      <td>...</td>\n",
       "      <td>...</td>\n",
       "      <td>...</td>\n",
       "      <td>...</td>\n",
       "    </tr>\n",
       "    <tr>\n",
       "      <td>160</td>\n",
       "      <td>United States</td>\n",
       "      <td>2010</td>\n",
       "      <td>Percentage</td>\n",
       "      <td>11.7</td>\n",
       "    </tr>\n",
       "    <tr>\n",
       "      <td>161</td>\n",
       "      <td>United States</td>\n",
       "      <td>2011</td>\n",
       "      <td>Percentage</td>\n",
       "      <td>11.7</td>\n",
       "    </tr>\n",
       "    <tr>\n",
       "      <td>162</td>\n",
       "      <td>United States</td>\n",
       "      <td>2012</td>\n",
       "      <td>Percentage</td>\n",
       "      <td>11.8</td>\n",
       "    </tr>\n",
       "    <tr>\n",
       "      <td>163</td>\n",
       "      <td>United States</td>\n",
       "      <td>2013</td>\n",
       "      <td>Percentage</td>\n",
       "      <td>12.1</td>\n",
       "    </tr>\n",
       "    <tr>\n",
       "      <td>164</td>\n",
       "      <td>United States</td>\n",
       "      <td>2014</td>\n",
       "      <td>Percentage</td>\n",
       "      <td>12.1</td>\n",
       "    </tr>\n",
       "  </tbody>\n",
       "</table>\n",
       "<p>165 rows × 4 columns</p>\n",
       "</div>"
      ],
      "text/plain": [
       "           Country  Year        Unit  Share of Women Inventors (%)\n",
       "0        Australia  2010  Percentage                          10.7\n",
       "1        Australia  2011  Percentage                          11.0\n",
       "2        Australia  2012  Percentage                          11.1\n",
       "3        Australia  2013  Percentage                          11.4\n",
       "4        Australia  2014  Percentage                          11.5\n",
       "..             ...   ...         ...                           ...\n",
       "160  United States  2010  Percentage                          11.7\n",
       "161  United States  2011  Percentage                          11.7\n",
       "162  United States  2012  Percentage                          11.8\n",
       "163  United States  2013  Percentage                          12.1\n",
       "164  United States  2014  Percentage                          12.1\n",
       "\n",
       "[165 rows x 4 columns]"
      ]
     },
     "execution_count": 8,
     "metadata": {},
     "output_type": "execute_result"
    }
   ],
   "source": [
    "#view of cleaned dataset\n",
    "share_of_women_inventors_final.head()\n",
    "\n",
    "#reset index\n",
    "share_of_women_inventors_final.reset_index(drop='True')"
   ]
  },
  {
   "cell_type": "code",
   "execution_count": 9,
   "metadata": {
    "ExecuteTime": {
     "end_time": "2021-04-28T03:28:28.355001Z",
     "start_time": "2021-04-28T03:28:28.344031Z"
    }
   },
   "outputs": [
    {
     "data": {
      "text/plain": [
       "(165, 4)"
      ]
     },
     "execution_count": 9,
     "metadata": {},
     "output_type": "execute_result"
    }
   ],
   "source": [
    "#size of the cleaned dataset\n",
    "share_of_women_inventors_final.shape"
   ]
  },
  {
   "cell_type": "markdown",
   "metadata": {},
   "source": [
    "## 2.2 Dataset: Education Factors"
   ]
  },
  {
   "cell_type": "code",
   "execution_count": 10,
   "metadata": {
    "ExecuteTime": {
     "end_time": "2021-04-28T03:28:28.385503Z",
     "start_time": "2021-04-28T03:28:28.357993Z"
    },
    "scrolled": true
   },
   "outputs": [
    {
     "data": {
      "text/html": [
       "<div>\n",
       "<style scoped>\n",
       "    .dataframe tbody tr th:only-of-type {\n",
       "        vertical-align: middle;\n",
       "    }\n",
       "\n",
       "    .dataframe tbody tr th {\n",
       "        vertical-align: top;\n",
       "    }\n",
       "\n",
       "    .dataframe thead th {\n",
       "        text-align: right;\n",
       "    }\n",
       "</style>\n",
       "<table border=\"1\" class=\"dataframe\">\n",
       "  <thead>\n",
       "    <tr style=\"text-align: right;\">\n",
       "      <th></th>\n",
       "      <th>Country</th>\n",
       "      <th>Year</th>\n",
       "      <th>Gross enrolment ratio, tertiary, gender parity index (GPI)</th>\n",
       "    </tr>\n",
       "  </thead>\n",
       "  <tbody>\n",
       "    <tr>\n",
       "      <td>0</td>\n",
       "      <td>Afghanistan</td>\n",
       "      <td>1970</td>\n",
       "      <td>0.16565</td>\n",
       "    </tr>\n",
       "    <tr>\n",
       "      <td>1</td>\n",
       "      <td>Afghanistan</td>\n",
       "      <td>1972</td>\n",
       "      <td>0.15370</td>\n",
       "    </tr>\n",
       "    <tr>\n",
       "      <td>2</td>\n",
       "      <td>Afghanistan</td>\n",
       "      <td>1973</td>\n",
       "      <td>0.18578</td>\n",
       "    </tr>\n",
       "    <tr>\n",
       "      <td>3</td>\n",
       "      <td>Afghanistan</td>\n",
       "      <td>1974</td>\n",
       "      <td>0.16274</td>\n",
       "    </tr>\n",
       "    <tr>\n",
       "      <td>4</td>\n",
       "      <td>Afghanistan</td>\n",
       "      <td>1975</td>\n",
       "      <td>0.16533</td>\n",
       "    </tr>\n",
       "  </tbody>\n",
       "</table>\n",
       "</div>"
      ],
      "text/plain": [
       "       Country  Year  \\\n",
       "0  Afghanistan  1970   \n",
       "1  Afghanistan  1972   \n",
       "2  Afghanistan  1973   \n",
       "3  Afghanistan  1974   \n",
       "4  Afghanistan  1975   \n",
       "\n",
       "   Gross enrolment ratio, tertiary, gender parity index (GPI)  \n",
       "0                                            0.16565           \n",
       "1                                            0.15370           \n",
       "2                                            0.18578           \n",
       "3                                            0.16274           \n",
       "4                                            0.16533           "
      ]
     },
     "execution_count": 10,
     "metadata": {},
     "output_type": "execute_result"
    }
   ],
   "source": [
    "#load raw dataset of GPI enrollment ratio of tertiary education (women to men)\n",
    "gpi = pd.read_csv(\"gpi-tertiary-education.csv\")\n",
    "\n",
    "#get rid of undesired columns\n",
    "gpi = gpi.drop(columns=['Code'])\n",
    "\n",
    "#view of the dataset\n",
    "gpi.head()"
   ]
  },
  {
   "cell_type": "code",
   "execution_count": 11,
   "metadata": {
    "ExecuteTime": {
     "end_time": "2021-04-28T03:28:28.400974Z",
     "start_time": "2021-04-28T03:28:28.388010Z"
    }
   },
   "outputs": [
    {
     "data": {
      "text/plain": [
       "(5382, 3)"
      ]
     },
     "execution_count": 11,
     "metadata": {},
     "output_type": "execute_result"
    }
   ],
   "source": [
    "#size of the dataset\n",
    "gpi.shape"
   ]
  },
  {
   "cell_type": "code",
   "execution_count": 12,
   "metadata": {
    "ExecuteTime": {
     "end_time": "2021-04-28T03:28:28.415934Z",
     "start_time": "2021-04-28T03:28:28.403966Z"
    }
   },
   "outputs": [],
   "source": [
    "#filter out the desired countries in the dataset\n",
    "gpi_1 = gpi.loc[gpi.Country.isin(countries)]"
   ]
  },
  {
   "cell_type": "code",
   "execution_count": 13,
   "metadata": {
    "ExecuteTime": {
     "end_time": "2021-04-28T03:28:28.431893Z",
     "start_time": "2021-04-28T03:28:28.417931Z"
    }
   },
   "outputs": [],
   "source": [
    "#filter out the desired countries in the dataset\n",
    "gpi_final = gpi_1.loc[gpi_1.Year.astype(str).isin(years)]"
   ]
  },
  {
   "cell_type": "code",
   "execution_count": 14,
   "metadata": {
    "ExecuteTime": {
     "end_time": "2021-04-28T03:28:28.461811Z",
     "start_time": "2021-04-28T03:28:28.434885Z"
    }
   },
   "outputs": [
    {
     "data": {
      "text/html": [
       "<div>\n",
       "<style scoped>\n",
       "    .dataframe tbody tr th:only-of-type {\n",
       "        vertical-align: middle;\n",
       "    }\n",
       "\n",
       "    .dataframe tbody tr th {\n",
       "        vertical-align: top;\n",
       "    }\n",
       "\n",
       "    .dataframe thead th {\n",
       "        text-align: right;\n",
       "    }\n",
       "</style>\n",
       "<table border=\"1\" class=\"dataframe\">\n",
       "  <thead>\n",
       "    <tr style=\"text-align: right;\">\n",
       "      <th></th>\n",
       "      <th>Country</th>\n",
       "      <th>Year</th>\n",
       "      <th>Gross enrolment ratio, tertiary, gender parity index (GPI)</th>\n",
       "    </tr>\n",
       "  </thead>\n",
       "  <tbody>\n",
       "    <tr>\n",
       "      <td>0</td>\n",
       "      <td>Australia</td>\n",
       "      <td>2010</td>\n",
       "      <td>1.38099</td>\n",
       "    </tr>\n",
       "    <tr>\n",
       "      <td>1</td>\n",
       "      <td>Australia</td>\n",
       "      <td>2011</td>\n",
       "      <td>1.39396</td>\n",
       "    </tr>\n",
       "    <tr>\n",
       "      <td>2</td>\n",
       "      <td>Australia</td>\n",
       "      <td>2012</td>\n",
       "      <td>1.40529</td>\n",
       "    </tr>\n",
       "    <tr>\n",
       "      <td>3</td>\n",
       "      <td>Australia</td>\n",
       "      <td>2013</td>\n",
       "      <td>1.40312</td>\n",
       "    </tr>\n",
       "    <tr>\n",
       "      <td>4</td>\n",
       "      <td>Australia</td>\n",
       "      <td>2014</td>\n",
       "      <td>1.40312</td>\n",
       "    </tr>\n",
       "    <tr>\n",
       "      <td>...</td>\n",
       "      <td>...</td>\n",
       "      <td>...</td>\n",
       "      <td>...</td>\n",
       "    </tr>\n",
       "    <tr>\n",
       "      <td>160</td>\n",
       "      <td>United States</td>\n",
       "      <td>2010</td>\n",
       "      <td>1.40825</td>\n",
       "    </tr>\n",
       "    <tr>\n",
       "      <td>161</td>\n",
       "      <td>United States</td>\n",
       "      <td>2011</td>\n",
       "      <td>1.40311</td>\n",
       "    </tr>\n",
       "    <tr>\n",
       "      <td>162</td>\n",
       "      <td>United States</td>\n",
       "      <td>2012</td>\n",
       "      <td>1.40738</td>\n",
       "    </tr>\n",
       "    <tr>\n",
       "      <td>163</td>\n",
       "      <td>United States</td>\n",
       "      <td>2013</td>\n",
       "      <td>1.38494</td>\n",
       "    </tr>\n",
       "    <tr>\n",
       "      <td>164</td>\n",
       "      <td>United States</td>\n",
       "      <td>2014</td>\n",
       "      <td>1.37069</td>\n",
       "    </tr>\n",
       "  </tbody>\n",
       "</table>\n",
       "<p>165 rows × 3 columns</p>\n",
       "</div>"
      ],
      "text/plain": [
       "           Country  Year  \\\n",
       "0        Australia  2010   \n",
       "1        Australia  2011   \n",
       "2        Australia  2012   \n",
       "3        Australia  2013   \n",
       "4        Australia  2014   \n",
       "..             ...   ...   \n",
       "160  United States  2010   \n",
       "161  United States  2011   \n",
       "162  United States  2012   \n",
       "163  United States  2013   \n",
       "164  United States  2014   \n",
       "\n",
       "     Gross enrolment ratio, tertiary, gender parity index (GPI)  \n",
       "0                                              1.38099           \n",
       "1                                              1.39396           \n",
       "2                                              1.40529           \n",
       "3                                              1.40312           \n",
       "4                                              1.40312           \n",
       "..                                                 ...           \n",
       "160                                            1.40825           \n",
       "161                                            1.40311           \n",
       "162                                            1.40738           \n",
       "163                                            1.38494           \n",
       "164                                            1.37069           \n",
       "\n",
       "[165 rows x 3 columns]"
      ]
     },
     "execution_count": 14,
     "metadata": {},
     "output_type": "execute_result"
    }
   ],
   "source": [
    "#view of cleaned dataset\n",
    "gpi_final.head()\n",
    "\n",
    "#reset index\n",
    "gpi_final.reset_index(drop='True')"
   ]
  },
  {
   "cell_type": "code",
   "execution_count": 15,
   "metadata": {
    "ExecuteTime": {
     "end_time": "2021-04-28T03:28:28.493239Z",
     "start_time": "2021-04-28T03:28:28.463806Z"
    }
   },
   "outputs": [
    {
     "data": {
      "text/html": [
       "<div>\n",
       "<style scoped>\n",
       "    .dataframe tbody tr th:only-of-type {\n",
       "        vertical-align: middle;\n",
       "    }\n",
       "\n",
       "    .dataframe tbody tr th {\n",
       "        vertical-align: top;\n",
       "    }\n",
       "\n",
       "    .dataframe thead th {\n",
       "        text-align: right;\n",
       "    }\n",
       "</style>\n",
       "<table border=\"1\" class=\"dataframe\">\n",
       "  <thead>\n",
       "    <tr style=\"text-align: right;\">\n",
       "      <th></th>\n",
       "      <th>Country</th>\n",
       "      <th>Year</th>\n",
       "      <th>Gross enrolment ratio, tertiary, gender parity index (GPI)</th>\n",
       "    </tr>\n",
       "  </thead>\n",
       "  <tbody>\n",
       "    <tr>\n",
       "      <td>0</td>\n",
       "      <td>Australia</td>\n",
       "      <td>2010</td>\n",
       "      <td>1.38099</td>\n",
       "    </tr>\n",
       "    <tr>\n",
       "      <td>1</td>\n",
       "      <td>Australia</td>\n",
       "      <td>2011</td>\n",
       "      <td>1.39396</td>\n",
       "    </tr>\n",
       "    <tr>\n",
       "      <td>2</td>\n",
       "      <td>Australia</td>\n",
       "      <td>2012</td>\n",
       "      <td>1.40529</td>\n",
       "    </tr>\n",
       "    <tr>\n",
       "      <td>3</td>\n",
       "      <td>Australia</td>\n",
       "      <td>2013</td>\n",
       "      <td>1.40312</td>\n",
       "    </tr>\n",
       "    <tr>\n",
       "      <td>4</td>\n",
       "      <td>Australia</td>\n",
       "      <td>2014</td>\n",
       "      <td>1.40312</td>\n",
       "    </tr>\n",
       "    <tr>\n",
       "      <td>...</td>\n",
       "      <td>...</td>\n",
       "      <td>...</td>\n",
       "      <td>...</td>\n",
       "    </tr>\n",
       "    <tr>\n",
       "      <td>160</td>\n",
       "      <td>United States</td>\n",
       "      <td>2010</td>\n",
       "      <td>1.40825</td>\n",
       "    </tr>\n",
       "    <tr>\n",
       "      <td>161</td>\n",
       "      <td>United States</td>\n",
       "      <td>2011</td>\n",
       "      <td>1.40311</td>\n",
       "    </tr>\n",
       "    <tr>\n",
       "      <td>162</td>\n",
       "      <td>United States</td>\n",
       "      <td>2012</td>\n",
       "      <td>1.40738</td>\n",
       "    </tr>\n",
       "    <tr>\n",
       "      <td>163</td>\n",
       "      <td>United States</td>\n",
       "      <td>2013</td>\n",
       "      <td>1.38494</td>\n",
       "    </tr>\n",
       "    <tr>\n",
       "      <td>164</td>\n",
       "      <td>United States</td>\n",
       "      <td>2014</td>\n",
       "      <td>1.37069</td>\n",
       "    </tr>\n",
       "  </tbody>\n",
       "</table>\n",
       "<p>165 rows × 3 columns</p>\n",
       "</div>"
      ],
      "text/plain": [
       "           Country  Year  \\\n",
       "0        Australia  2010   \n",
       "1        Australia  2011   \n",
       "2        Australia  2012   \n",
       "3        Australia  2013   \n",
       "4        Australia  2014   \n",
       "..             ...   ...   \n",
       "160  United States  2010   \n",
       "161  United States  2011   \n",
       "162  United States  2012   \n",
       "163  United States  2013   \n",
       "164  United States  2014   \n",
       "\n",
       "     Gross enrolment ratio, tertiary, gender parity index (GPI)  \n",
       "0                                              1.38099           \n",
       "1                                              1.39396           \n",
       "2                                              1.40529           \n",
       "3                                              1.40312           \n",
       "4                                              1.40312           \n",
       "..                                                 ...           \n",
       "160                                            1.40825           \n",
       "161                                            1.40311           \n",
       "162                                            1.40738           \n",
       "163                                            1.38494           \n",
       "164                                            1.37069           \n",
       "\n",
       "[165 rows x 3 columns]"
      ]
     },
     "execution_count": 15,
     "metadata": {},
     "output_type": "execute_result"
    }
   ],
   "source": [
    "#view of cleaned dataset\n",
    "gpi_final.head()\n",
    "\n",
    "#reset index\n",
    "gpi_final.reset_index(drop='True')"
   ]
  },
  {
   "cell_type": "code",
   "execution_count": 16,
   "metadata": {
    "ExecuteTime": {
     "end_time": "2021-04-28T03:28:28.508200Z",
     "start_time": "2021-04-28T03:28:28.496232Z"
    }
   },
   "outputs": [
    {
     "data": {
      "text/plain": [
       "(165, 3)"
      ]
     },
     "execution_count": 16,
     "metadata": {},
     "output_type": "execute_result"
    }
   ],
   "source": [
    "#size of the cleaned dataset\n",
    "gpi_final.shape"
   ]
  },
  {
   "cell_type": "code",
   "execution_count": 17,
   "metadata": {
    "ExecuteTime": {
     "end_time": "2021-04-28T03:28:28.539119Z",
     "start_time": "2021-04-28T03:28:28.511191Z"
    }
   },
   "outputs": [
    {
     "data": {
      "text/html": [
       "<div>\n",
       "<style scoped>\n",
       "    .dataframe tbody tr th:only-of-type {\n",
       "        vertical-align: middle;\n",
       "    }\n",
       "\n",
       "    .dataframe tbody tr th {\n",
       "        vertical-align: top;\n",
       "    }\n",
       "\n",
       "    .dataframe thead th {\n",
       "        text-align: right;\n",
       "    }\n",
       "</style>\n",
       "<table border=\"1\" class=\"dataframe\">\n",
       "  <thead>\n",
       "    <tr style=\"text-align: right;\">\n",
       "      <th></th>\n",
       "      <th>Country</th>\n",
       "      <th>Year</th>\n",
       "      <th>Percentage of graduates from Science and Technology programmes in tertiary education who are female (%)</th>\n",
       "    </tr>\n",
       "  </thead>\n",
       "  <tbody>\n",
       "    <tr>\n",
       "      <td>0</td>\n",
       "      <td>Afghanistan</td>\n",
       "      <td>2014</td>\n",
       "      <td>10.632770</td>\n",
       "    </tr>\n",
       "    <tr>\n",
       "      <td>1</td>\n",
       "      <td>Albania</td>\n",
       "      <td>2000</td>\n",
       "      <td>29.968451</td>\n",
       "    </tr>\n",
       "    <tr>\n",
       "      <td>2</td>\n",
       "      <td>Albania</td>\n",
       "      <td>2003</td>\n",
       "      <td>44.200630</td>\n",
       "    </tr>\n",
       "    <tr>\n",
       "      <td>3</td>\n",
       "      <td>Albania</td>\n",
       "      <td>2011</td>\n",
       "      <td>48.064209</td>\n",
       "    </tr>\n",
       "    <tr>\n",
       "      <td>4</td>\n",
       "      <td>Albania</td>\n",
       "      <td>2013</td>\n",
       "      <td>52.198551</td>\n",
       "    </tr>\n",
       "  </tbody>\n",
       "</table>\n",
       "</div>"
      ],
      "text/plain": [
       "       Country  Year  \\\n",
       "0  Afghanistan  2014   \n",
       "1      Albania  2000   \n",
       "2      Albania  2003   \n",
       "3      Albania  2011   \n",
       "4      Albania  2013   \n",
       "\n",
       "   Percentage of graduates from Science and Technology programmes in tertiary education who are female (%)  \n",
       "0                                          10.632770                                                        \n",
       "1                                          29.968451                                                        \n",
       "2                                          44.200630                                                        \n",
       "3                                          48.064209                                                        \n",
       "4                                          52.198551                                                        "
      ]
     },
     "execution_count": 17,
     "metadata": {},
     "output_type": "execute_result"
    }
   ],
   "source": [
    "#load raw dataset of Percentage of Women in Science and Tech majors\n",
    "sci_tech_women = pd.read_csv(\"share-graduates-stem-female.csv\")\n",
    "\n",
    "#get rid of undesired columns\n",
    "sci_tech_women = sci_tech_women.drop(columns=['Code'])\n",
    "\n",
    "#view of the dataset\n",
    "sci_tech_women.head()"
   ]
  },
  {
   "cell_type": "code",
   "execution_count": 18,
   "metadata": {
    "ExecuteTime": {
     "end_time": "2021-04-28T03:28:28.555076Z",
     "start_time": "2021-04-28T03:28:28.543109Z"
    }
   },
   "outputs": [
    {
     "data": {
      "text/plain": [
       "(1100, 3)"
      ]
     },
     "execution_count": 18,
     "metadata": {},
     "output_type": "execute_result"
    }
   ],
   "source": [
    "#size of the dataset\n",
    "sci_tech_women.shape"
   ]
  },
  {
   "cell_type": "code",
   "execution_count": 19,
   "metadata": {
    "ExecuteTime": {
     "end_time": "2021-04-28T03:28:28.570035Z",
     "start_time": "2021-04-28T03:28:28.557069Z"
    }
   },
   "outputs": [],
   "source": [
    "#filter out the desired countries in the dataset\n",
    "sci_tech_women_1 = sci_tech_women.loc[sci_tech_women.Country.isin(countries)]"
   ]
  },
  {
   "cell_type": "code",
   "execution_count": 20,
   "metadata": {
    "ExecuteTime": {
     "end_time": "2021-04-28T03:28:28.585991Z",
     "start_time": "2021-04-28T03:28:28.572029Z"
    }
   },
   "outputs": [],
   "source": [
    "#filter out the desired countries in the dataset\n",
    "sci_tech_women_final = sci_tech_women_1.loc[sci_tech_women_1.Year.astype(str).isin(years)]"
   ]
  },
  {
   "cell_type": "code",
   "execution_count": 21,
   "metadata": {
    "ExecuteTime": {
     "end_time": "2021-04-28T03:28:28.616421Z",
     "start_time": "2021-04-28T03:28:28.587497Z"
    }
   },
   "outputs": [
    {
     "data": {
      "text/html": [
       "<div>\n",
       "<style scoped>\n",
       "    .dataframe tbody tr th:only-of-type {\n",
       "        vertical-align: middle;\n",
       "    }\n",
       "\n",
       "    .dataframe tbody tr th {\n",
       "        vertical-align: top;\n",
       "    }\n",
       "\n",
       "    .dataframe thead th {\n",
       "        text-align: right;\n",
       "    }\n",
       "</style>\n",
       "<table border=\"1\" class=\"dataframe\">\n",
       "  <thead>\n",
       "    <tr style=\"text-align: right;\">\n",
       "      <th></th>\n",
       "      <th>Country</th>\n",
       "      <th>Year</th>\n",
       "      <th>Percentage of graduates from Science and Technology programmes in tertiary education who are female (%)</th>\n",
       "    </tr>\n",
       "  </thead>\n",
       "  <tbody>\n",
       "    <tr>\n",
       "      <td>0</td>\n",
       "      <td>Australia</td>\n",
       "      <td>2010</td>\n",
       "      <td>29.322420</td>\n",
       "    </tr>\n",
       "    <tr>\n",
       "      <td>1</td>\n",
       "      <td>Australia</td>\n",
       "      <td>2011</td>\n",
       "      <td>29.104170</td>\n",
       "    </tr>\n",
       "    <tr>\n",
       "      <td>2</td>\n",
       "      <td>Australia</td>\n",
       "      <td>2012</td>\n",
       "      <td>NaN</td>\n",
       "    </tr>\n",
       "    <tr>\n",
       "      <td>3</td>\n",
       "      <td>Australia</td>\n",
       "      <td>2013</td>\n",
       "      <td>NaN</td>\n",
       "    </tr>\n",
       "    <tr>\n",
       "      <td>4</td>\n",
       "      <td>Australia</td>\n",
       "      <td>2014</td>\n",
       "      <td>29.765360</td>\n",
       "    </tr>\n",
       "    <tr>\n",
       "      <td>...</td>\n",
       "      <td>...</td>\n",
       "      <td>...</td>\n",
       "      <td>...</td>\n",
       "    </tr>\n",
       "    <tr>\n",
       "      <td>160</td>\n",
       "      <td>United States</td>\n",
       "      <td>2010</td>\n",
       "      <td>30.906891</td>\n",
       "    </tr>\n",
       "    <tr>\n",
       "      <td>161</td>\n",
       "      <td>United States</td>\n",
       "      <td>2011</td>\n",
       "      <td>30.387581</td>\n",
       "    </tr>\n",
       "    <tr>\n",
       "      <td>162</td>\n",
       "      <td>United States</td>\n",
       "      <td>2012</td>\n",
       "      <td>30.390720</td>\n",
       "    </tr>\n",
       "    <tr>\n",
       "      <td>163</td>\n",
       "      <td>United States</td>\n",
       "      <td>2013</td>\n",
       "      <td>31.001530</td>\n",
       "    </tr>\n",
       "    <tr>\n",
       "      <td>164</td>\n",
       "      <td>United States</td>\n",
       "      <td>2014</td>\n",
       "      <td>31.256451</td>\n",
       "    </tr>\n",
       "  </tbody>\n",
       "</table>\n",
       "<p>165 rows × 3 columns</p>\n",
       "</div>"
      ],
      "text/plain": [
       "           Country  Year  \\\n",
       "0        Australia  2010   \n",
       "1        Australia  2011   \n",
       "2        Australia  2012   \n",
       "3        Australia  2013   \n",
       "4        Australia  2014   \n",
       "..             ...   ...   \n",
       "160  United States  2010   \n",
       "161  United States  2011   \n",
       "162  United States  2012   \n",
       "163  United States  2013   \n",
       "164  United States  2014   \n",
       "\n",
       "     Percentage of graduates from Science and Technology programmes in tertiary education who are female (%)  \n",
       "0                                            29.322420                                                        \n",
       "1                                            29.104170                                                        \n",
       "2                                                  NaN                                                        \n",
       "3                                                  NaN                                                        \n",
       "4                                            29.765360                                                        \n",
       "..                                                 ...                                                        \n",
       "160                                          30.906891                                                        \n",
       "161                                          30.387581                                                        \n",
       "162                                          30.390720                                                        \n",
       "163                                          31.001530                                                        \n",
       "164                                          31.256451                                                        \n",
       "\n",
       "[165 rows x 3 columns]"
      ]
     },
     "execution_count": 21,
     "metadata": {},
     "output_type": "execute_result"
    }
   ],
   "source": [
    "#view of cleaned dataset\n",
    "sci_tech_women_final.head()\n",
    "\n",
    "#reset index\n",
    "sci_tech_women_final.reset_index(drop='True')"
   ]
  },
  {
   "cell_type": "code",
   "execution_count": 22,
   "metadata": {
    "ExecuteTime": {
     "end_time": "2021-04-28T03:28:28.648334Z",
     "start_time": "2021-04-28T03:28:28.618415Z"
    }
   },
   "outputs": [
    {
     "data": {
      "text/plain": [
       "(165, 3)"
      ]
     },
     "execution_count": 22,
     "metadata": {},
     "output_type": "execute_result"
    }
   ],
   "source": [
    "#size of the cleaned dataset\n",
    "sci_tech_women_final.shape"
   ]
  },
  {
   "cell_type": "markdown",
   "metadata": {},
   "source": [
    "## 2.3 Dataset: Social Resource Factors"
   ]
  },
  {
   "cell_type": "code",
   "execution_count": 23,
   "metadata": {
    "ExecuteTime": {
     "end_time": "2021-04-28T03:28:28.694211Z",
     "start_time": "2021-04-28T03:28:28.652324Z"
    }
   },
   "outputs": [
    {
     "data": {
      "text/html": [
       "<div>\n",
       "<style scoped>\n",
       "    .dataframe tbody tr th:only-of-type {\n",
       "        vertical-align: middle;\n",
       "    }\n",
       "\n",
       "    .dataframe tbody tr th {\n",
       "        vertical-align: top;\n",
       "    }\n",
       "\n",
       "    .dataframe thead th {\n",
       "        text-align: right;\n",
       "    }\n",
       "</style>\n",
       "<table border=\"1\" class=\"dataframe\">\n",
       "  <thead>\n",
       "    <tr style=\"text-align: right;\">\n",
       "      <th></th>\n",
       "      <th>Country</th>\n",
       "      <th>Indicator</th>\n",
       "      <th>Sex</th>\n",
       "      <th>Time</th>\n",
       "      <th>Value</th>\n",
       "    </tr>\n",
       "  </thead>\n",
       "  <tbody>\n",
       "    <tr>\n",
       "      <td>0</td>\n",
       "      <td>Australia</td>\n",
       "      <td>Access to training on how to start a business</td>\n",
       "      <td>Women</td>\n",
       "      <td>2013</td>\n",
       "      <td>67.871</td>\n",
       "    </tr>\n",
       "    <tr>\n",
       "      <td>1</td>\n",
       "      <td>Australia</td>\n",
       "      <td>Access to money to start a business</td>\n",
       "      <td>Women</td>\n",
       "      <td>2013</td>\n",
       "      <td>41.324</td>\n",
       "    </tr>\n",
       "    <tr>\n",
       "      <td>2</td>\n",
       "      <td>Australia</td>\n",
       "      <td>Access to training on how to start a business</td>\n",
       "      <td>Men</td>\n",
       "      <td>2013</td>\n",
       "      <td>65.745</td>\n",
       "    </tr>\n",
       "    <tr>\n",
       "      <td>3</td>\n",
       "      <td>Australia</td>\n",
       "      <td>Access to money to start a business</td>\n",
       "      <td>Men</td>\n",
       "      <td>2013</td>\n",
       "      <td>57.703</td>\n",
       "    </tr>\n",
       "    <tr>\n",
       "      <td>4</td>\n",
       "      <td>Austria</td>\n",
       "      <td>Access to training on how to start a business</td>\n",
       "      <td>Women</td>\n",
       "      <td>2013</td>\n",
       "      <td>61.505</td>\n",
       "    </tr>\n",
       "  </tbody>\n",
       "</table>\n",
       "</div>"
      ],
      "text/plain": [
       "     Country                                      Indicator    Sex  Time  \\\n",
       "0  Australia  Access to training on how to start a business  Women  2013   \n",
       "1  Australia            Access to money to start a business  Women  2013   \n",
       "2  Australia  Access to training on how to start a business    Men  2013   \n",
       "3  Australia            Access to money to start a business    Men  2013   \n",
       "4    Austria  Access to training on how to start a business  Women  2013   \n",
       "\n",
       "    Value  \n",
       "0  67.871  \n",
       "1  41.324  \n",
       "2  65.745  \n",
       "3  57.703  \n",
       "4  61.505  "
      ]
     },
     "execution_count": 23,
     "metadata": {},
     "output_type": "execute_result"
    }
   ],
   "source": [
    "#load data\n",
    "access_women = pd.read_csv(\"Access_to_training_and_money_to_start_a_business_by_sex.csv\")\n",
    "\n",
    "#get rid of undesired data\n",
    "access_women = access_women.drop(columns=['LOCATION','INDICATOR','SEX','AGE','Age','TIME','Unit Code','Unit','PowerCode Code','PowerCode','Reference Period Code','Reference Period','Flag Codes','Flags'])\n",
    "\n",
    "#view of the dataset\n",
    "access_women.head()"
   ]
  },
  {
   "cell_type": "code",
   "execution_count": 24,
   "metadata": {
    "ExecuteTime": {
     "end_time": "2021-04-28T03:28:28.710169Z",
     "start_time": "2021-04-28T03:28:28.700196Z"
    }
   },
   "outputs": [
    {
     "data": {
      "text/plain": [
       "(152, 5)"
      ]
     },
     "execution_count": 24,
     "metadata": {},
     "output_type": "execute_result"
    }
   ],
   "source": [
    "#view size of datasize\n",
    "access_women.shape"
   ]
  },
  {
   "cell_type": "code",
   "execution_count": 25,
   "metadata": {
    "ExecuteTime": {
     "end_time": "2021-04-28T03:28:28.741086Z",
     "start_time": "2021-04-28T03:28:28.712164Z"
    },
    "scrolled": true
   },
   "outputs": [
    {
     "data": {
      "text/html": [
       "<div>\n",
       "<style scoped>\n",
       "    .dataframe tbody tr th:only-of-type {\n",
       "        vertical-align: middle;\n",
       "    }\n",
       "\n",
       "    .dataframe tbody tr th {\n",
       "        vertical-align: top;\n",
       "    }\n",
       "\n",
       "    .dataframe thead th {\n",
       "        text-align: right;\n",
       "    }\n",
       "</style>\n",
       "<table border=\"1\" class=\"dataframe\">\n",
       "  <thead>\n",
       "    <tr style=\"text-align: right;\">\n",
       "      <th></th>\n",
       "      <th>Country</th>\n",
       "      <th>Indicator</th>\n",
       "      <th>Sex</th>\n",
       "      <th>Time</th>\n",
       "      <th>Value</th>\n",
       "    </tr>\n",
       "  </thead>\n",
       "  <tbody>\n",
       "    <tr>\n",
       "      <td>0</td>\n",
       "      <td>Australia</td>\n",
       "      <td>Access to training on how to start a business</td>\n",
       "      <td>Women</td>\n",
       "      <td>2013</td>\n",
       "      <td>67.871</td>\n",
       "    </tr>\n",
       "    <tr>\n",
       "      <td>4</td>\n",
       "      <td>Austria</td>\n",
       "      <td>Access to training on how to start a business</td>\n",
       "      <td>Women</td>\n",
       "      <td>2013</td>\n",
       "      <td>61.505</td>\n",
       "    </tr>\n",
       "    <tr>\n",
       "      <td>9</td>\n",
       "      <td>Belgium</td>\n",
       "      <td>Access to training on how to start a business</td>\n",
       "      <td>Women</td>\n",
       "      <td>2013</td>\n",
       "      <td>43.878</td>\n",
       "    </tr>\n",
       "    <tr>\n",
       "      <td>13</td>\n",
       "      <td>Brazil</td>\n",
       "      <td>Access to training on how to start a business</td>\n",
       "      <td>Women</td>\n",
       "      <td>2013</td>\n",
       "      <td>20.995</td>\n",
       "    </tr>\n",
       "    <tr>\n",
       "      <td>16</td>\n",
       "      <td>Canada</td>\n",
       "      <td>Access to training on how to start a business</td>\n",
       "      <td>Women</td>\n",
       "      <td>2013</td>\n",
       "      <td>64.711</td>\n",
       "    </tr>\n",
       "  </tbody>\n",
       "</table>\n",
       "</div>"
      ],
      "text/plain": [
       "      Country                                      Indicator    Sex  Time  \\\n",
       "0   Australia  Access to training on how to start a business  Women  2013   \n",
       "4     Austria  Access to training on how to start a business  Women  2013   \n",
       "9     Belgium  Access to training on how to start a business  Women  2013   \n",
       "13     Brazil  Access to training on how to start a business  Women  2013   \n",
       "16     Canada  Access to training on how to start a business  Women  2013   \n",
       "\n",
       "     Value  \n",
       "0   67.871  \n",
       "4   61.505  \n",
       "9   43.878  \n",
       "13  20.995  \n",
       "16  64.711  "
      ]
     },
     "execution_count": 25,
     "metadata": {},
     "output_type": "execute_result"
    }
   ],
   "source": [
    "#get rid of men access\n",
    "access_training_women = access_women.loc[(access_women['Indicator']=='Access to training on how to start a business') & (access_women['Sex']=='Women')]\n",
    "\n",
    "#view of dataset\n",
    "access_training_women.head()"
   ]
  },
  {
   "cell_type": "code",
   "execution_count": 26,
   "metadata": {
    "ExecuteTime": {
     "end_time": "2021-04-28T03:28:28.756053Z",
     "start_time": "2021-04-28T03:28:28.743083Z"
    }
   },
   "outputs": [
    {
     "data": {
      "text/plain": [
       "(38, 5)"
      ]
     },
     "execution_count": 26,
     "metadata": {},
     "output_type": "execute_result"
    }
   ],
   "source": [
    "#size of the new dataset\n",
    "access_training_women.shape"
   ]
  },
  {
   "cell_type": "code",
   "execution_count": 27,
   "metadata": {
    "ExecuteTime": {
     "end_time": "2021-04-28T03:28:28.786969Z",
     "start_time": "2021-04-28T03:28:28.758048Z"
    }
   },
   "outputs": [
    {
     "data": {
      "text/html": [
       "<div>\n",
       "<style scoped>\n",
       "    .dataframe tbody tr th:only-of-type {\n",
       "        vertical-align: middle;\n",
       "    }\n",
       "\n",
       "    .dataframe tbody tr th {\n",
       "        vertical-align: top;\n",
       "    }\n",
       "\n",
       "    .dataframe thead th {\n",
       "        text-align: right;\n",
       "    }\n",
       "</style>\n",
       "<table border=\"1\" class=\"dataframe\">\n",
       "  <thead>\n",
       "    <tr style=\"text-align: right;\">\n",
       "      <th></th>\n",
       "      <th>Country</th>\n",
       "      <th>Year</th>\n",
       "      <th>Percentage of women declaring that they have access to training on how to start a business (%)</th>\n",
       "    </tr>\n",
       "  </thead>\n",
       "  <tbody>\n",
       "    <tr>\n",
       "      <td>0</td>\n",
       "      <td>Australia</td>\n",
       "      <td>2013</td>\n",
       "      <td>67.871</td>\n",
       "    </tr>\n",
       "    <tr>\n",
       "      <td>1</td>\n",
       "      <td>Austria</td>\n",
       "      <td>2013</td>\n",
       "      <td>61.505</td>\n",
       "    </tr>\n",
       "    <tr>\n",
       "      <td>2</td>\n",
       "      <td>Belgium</td>\n",
       "      <td>2013</td>\n",
       "      <td>43.878</td>\n",
       "    </tr>\n",
       "    <tr>\n",
       "      <td>3</td>\n",
       "      <td>Canada</td>\n",
       "      <td>2013</td>\n",
       "      <td>64.711</td>\n",
       "    </tr>\n",
       "    <tr>\n",
       "      <td>4</td>\n",
       "      <td>Chile</td>\n",
       "      <td>2013</td>\n",
       "      <td>29.034</td>\n",
       "    </tr>\n",
       "  </tbody>\n",
       "</table>\n",
       "</div>"
      ],
      "text/plain": [
       "     Country  Year  \\\n",
       "0  Australia  2013   \n",
       "1    Austria  2013   \n",
       "2    Belgium  2013   \n",
       "3     Canada  2013   \n",
       "4      Chile  2013   \n",
       "\n",
       "   Percentage of women declaring that they have access to training on how to start a business (%)  \n",
       "0                                             67.871                                               \n",
       "1                                             61.505                                               \n",
       "2                                             43.878                                               \n",
       "3                                             64.711                                               \n",
       "4                                             29.034                                               "
      ]
     },
     "execution_count": 27,
     "metadata": {},
     "output_type": "execute_result"
    }
   ],
   "source": [
    "#clean and rename columns\n",
    "access_training_women_final = access_training_women.loc[access_training_women.Country.isin(countries)].reset_index()\n",
    "access_training_women_final = access_training_women_final.drop(columns=['index'])\n",
    "\n",
    "access_training_women_final.rename(columns={'Value':'Percentage of women declaring that they have access to training on how to start a business (%)'}, inplace=True)\n",
    "access_training_women_final.rename(columns={'Time':'Year'}, inplace=True)\n",
    "access_training_women_final = access_training_women_final.drop(columns=['Sex','Indicator'])\n",
    "\n",
    "#view of dataset\n",
    "access_training_women_final.head()"
   ]
  },
  {
   "cell_type": "code",
   "execution_count": 28,
   "metadata": {
    "ExecuteTime": {
     "end_time": "2021-04-28T03:28:28.802654Z",
     "start_time": "2021-04-28T03:28:28.788964Z"
    }
   },
   "outputs": [
    {
     "data": {
      "text/plain": [
       "(28, 3)"
      ]
     },
     "execution_count": 28,
     "metadata": {},
     "output_type": "execute_result"
    }
   ],
   "source": [
    "#size of the dataset\n",
    "access_training_women_final.shape"
   ]
  },
  {
   "cell_type": "code",
   "execution_count": 29,
   "metadata": {
    "ExecuteTime": {
     "end_time": "2021-04-28T03:28:28.833571Z",
     "start_time": "2021-04-28T03:28:28.804649Z"
    }
   },
   "outputs": [
    {
     "data": {
      "text/html": [
       "<div>\n",
       "<style scoped>\n",
       "    .dataframe tbody tr th:only-of-type {\n",
       "        vertical-align: middle;\n",
       "    }\n",
       "\n",
       "    .dataframe tbody tr th {\n",
       "        vertical-align: top;\n",
       "    }\n",
       "\n",
       "    .dataframe thead th {\n",
       "        text-align: right;\n",
       "    }\n",
       "</style>\n",
       "<table border=\"1\" class=\"dataframe\">\n",
       "  <thead>\n",
       "    <tr style=\"text-align: right;\">\n",
       "      <th></th>\n",
       "      <th>Country</th>\n",
       "      <th>Indicator</th>\n",
       "      <th>Sex</th>\n",
       "      <th>Time</th>\n",
       "      <th>Value</th>\n",
       "    </tr>\n",
       "  </thead>\n",
       "  <tbody>\n",
       "    <tr>\n",
       "      <td>1</td>\n",
       "      <td>Australia</td>\n",
       "      <td>Access to money to start a business</td>\n",
       "      <td>Women</td>\n",
       "      <td>2013</td>\n",
       "      <td>41.324</td>\n",
       "    </tr>\n",
       "    <tr>\n",
       "      <td>5</td>\n",
       "      <td>Austria</td>\n",
       "      <td>Access to money to start a business</td>\n",
       "      <td>Women</td>\n",
       "      <td>2013</td>\n",
       "      <td>48.044</td>\n",
       "    </tr>\n",
       "    <tr>\n",
       "      <td>8</td>\n",
       "      <td>Belgium</td>\n",
       "      <td>Access to money to start a business</td>\n",
       "      <td>Women</td>\n",
       "      <td>2013</td>\n",
       "      <td>32.129</td>\n",
       "    </tr>\n",
       "    <tr>\n",
       "      <td>12</td>\n",
       "      <td>Brazil</td>\n",
       "      <td>Access to money to start a business</td>\n",
       "      <td>Women</td>\n",
       "      <td>2013</td>\n",
       "      <td>16.677</td>\n",
       "    </tr>\n",
       "    <tr>\n",
       "      <td>17</td>\n",
       "      <td>Canada</td>\n",
       "      <td>Access to money to start a business</td>\n",
       "      <td>Women</td>\n",
       "      <td>2013</td>\n",
       "      <td>49.541</td>\n",
       "    </tr>\n",
       "  </tbody>\n",
       "</table>\n",
       "</div>"
      ],
      "text/plain": [
       "      Country                            Indicator    Sex  Time   Value\n",
       "1   Australia  Access to money to start a business  Women  2013  41.324\n",
       "5     Austria  Access to money to start a business  Women  2013  48.044\n",
       "8     Belgium  Access to money to start a business  Women  2013  32.129\n",
       "12     Brazil  Access to money to start a business  Women  2013  16.677\n",
       "17     Canada  Access to money to start a business  Women  2013  49.541"
      ]
     },
     "execution_count": 29,
     "metadata": {},
     "output_type": "execute_result"
    }
   ],
   "source": [
    "#get rid of men stats\n",
    "access_money_women = access_women.loc[(access_women['Indicator']=='Access to money to start a business') & (access_women['Sex']=='Women')]\n",
    "\n",
    "#view of dataset\n",
    "access_money_women.head()"
   ]
  },
  {
   "cell_type": "code",
   "execution_count": 30,
   "metadata": {
    "ExecuteTime": {
     "end_time": "2021-04-28T03:28:28.848531Z",
     "start_time": "2021-04-28T03:28:28.835567Z"
    }
   },
   "outputs": [
    {
     "data": {
      "text/plain": [
       "(38, 5)"
      ]
     },
     "execution_count": 30,
     "metadata": {},
     "output_type": "execute_result"
    }
   ],
   "source": [
    "#size of the dataset\n",
    "access_money_women.shape"
   ]
  },
  {
   "cell_type": "code",
   "execution_count": 31,
   "metadata": {
    "ExecuteTime": {
     "end_time": "2021-04-28T03:28:28.879151Z",
     "start_time": "2021-04-28T03:28:28.850527Z"
    }
   },
   "outputs": [
    {
     "data": {
      "text/html": [
       "<div>\n",
       "<style scoped>\n",
       "    .dataframe tbody tr th:only-of-type {\n",
       "        vertical-align: middle;\n",
       "    }\n",
       "\n",
       "    .dataframe tbody tr th {\n",
       "        vertical-align: top;\n",
       "    }\n",
       "\n",
       "    .dataframe thead th {\n",
       "        text-align: right;\n",
       "    }\n",
       "</style>\n",
       "<table border=\"1\" class=\"dataframe\">\n",
       "  <thead>\n",
       "    <tr style=\"text-align: right;\">\n",
       "      <th></th>\n",
       "      <th>Country</th>\n",
       "      <th>Year</th>\n",
       "      <th>Percentage of women declaring that they have access to money to start a business (%)</th>\n",
       "    </tr>\n",
       "  </thead>\n",
       "  <tbody>\n",
       "    <tr>\n",
       "      <td>0</td>\n",
       "      <td>Australia</td>\n",
       "      <td>2013</td>\n",
       "      <td>41.324</td>\n",
       "    </tr>\n",
       "    <tr>\n",
       "      <td>1</td>\n",
       "      <td>Austria</td>\n",
       "      <td>2013</td>\n",
       "      <td>48.044</td>\n",
       "    </tr>\n",
       "    <tr>\n",
       "      <td>2</td>\n",
       "      <td>Belgium</td>\n",
       "      <td>2013</td>\n",
       "      <td>32.129</td>\n",
       "    </tr>\n",
       "    <tr>\n",
       "      <td>3</td>\n",
       "      <td>Canada</td>\n",
       "      <td>2013</td>\n",
       "      <td>49.541</td>\n",
       "    </tr>\n",
       "    <tr>\n",
       "      <td>4</td>\n",
       "      <td>Chile</td>\n",
       "      <td>2013</td>\n",
       "      <td>18.017</td>\n",
       "    </tr>\n",
       "  </tbody>\n",
       "</table>\n",
       "</div>"
      ],
      "text/plain": [
       "     Country  Year  \\\n",
       "0  Australia  2013   \n",
       "1    Austria  2013   \n",
       "2    Belgium  2013   \n",
       "3     Canada  2013   \n",
       "4      Chile  2013   \n",
       "\n",
       "   Percentage of women declaring that they have access to money to start a business (%)  \n",
       "0                                             41.324                                     \n",
       "1                                             48.044                                     \n",
       "2                                             32.129                                     \n",
       "3                                             49.541                                     \n",
       "4                                             18.017                                     "
      ]
     },
     "execution_count": 31,
     "metadata": {},
     "output_type": "execute_result"
    }
   ],
   "source": [
    "#clean and rename columns\n",
    "access_money_women_final = access_money_women.loc[access_money_women.Country.isin(countries)].reset_index()\n",
    "access_money_women_final = access_money_women_final.drop(columns=['index'])\n",
    "\n",
    "access_money_women_final.rename(columns={'Value':'Percentage of women declaring that they have access to money to start a business (%)'}, inplace=True)\n",
    "access_money_women_final.rename(columns={'Time':'Year'}, inplace=True)\n",
    "access_money_women_final = access_money_women_final.drop(columns=['Sex','Indicator'])\n",
    "\n",
    "#size of the dataset\n",
    "access_money_women_final.head()"
   ]
  },
  {
   "cell_type": "code",
   "execution_count": 32,
   "metadata": {
    "ExecuteTime": {
     "end_time": "2021-04-28T03:28:28.895108Z",
     "start_time": "2021-04-28T03:28:28.881146Z"
    }
   },
   "outputs": [
    {
     "data": {
      "text/plain": [
       "(28, 3)"
      ]
     },
     "execution_count": 32,
     "metadata": {},
     "output_type": "execute_result"
    }
   ],
   "source": [
    "#size of the dataset\n",
    "access_money_women_final.shape"
   ]
  },
  {
   "cell_type": "markdown",
   "metadata": {},
   "source": [
    "## 2.4 Dataset: Attitude Factor"
   ]
  },
  {
   "cell_type": "code",
   "execution_count": 33,
   "metadata": {
    "ExecuteTime": {
     "end_time": "2021-04-28T03:28:28.925754Z",
     "start_time": "2021-04-28T03:28:28.897104Z"
    }
   },
   "outputs": [
    {
     "data": {
      "text/html": [
       "<div>\n",
       "<style scoped>\n",
       "    .dataframe tbody tr th:only-of-type {\n",
       "        vertical-align: middle;\n",
       "    }\n",
       "\n",
       "    .dataframe tbody tr th {\n",
       "        vertical-align: top;\n",
       "    }\n",
       "\n",
       "    .dataframe thead th {\n",
       "        text-align: right;\n",
       "    }\n",
       "</style>\n",
       "<table border=\"1\" class=\"dataframe\">\n",
       "  <thead>\n",
       "    <tr style=\"text-align: right;\">\n",
       "      <th></th>\n",
       "      <th>Country</th>\n",
       "      <th>Indicator</th>\n",
       "      <th>Sex</th>\n",
       "      <th>Time</th>\n",
       "      <th>Value</th>\n",
       "    </tr>\n",
       "  </thead>\n",
       "  <tbody>\n",
       "    <tr>\n",
       "      <td>0</td>\n",
       "      <td>Australia</td>\n",
       "      <td>Attitude towards entrepreneurial risk</td>\n",
       "      <td>Women</td>\n",
       "      <td>2013</td>\n",
       "      <td>45.305</td>\n",
       "    </tr>\n",
       "    <tr>\n",
       "      <td>1</td>\n",
       "      <td>Australia</td>\n",
       "      <td>Attitude towards entrepreneurial risk</td>\n",
       "      <td>Men</td>\n",
       "      <td>2013</td>\n",
       "      <td>53.772</td>\n",
       "    </tr>\n",
       "    <tr>\n",
       "      <td>2</td>\n",
       "      <td>Austria</td>\n",
       "      <td>Attitude towards entrepreneurial risk</td>\n",
       "      <td>Women</td>\n",
       "      <td>2013</td>\n",
       "      <td>23.726</td>\n",
       "    </tr>\n",
       "    <tr>\n",
       "      <td>3</td>\n",
       "      <td>Austria</td>\n",
       "      <td>Attitude towards entrepreneurial risk</td>\n",
       "      <td>Men</td>\n",
       "      <td>2013</td>\n",
       "      <td>39.002</td>\n",
       "    </tr>\n",
       "    <tr>\n",
       "      <td>4</td>\n",
       "      <td>Belgium</td>\n",
       "      <td>Attitude towards entrepreneurial risk</td>\n",
       "      <td>Women</td>\n",
       "      <td>2013</td>\n",
       "      <td>31.192</td>\n",
       "    </tr>\n",
       "  </tbody>\n",
       "</table>\n",
       "</div>"
      ],
      "text/plain": [
       "     Country                              Indicator    Sex  Time   Value\n",
       "0  Australia  Attitude towards entrepreneurial risk  Women  2013  45.305\n",
       "1  Australia  Attitude towards entrepreneurial risk    Men  2013  53.772\n",
       "2    Austria  Attitude towards entrepreneurial risk  Women  2013  23.726\n",
       "3    Austria  Attitude towards entrepreneurial risk    Men  2013  39.002\n",
       "4    Belgium  Attitude towards entrepreneurial risk  Women  2013  31.192"
      ]
     },
     "execution_count": 33,
     "metadata": {},
     "output_type": "execute_result"
    }
   ],
   "source": [
    "#load data\n",
    "attitude_risk_women = pd.read_csv(\"Attitude_towards_entrepreneurial_risk_by_sex.csv\")\n",
    "\n",
    "#get rid of undesired data\n",
    "attitude_risk_women = attitude_risk_women.drop(columns=['LOCATION','INDICATOR','SEX','AGE','Age','TIME','Unit Code','Unit','PowerCode Code','PowerCode','Reference Period Code','Reference Period','Flag Codes','Flags'])\n",
    "\n",
    "#view of the dataset\n",
    "attitude_risk_women.head()"
   ]
  },
  {
   "cell_type": "code",
   "execution_count": 34,
   "metadata": {
    "ExecuteTime": {
     "end_time": "2021-04-28T03:28:28.940712Z",
     "start_time": "2021-04-28T03:28:28.927752Z"
    }
   },
   "outputs": [
    {
     "data": {
      "text/plain": [
       "(76, 5)"
      ]
     },
     "execution_count": 34,
     "metadata": {},
     "output_type": "execute_result"
    }
   ],
   "source": [
    "#size of the dataset\n",
    "attitude_risk_women.shape"
   ]
  },
  {
   "cell_type": "code",
   "execution_count": 35,
   "metadata": {
    "ExecuteTime": {
     "end_time": "2021-04-28T03:28:28.956223Z",
     "start_time": "2021-04-28T03:28:28.941710Z"
    }
   },
   "outputs": [
    {
     "data": {
      "text/html": [
       "<div>\n",
       "<style scoped>\n",
       "    .dataframe tbody tr th:only-of-type {\n",
       "        vertical-align: middle;\n",
       "    }\n",
       "\n",
       "    .dataframe tbody tr th {\n",
       "        vertical-align: top;\n",
       "    }\n",
       "\n",
       "    .dataframe thead th {\n",
       "        text-align: right;\n",
       "    }\n",
       "</style>\n",
       "<table border=\"1\" class=\"dataframe\">\n",
       "  <thead>\n",
       "    <tr style=\"text-align: right;\">\n",
       "      <th></th>\n",
       "      <th>Country</th>\n",
       "      <th>Indicator</th>\n",
       "      <th>Sex</th>\n",
       "      <th>Time</th>\n",
       "      <th>Value</th>\n",
       "    </tr>\n",
       "  </thead>\n",
       "  <tbody>\n",
       "    <tr>\n",
       "      <td>0</td>\n",
       "      <td>Australia</td>\n",
       "      <td>Attitude towards entrepreneurial risk</td>\n",
       "      <td>Women</td>\n",
       "      <td>2013</td>\n",
       "      <td>45.305</td>\n",
       "    </tr>\n",
       "    <tr>\n",
       "      <td>2</td>\n",
       "      <td>Austria</td>\n",
       "      <td>Attitude towards entrepreneurial risk</td>\n",
       "      <td>Women</td>\n",
       "      <td>2013</td>\n",
       "      <td>23.726</td>\n",
       "    </tr>\n",
       "    <tr>\n",
       "      <td>4</td>\n",
       "      <td>Belgium</td>\n",
       "      <td>Attitude towards entrepreneurial risk</td>\n",
       "      <td>Women</td>\n",
       "      <td>2013</td>\n",
       "      <td>31.192</td>\n",
       "    </tr>\n",
       "    <tr>\n",
       "      <td>6</td>\n",
       "      <td>Brazil</td>\n",
       "      <td>Attitude towards entrepreneurial risk</td>\n",
       "      <td>Women</td>\n",
       "      <td>2013</td>\n",
       "      <td>59.766</td>\n",
       "    </tr>\n",
       "    <tr>\n",
       "      <td>8</td>\n",
       "      <td>Canada</td>\n",
       "      <td>Attitude towards entrepreneurial risk</td>\n",
       "      <td>Women</td>\n",
       "      <td>2013</td>\n",
       "      <td>56.682</td>\n",
       "    </tr>\n",
       "  </tbody>\n",
       "</table>\n",
       "</div>"
      ],
      "text/plain": [
       "     Country                              Indicator    Sex  Time   Value\n",
       "0  Australia  Attitude towards entrepreneurial risk  Women  2013  45.305\n",
       "2    Austria  Attitude towards entrepreneurial risk  Women  2013  23.726\n",
       "4    Belgium  Attitude towards entrepreneurial risk  Women  2013  31.192\n",
       "6     Brazil  Attitude towards entrepreneurial risk  Women  2013  59.766\n",
       "8     Canada  Attitude towards entrepreneurial risk  Women  2013  56.682"
      ]
     },
     "execution_count": 35,
     "metadata": {},
     "output_type": "execute_result"
    }
   ],
   "source": [
    "#get rid of men attitudes\n",
    "attitude_risk_women = attitude_risk_women.loc[(attitude_risk_women['Indicator']=='Attitude towards entrepreneurial risk') & (attitude_risk_women['Sex']=='Women')]\n",
    "\n",
    "#view of the dataset\n",
    "attitude_risk_women.head()"
   ]
  },
  {
   "cell_type": "code",
   "execution_count": 36,
   "metadata": {
    "ExecuteTime": {
     "end_time": "2021-04-28T03:28:28.972140Z",
     "start_time": "2021-04-28T03:28:28.959178Z"
    }
   },
   "outputs": [
    {
     "data": {
      "text/plain": [
       "(38, 5)"
      ]
     },
     "execution_count": 36,
     "metadata": {},
     "output_type": "execute_result"
    }
   ],
   "source": [
    "#size of the dataset\n",
    "attitude_risk_women.shape"
   ]
  },
  {
   "cell_type": "code",
   "execution_count": 37,
   "metadata": {
    "ExecuteTime": {
     "end_time": "2021-04-28T03:28:29.003063Z",
     "start_time": "2021-04-28T03:28:28.974136Z"
    }
   },
   "outputs": [
    {
     "data": {
      "text/html": [
       "<div>\n",
       "<style scoped>\n",
       "    .dataframe tbody tr th:only-of-type {\n",
       "        vertical-align: middle;\n",
       "    }\n",
       "\n",
       "    .dataframe tbody tr th {\n",
       "        vertical-align: top;\n",
       "    }\n",
       "\n",
       "    .dataframe thead th {\n",
       "        text-align: right;\n",
       "    }\n",
       "</style>\n",
       "<table border=\"1\" class=\"dataframe\">\n",
       "  <thead>\n",
       "    <tr style=\"text-align: right;\">\n",
       "      <th></th>\n",
       "      <th>Country</th>\n",
       "      <th>Year</th>\n",
       "      <th>Percentage of women prefering taking a risk and starting a new business to working for someone else (%)</th>\n",
       "    </tr>\n",
       "  </thead>\n",
       "  <tbody>\n",
       "    <tr>\n",
       "      <td>0</td>\n",
       "      <td>Australia</td>\n",
       "      <td>2013</td>\n",
       "      <td>45.305</td>\n",
       "    </tr>\n",
       "    <tr>\n",
       "      <td>1</td>\n",
       "      <td>Austria</td>\n",
       "      <td>2013</td>\n",
       "      <td>23.726</td>\n",
       "    </tr>\n",
       "    <tr>\n",
       "      <td>2</td>\n",
       "      <td>Belgium</td>\n",
       "      <td>2013</td>\n",
       "      <td>31.192</td>\n",
       "    </tr>\n",
       "    <tr>\n",
       "      <td>3</td>\n",
       "      <td>Canada</td>\n",
       "      <td>2013</td>\n",
       "      <td>56.682</td>\n",
       "    </tr>\n",
       "    <tr>\n",
       "      <td>4</td>\n",
       "      <td>Chile</td>\n",
       "      <td>2013</td>\n",
       "      <td>70.783</td>\n",
       "    </tr>\n",
       "  </tbody>\n",
       "</table>\n",
       "</div>"
      ],
      "text/plain": [
       "     Country  Year  \\\n",
       "0  Australia  2013   \n",
       "1    Austria  2013   \n",
       "2    Belgium  2013   \n",
       "3     Canada  2013   \n",
       "4      Chile  2013   \n",
       "\n",
       "   Percentage of women prefering taking a risk and starting a new business to working for someone else (%)  \n",
       "0                                             45.305                                                        \n",
       "1                                             23.726                                                        \n",
       "2                                             31.192                                                        \n",
       "3                                             56.682                                                        \n",
       "4                                             70.783                                                        "
      ]
     },
     "execution_count": 37,
     "metadata": {},
     "output_type": "execute_result"
    }
   ],
   "source": [
    "#clean and rename columns\n",
    "attitude_risk_women_final = attitude_risk_women.loc[attitude_risk_women.Country.isin(countries)].reset_index()\n",
    "attitude_risk_women_final = attitude_risk_women_final.drop(columns=['index'])\n",
    "\n",
    "attitude_risk_women_final.rename(columns={'Value':'Percentage of women prefering taking a risk and starting a new business to working for someone else (%)'}, inplace=True)\n",
    "attitude_risk_women_final.rename(columns={'Time':'Year'}, inplace=True)\n",
    "attitude_risk_women_final = attitude_risk_women_final.drop(columns=['Sex','Indicator'])\n",
    "\n",
    "#view of the dataset\n",
    "attitude_risk_women_final.head()"
   ]
  },
  {
   "cell_type": "code",
   "execution_count": 38,
   "metadata": {
    "ExecuteTime": {
     "end_time": "2021-04-28T03:28:29.019017Z",
     "start_time": "2021-04-28T03:28:29.007048Z"
    }
   },
   "outputs": [
    {
     "data": {
      "text/plain": [
       "(28, 3)"
      ]
     },
     "execution_count": 38,
     "metadata": {},
     "output_type": "execute_result"
    }
   ],
   "source": [
    "#size of the dataset\n",
    "attitude_risk_women_final.shape"
   ]
  },
  {
   "cell_type": "markdown",
   "metadata": {},
   "source": [
    "## 2.5 Dataset Merge"
   ]
  },
  {
   "cell_type": "code",
   "execution_count": 39,
   "metadata": {
    "ExecuteTime": {
     "end_time": "2021-04-28T03:28:29.049933Z",
     "start_time": "2021-04-28T03:28:29.021009Z"
    }
   },
   "outputs": [
    {
     "data": {
      "text/html": [
       "<div>\n",
       "<style scoped>\n",
       "    .dataframe tbody tr th:only-of-type {\n",
       "        vertical-align: middle;\n",
       "    }\n",
       "\n",
       "    .dataframe tbody tr th {\n",
       "        vertical-align: top;\n",
       "    }\n",
       "\n",
       "    .dataframe thead th {\n",
       "        text-align: right;\n",
       "    }\n",
       "</style>\n",
       "<table border=\"1\" class=\"dataframe\">\n",
       "  <thead>\n",
       "    <tr style=\"text-align: right;\">\n",
       "      <th></th>\n",
       "      <th>Country</th>\n",
       "      <th>Year</th>\n",
       "      <th>Gross enrolment ratio, tertiary, gender parity index (GPI)</th>\n",
       "      <th>Percentage of graduates from Science and Technology programmes in tertiary education who are female (%)</th>\n",
       "    </tr>\n",
       "  </thead>\n",
       "  <tbody>\n",
       "    <tr>\n",
       "      <td>0</td>\n",
       "      <td>Australia</td>\n",
       "      <td>2010</td>\n",
       "      <td>1.38099</td>\n",
       "      <td>29.322420</td>\n",
       "    </tr>\n",
       "    <tr>\n",
       "      <td>1</td>\n",
       "      <td>Australia</td>\n",
       "      <td>2011</td>\n",
       "      <td>1.39396</td>\n",
       "      <td>29.104170</td>\n",
       "    </tr>\n",
       "    <tr>\n",
       "      <td>2</td>\n",
       "      <td>Australia</td>\n",
       "      <td>2012</td>\n",
       "      <td>1.40529</td>\n",
       "      <td>NaN</td>\n",
       "    </tr>\n",
       "    <tr>\n",
       "      <td>3</td>\n",
       "      <td>Australia</td>\n",
       "      <td>2013</td>\n",
       "      <td>1.40312</td>\n",
       "      <td>NaN</td>\n",
       "    </tr>\n",
       "    <tr>\n",
       "      <td>4</td>\n",
       "      <td>Australia</td>\n",
       "      <td>2014</td>\n",
       "      <td>1.40312</td>\n",
       "      <td>29.765360</td>\n",
       "    </tr>\n",
       "    <tr>\n",
       "      <td>...</td>\n",
       "      <td>...</td>\n",
       "      <td>...</td>\n",
       "      <td>...</td>\n",
       "      <td>...</td>\n",
       "    </tr>\n",
       "    <tr>\n",
       "      <td>160</td>\n",
       "      <td>United States</td>\n",
       "      <td>2010</td>\n",
       "      <td>1.40825</td>\n",
       "      <td>30.906891</td>\n",
       "    </tr>\n",
       "    <tr>\n",
       "      <td>161</td>\n",
       "      <td>United States</td>\n",
       "      <td>2011</td>\n",
       "      <td>1.40311</td>\n",
       "      <td>30.387581</td>\n",
       "    </tr>\n",
       "    <tr>\n",
       "      <td>162</td>\n",
       "      <td>United States</td>\n",
       "      <td>2012</td>\n",
       "      <td>1.40738</td>\n",
       "      <td>30.390720</td>\n",
       "    </tr>\n",
       "    <tr>\n",
       "      <td>163</td>\n",
       "      <td>United States</td>\n",
       "      <td>2013</td>\n",
       "      <td>1.38494</td>\n",
       "      <td>31.001530</td>\n",
       "    </tr>\n",
       "    <tr>\n",
       "      <td>164</td>\n",
       "      <td>United States</td>\n",
       "      <td>2014</td>\n",
       "      <td>1.37069</td>\n",
       "      <td>31.256451</td>\n",
       "    </tr>\n",
       "  </tbody>\n",
       "</table>\n",
       "<p>165 rows × 4 columns</p>\n",
       "</div>"
      ],
      "text/plain": [
       "           Country  Year  \\\n",
       "0        Australia  2010   \n",
       "1        Australia  2011   \n",
       "2        Australia  2012   \n",
       "3        Australia  2013   \n",
       "4        Australia  2014   \n",
       "..             ...   ...   \n",
       "160  United States  2010   \n",
       "161  United States  2011   \n",
       "162  United States  2012   \n",
       "163  United States  2013   \n",
       "164  United States  2014   \n",
       "\n",
       "     Gross enrolment ratio, tertiary, gender parity index (GPI)  \\\n",
       "0                                              1.38099            \n",
       "1                                              1.39396            \n",
       "2                                              1.40529            \n",
       "3                                              1.40312            \n",
       "4                                              1.40312            \n",
       "..                                                 ...            \n",
       "160                                            1.40825            \n",
       "161                                            1.40311            \n",
       "162                                            1.40738            \n",
       "163                                            1.38494            \n",
       "164                                            1.37069            \n",
       "\n",
       "     Percentage of graduates from Science and Technology programmes in tertiary education who are female (%)  \n",
       "0                                            29.322420                                                        \n",
       "1                                            29.104170                                                        \n",
       "2                                                  NaN                                                        \n",
       "3                                                  NaN                                                        \n",
       "4                                            29.765360                                                        \n",
       "..                                                 ...                                                        \n",
       "160                                          30.906891                                                        \n",
       "161                                          30.387581                                                        \n",
       "162                                          30.390720                                                        \n",
       "163                                          31.001530                                                        \n",
       "164                                          31.256451                                                        \n",
       "\n",
       "[165 rows x 4 columns]"
      ]
     },
     "execution_count": 39,
     "metadata": {},
     "output_type": "execute_result"
    }
   ],
   "source": [
    "#merge datasets of education factors\n",
    "education = pd.merge(gpi_final, sci_tech_women_final,how='outer')\n",
    "\n",
    "#view of the new dataset\n",
    "education.head(165)"
   ]
  },
  {
   "cell_type": "code",
   "execution_count": 40,
   "metadata": {
    "ExecuteTime": {
     "end_time": "2021-04-28T03:28:29.095809Z",
     "start_time": "2021-04-28T03:28:29.050930Z"
    }
   },
   "outputs": [
    {
     "data": {
      "text/plain": [
       "(165, 4)"
      ]
     },
     "execution_count": 40,
     "metadata": {},
     "output_type": "execute_result"
    }
   ],
   "source": [
    "#size of the new dataset\n",
    "education.shape"
   ]
  },
  {
   "cell_type": "code",
   "execution_count": 41,
   "metadata": {
    "ExecuteTime": {
     "end_time": "2021-04-28T03:28:29.126728Z",
     "start_time": "2021-04-28T03:28:29.097806Z"
    }
   },
   "outputs": [
    {
     "data": {
      "text/html": [
       "<div>\n",
       "<style scoped>\n",
       "    .dataframe tbody tr th:only-of-type {\n",
       "        vertical-align: middle;\n",
       "    }\n",
       "\n",
       "    .dataframe tbody tr th {\n",
       "        vertical-align: top;\n",
       "    }\n",
       "\n",
       "    .dataframe thead th {\n",
       "        text-align: right;\n",
       "    }\n",
       "</style>\n",
       "<table border=\"1\" class=\"dataframe\">\n",
       "  <thead>\n",
       "    <tr style=\"text-align: right;\">\n",
       "      <th></th>\n",
       "      <th>Country</th>\n",
       "      <th>Year</th>\n",
       "      <th>Unit</th>\n",
       "      <th>Share of Women Inventors (%)</th>\n",
       "      <th>Gross enrolment ratio, tertiary, gender parity index (GPI)</th>\n",
       "      <th>Percentage of graduates from Science and Technology programmes in tertiary education who are female (%)</th>\n",
       "    </tr>\n",
       "  </thead>\n",
       "  <tbody>\n",
       "    <tr>\n",
       "      <td>0</td>\n",
       "      <td>Australia</td>\n",
       "      <td>2010</td>\n",
       "      <td>Percentage</td>\n",
       "      <td>10.7</td>\n",
       "      <td>1.38099</td>\n",
       "      <td>29.32242</td>\n",
       "    </tr>\n",
       "    <tr>\n",
       "      <td>1</td>\n",
       "      <td>Australia</td>\n",
       "      <td>2011</td>\n",
       "      <td>Percentage</td>\n",
       "      <td>11.0</td>\n",
       "      <td>1.39396</td>\n",
       "      <td>29.10417</td>\n",
       "    </tr>\n",
       "    <tr>\n",
       "      <td>2</td>\n",
       "      <td>Australia</td>\n",
       "      <td>2012</td>\n",
       "      <td>Percentage</td>\n",
       "      <td>11.1</td>\n",
       "      <td>1.40529</td>\n",
       "      <td>NaN</td>\n",
       "    </tr>\n",
       "    <tr>\n",
       "      <td>3</td>\n",
       "      <td>Australia</td>\n",
       "      <td>2013</td>\n",
       "      <td>Percentage</td>\n",
       "      <td>11.4</td>\n",
       "      <td>1.40312</td>\n",
       "      <td>NaN</td>\n",
       "    </tr>\n",
       "    <tr>\n",
       "      <td>4</td>\n",
       "      <td>Australia</td>\n",
       "      <td>2014</td>\n",
       "      <td>Percentage</td>\n",
       "      <td>11.5</td>\n",
       "      <td>1.40312</td>\n",
       "      <td>29.76536</td>\n",
       "    </tr>\n",
       "  </tbody>\n",
       "</table>\n",
       "</div>"
      ],
      "text/plain": [
       "     Country  Year        Unit  Share of Women Inventors (%)  \\\n",
       "0  Australia  2010  Percentage                          10.7   \n",
       "1  Australia  2011  Percentage                          11.0   \n",
       "2  Australia  2012  Percentage                          11.1   \n",
       "3  Australia  2013  Percentage                          11.4   \n",
       "4  Australia  2014  Percentage                          11.5   \n",
       "\n",
       "   Gross enrolment ratio, tertiary, gender parity index (GPI)  \\\n",
       "0                                            1.38099            \n",
       "1                                            1.39396            \n",
       "2                                            1.40529            \n",
       "3                                            1.40312            \n",
       "4                                            1.40312            \n",
       "\n",
       "   Percentage of graduates from Science and Technology programmes in tertiary education who are female (%)  \n",
       "0                                           29.32242                                                        \n",
       "1                                           29.10417                                                        \n",
       "2                                                NaN                                                        \n",
       "3                                                NaN                                                        \n",
       "4                                           29.76536                                                        "
      ]
     },
     "execution_count": 41,
     "metadata": {},
     "output_type": "execute_result"
    }
   ],
   "source": [
    "#merge datasets of education factors\n",
    "result = pd.merge(share_of_women_inventors_final, education, on=['Year','Country'])\n",
    "\n",
    "#view of new dataset\n",
    "result.head()"
   ]
  },
  {
   "cell_type": "code",
   "execution_count": 42,
   "metadata": {
    "ExecuteTime": {
     "end_time": "2021-04-28T03:28:29.141686Z",
     "start_time": "2021-04-28T03:28:29.128722Z"
    }
   },
   "outputs": [
    {
     "data": {
      "text/plain": [
       "(165, 6)"
      ]
     },
     "execution_count": 42,
     "metadata": {},
     "output_type": "execute_result"
    }
   ],
   "source": [
    "result.shape"
   ]
  },
  {
   "cell_type": "code",
   "execution_count": 43,
   "metadata": {
    "ExecuteTime": {
     "end_time": "2021-04-28T03:28:29.171607Z",
     "start_time": "2021-04-28T03:28:29.143682Z"
    },
    "scrolled": true
   },
   "outputs": [
    {
     "data": {
      "text/html": [
       "<div>\n",
       "<style scoped>\n",
       "    .dataframe tbody tr th:only-of-type {\n",
       "        vertical-align: middle;\n",
       "    }\n",
       "\n",
       "    .dataframe tbody tr th {\n",
       "        vertical-align: top;\n",
       "    }\n",
       "\n",
       "    .dataframe thead th {\n",
       "        text-align: right;\n",
       "    }\n",
       "</style>\n",
       "<table border=\"1\" class=\"dataframe\">\n",
       "  <thead>\n",
       "    <tr style=\"text-align: right;\">\n",
       "      <th></th>\n",
       "      <th>Country</th>\n",
       "      <th>Year</th>\n",
       "      <th>Share of Women Inventors (%)</th>\n",
       "      <th>Gross enrolment ratio, tertiary, gender parity index (GPI)</th>\n",
       "      <th>Percentage of graduates from Science and Technology programmes in tertiary education who are female (%)</th>\n",
       "      <th>Percentage of women declaring that they have access to training on how to start a business (%)</th>\n",
       "    </tr>\n",
       "  </thead>\n",
       "  <tbody>\n",
       "    <tr>\n",
       "      <td>0</td>\n",
       "      <td>Australia</td>\n",
       "      <td>2010</td>\n",
       "      <td>10.7</td>\n",
       "      <td>1.38099</td>\n",
       "      <td>29.32242</td>\n",
       "      <td>67.871</td>\n",
       "    </tr>\n",
       "    <tr>\n",
       "      <td>1</td>\n",
       "      <td>Australia</td>\n",
       "      <td>2011</td>\n",
       "      <td>11.0</td>\n",
       "      <td>1.39396</td>\n",
       "      <td>29.10417</td>\n",
       "      <td>67.871</td>\n",
       "    </tr>\n",
       "    <tr>\n",
       "      <td>2</td>\n",
       "      <td>Australia</td>\n",
       "      <td>2012</td>\n",
       "      <td>11.1</td>\n",
       "      <td>1.40529</td>\n",
       "      <td>NaN</td>\n",
       "      <td>67.871</td>\n",
       "    </tr>\n",
       "    <tr>\n",
       "      <td>3</td>\n",
       "      <td>Australia</td>\n",
       "      <td>2013</td>\n",
       "      <td>11.4</td>\n",
       "      <td>1.40312</td>\n",
       "      <td>NaN</td>\n",
       "      <td>67.871</td>\n",
       "    </tr>\n",
       "    <tr>\n",
       "      <td>4</td>\n",
       "      <td>Australia</td>\n",
       "      <td>2014</td>\n",
       "      <td>11.5</td>\n",
       "      <td>1.40312</td>\n",
       "      <td>29.76536</td>\n",
       "      <td>67.871</td>\n",
       "    </tr>\n",
       "  </tbody>\n",
       "</table>\n",
       "</div>"
      ],
      "text/plain": [
       "     Country  Year  Share of Women Inventors (%)  \\\n",
       "0  Australia  2010                          10.7   \n",
       "1  Australia  2011                          11.0   \n",
       "2  Australia  2012                          11.1   \n",
       "3  Australia  2013                          11.4   \n",
       "4  Australia  2014                          11.5   \n",
       "\n",
       "   Gross enrolment ratio, tertiary, gender parity index (GPI)  \\\n",
       "0                                            1.38099            \n",
       "1                                            1.39396            \n",
       "2                                            1.40529            \n",
       "3                                            1.40312            \n",
       "4                                            1.40312            \n",
       "\n",
       "   Percentage of graduates from Science and Technology programmes in tertiary education who are female (%)  \\\n",
       "0                                           29.32242                                                         \n",
       "1                                           29.10417                                                         \n",
       "2                                                NaN                                                         \n",
       "3                                                NaN                                                         \n",
       "4                                           29.76536                                                         \n",
       "\n",
       "   Percentage of women declaring that they have access to training on how to start a business (%)  \n",
       "0                                             67.871                                               \n",
       "1                                             67.871                                               \n",
       "2                                             67.871                                               \n",
       "3                                             67.871                                               \n",
       "4                                             67.871                                               "
      ]
     },
     "execution_count": 43,
     "metadata": {},
     "output_type": "execute_result"
    }
   ],
   "source": [
    "#merge datasets of employment factors with the above merged dataset\n",
    "final = pd.merge(result, access_training_women_final, on=['Country'], how='left', suffixes=('', '_y'))\n",
    "\n",
    "final = final.drop(columns=['Year_y','Unit'])\n",
    "\n",
    "#view of new dataset\n",
    "final.head()"
   ]
  },
  {
   "cell_type": "code",
   "execution_count": 44,
   "metadata": {
    "ExecuteTime": {
     "end_time": "2021-04-28T03:28:29.186566Z",
     "start_time": "2021-04-28T03:28:29.173601Z"
    }
   },
   "outputs": [
    {
     "data": {
      "text/plain": [
       "(165, 6)"
      ]
     },
     "execution_count": 44,
     "metadata": {},
     "output_type": "execute_result"
    }
   ],
   "source": [
    "#size of the new dataset\n",
    "final.shape"
   ]
  },
  {
   "cell_type": "code",
   "execution_count": 45,
   "metadata": {
    "ExecuteTime": {
     "end_time": "2021-04-28T03:28:29.217484Z",
     "start_time": "2021-04-28T03:28:29.188562Z"
    }
   },
   "outputs": [
    {
     "data": {
      "text/html": [
       "<div>\n",
       "<style scoped>\n",
       "    .dataframe tbody tr th:only-of-type {\n",
       "        vertical-align: middle;\n",
       "    }\n",
       "\n",
       "    .dataframe tbody tr th {\n",
       "        vertical-align: top;\n",
       "    }\n",
       "\n",
       "    .dataframe thead th {\n",
       "        text-align: right;\n",
       "    }\n",
       "</style>\n",
       "<table border=\"1\" class=\"dataframe\">\n",
       "  <thead>\n",
       "    <tr style=\"text-align: right;\">\n",
       "      <th></th>\n",
       "      <th>Country</th>\n",
       "      <th>Year</th>\n",
       "      <th>Share of Women Inventors (%)</th>\n",
       "      <th>Gross enrolment ratio, tertiary, gender parity index (GPI)</th>\n",
       "      <th>Percentage of graduates from Science and Technology programmes in tertiary education who are female (%)</th>\n",
       "      <th>Percentage of women declaring that they have access to training on how to start a business (%)</th>\n",
       "      <th>Percentage of women declaring that they have access to money to start a business (%)</th>\n",
       "    </tr>\n",
       "  </thead>\n",
       "  <tbody>\n",
       "    <tr>\n",
       "      <td>0</td>\n",
       "      <td>Australia</td>\n",
       "      <td>2010</td>\n",
       "      <td>10.7</td>\n",
       "      <td>1.38099</td>\n",
       "      <td>29.32242</td>\n",
       "      <td>67.871</td>\n",
       "      <td>41.324</td>\n",
       "    </tr>\n",
       "    <tr>\n",
       "      <td>1</td>\n",
       "      <td>Australia</td>\n",
       "      <td>2011</td>\n",
       "      <td>11.0</td>\n",
       "      <td>1.39396</td>\n",
       "      <td>29.10417</td>\n",
       "      <td>67.871</td>\n",
       "      <td>41.324</td>\n",
       "    </tr>\n",
       "    <tr>\n",
       "      <td>2</td>\n",
       "      <td>Australia</td>\n",
       "      <td>2012</td>\n",
       "      <td>11.1</td>\n",
       "      <td>1.40529</td>\n",
       "      <td>NaN</td>\n",
       "      <td>67.871</td>\n",
       "      <td>41.324</td>\n",
       "    </tr>\n",
       "    <tr>\n",
       "      <td>3</td>\n",
       "      <td>Australia</td>\n",
       "      <td>2013</td>\n",
       "      <td>11.4</td>\n",
       "      <td>1.40312</td>\n",
       "      <td>NaN</td>\n",
       "      <td>67.871</td>\n",
       "      <td>41.324</td>\n",
       "    </tr>\n",
       "    <tr>\n",
       "      <td>4</td>\n",
       "      <td>Australia</td>\n",
       "      <td>2014</td>\n",
       "      <td>11.5</td>\n",
       "      <td>1.40312</td>\n",
       "      <td>29.76536</td>\n",
       "      <td>67.871</td>\n",
       "      <td>41.324</td>\n",
       "    </tr>\n",
       "  </tbody>\n",
       "</table>\n",
       "</div>"
      ],
      "text/plain": [
       "     Country  Year  Share of Women Inventors (%)  \\\n",
       "0  Australia  2010                          10.7   \n",
       "1  Australia  2011                          11.0   \n",
       "2  Australia  2012                          11.1   \n",
       "3  Australia  2013                          11.4   \n",
       "4  Australia  2014                          11.5   \n",
       "\n",
       "   Gross enrolment ratio, tertiary, gender parity index (GPI)  \\\n",
       "0                                            1.38099            \n",
       "1                                            1.39396            \n",
       "2                                            1.40529            \n",
       "3                                            1.40312            \n",
       "4                                            1.40312            \n",
       "\n",
       "   Percentage of graduates from Science and Technology programmes in tertiary education who are female (%)  \\\n",
       "0                                           29.32242                                                         \n",
       "1                                           29.10417                                                         \n",
       "2                                                NaN                                                         \n",
       "3                                                NaN                                                         \n",
       "4                                           29.76536                                                         \n",
       "\n",
       "   Percentage of women declaring that they have access to training on how to start a business (%)  \\\n",
       "0                                             67.871                                                \n",
       "1                                             67.871                                                \n",
       "2                                             67.871                                                \n",
       "3                                             67.871                                                \n",
       "4                                             67.871                                                \n",
       "\n",
       "   Percentage of women declaring that they have access to money to start a business (%)  \n",
       "0                                             41.324                                     \n",
       "1                                             41.324                                     \n",
       "2                                             41.324                                     \n",
       "3                                             41.324                                     \n",
       "4                                             41.324                                     "
      ]
     },
     "execution_count": 45,
     "metadata": {},
     "output_type": "execute_result"
    }
   ],
   "source": [
    "#merge datasets of employment factors with the above merged dataset\n",
    "final = pd.merge(final, access_money_women_final, on=['Country'], how='left', suffixes=('', '_y'))\n",
    "\n",
    "final = final.drop(columns=['Year_y'])\n",
    "\n",
    "#view of new dataset\n",
    "final.head()"
   ]
  },
  {
   "cell_type": "code",
   "execution_count": 46,
   "metadata": {
    "ExecuteTime": {
     "end_time": "2021-04-28T03:28:29.232444Z",
     "start_time": "2021-04-28T03:28:29.219483Z"
    }
   },
   "outputs": [
    {
     "data": {
      "text/plain": [
       "(165, 7)"
      ]
     },
     "execution_count": 46,
     "metadata": {},
     "output_type": "execute_result"
    }
   ],
   "source": [
    "#size of the new dataset\n",
    "final.shape"
   ]
  },
  {
   "cell_type": "code",
   "execution_count": 47,
   "metadata": {
    "ExecuteTime": {
     "end_time": "2021-04-28T03:28:29.263362Z",
     "start_time": "2021-04-28T03:28:29.234440Z"
    }
   },
   "outputs": [
    {
     "data": {
      "text/html": [
       "<div>\n",
       "<style scoped>\n",
       "    .dataframe tbody tr th:only-of-type {\n",
       "        vertical-align: middle;\n",
       "    }\n",
       "\n",
       "    .dataframe tbody tr th {\n",
       "        vertical-align: top;\n",
       "    }\n",
       "\n",
       "    .dataframe thead th {\n",
       "        text-align: right;\n",
       "    }\n",
       "</style>\n",
       "<table border=\"1\" class=\"dataframe\">\n",
       "  <thead>\n",
       "    <tr style=\"text-align: right;\">\n",
       "      <th></th>\n",
       "      <th>Country</th>\n",
       "      <th>Year</th>\n",
       "      <th>Share of Women Inventors (%)</th>\n",
       "      <th>Gross enrolment ratio, tertiary, gender parity index (GPI)</th>\n",
       "      <th>Percentage of graduates from Science and Technology programmes in tertiary education who are female (%)</th>\n",
       "      <th>Percentage of women declaring that they have access to training on how to start a business (%)</th>\n",
       "      <th>Percentage of women declaring that they have access to money to start a business (%)</th>\n",
       "      <th>Percentage of women prefering taking a risk and starting a new business to working for someone else (%)</th>\n",
       "    </tr>\n",
       "  </thead>\n",
       "  <tbody>\n",
       "    <tr>\n",
       "      <td>0</td>\n",
       "      <td>Australia</td>\n",
       "      <td>2010</td>\n",
       "      <td>10.700000</td>\n",
       "      <td>1.38099</td>\n",
       "      <td>29.322420</td>\n",
       "      <td>67.871</td>\n",
       "      <td>41.324</td>\n",
       "      <td>45.305</td>\n",
       "    </tr>\n",
       "    <tr>\n",
       "      <td>1</td>\n",
       "      <td>Australia</td>\n",
       "      <td>2011</td>\n",
       "      <td>11.000000</td>\n",
       "      <td>1.39396</td>\n",
       "      <td>29.104170</td>\n",
       "      <td>67.871</td>\n",
       "      <td>41.324</td>\n",
       "      <td>45.305</td>\n",
       "    </tr>\n",
       "    <tr>\n",
       "      <td>2</td>\n",
       "      <td>Australia</td>\n",
       "      <td>2012</td>\n",
       "      <td>11.100000</td>\n",
       "      <td>1.40529</td>\n",
       "      <td>NaN</td>\n",
       "      <td>67.871</td>\n",
       "      <td>41.324</td>\n",
       "      <td>45.305</td>\n",
       "    </tr>\n",
       "    <tr>\n",
       "      <td>3</td>\n",
       "      <td>Australia</td>\n",
       "      <td>2013</td>\n",
       "      <td>11.400000</td>\n",
       "      <td>1.40312</td>\n",
       "      <td>NaN</td>\n",
       "      <td>67.871</td>\n",
       "      <td>41.324</td>\n",
       "      <td>45.305</td>\n",
       "    </tr>\n",
       "    <tr>\n",
       "      <td>4</td>\n",
       "      <td>Australia</td>\n",
       "      <td>2014</td>\n",
       "      <td>11.500000</td>\n",
       "      <td>1.40312</td>\n",
       "      <td>29.765360</td>\n",
       "      <td>67.871</td>\n",
       "      <td>41.324</td>\n",
       "      <td>45.305</td>\n",
       "    </tr>\n",
       "    <tr>\n",
       "      <td>5</td>\n",
       "      <td>Austria</td>\n",
       "      <td>2010</td>\n",
       "      <td>5.600000</td>\n",
       "      <td>1.17002</td>\n",
       "      <td>23.489010</td>\n",
       "      <td>61.505</td>\n",
       "      <td>48.044</td>\n",
       "      <td>23.726</td>\n",
       "    </tr>\n",
       "    <tr>\n",
       "      <td>6</td>\n",
       "      <td>Austria</td>\n",
       "      <td>2011</td>\n",
       "      <td>5.400000</td>\n",
       "      <td>1.18257</td>\n",
       "      <td>25.145361</td>\n",
       "      <td>61.505</td>\n",
       "      <td>48.044</td>\n",
       "      <td>23.726</td>\n",
       "    </tr>\n",
       "    <tr>\n",
       "      <td>7</td>\n",
       "      <td>Austria</td>\n",
       "      <td>2012</td>\n",
       "      <td>5.400000</td>\n",
       "      <td>1.19864</td>\n",
       "      <td>25.540199</td>\n",
       "      <td>61.505</td>\n",
       "      <td>48.044</td>\n",
       "      <td>23.726</td>\n",
       "    </tr>\n",
       "    <tr>\n",
       "      <td>8</td>\n",
       "      <td>Austria</td>\n",
       "      <td>2013</td>\n",
       "      <td>5.400000</td>\n",
       "      <td>1.20621</td>\n",
       "      <td>25.146490</td>\n",
       "      <td>61.505</td>\n",
       "      <td>48.044</td>\n",
       "      <td>23.726</td>\n",
       "    </tr>\n",
       "    <tr>\n",
       "      <td>9</td>\n",
       "      <td>Austria</td>\n",
       "      <td>2014</td>\n",
       "      <td>5.600000</td>\n",
       "      <td>1.20348</td>\n",
       "      <td>25.482410</td>\n",
       "      <td>61.505</td>\n",
       "      <td>48.044</td>\n",
       "      <td>23.726</td>\n",
       "    </tr>\n",
       "    <tr>\n",
       "      <td>10</td>\n",
       "      <td>Belgium</td>\n",
       "      <td>2010</td>\n",
       "      <td>14.200000</td>\n",
       "      <td>1.26629</td>\n",
       "      <td>23.994690</td>\n",
       "      <td>43.878</td>\n",
       "      <td>32.129</td>\n",
       "      <td>31.192</td>\n",
       "    </tr>\n",
       "    <tr>\n",
       "      <td>11</td>\n",
       "      <td>Belgium</td>\n",
       "      <td>2011</td>\n",
       "      <td>13.400000</td>\n",
       "      <td>1.27273</td>\n",
       "      <td>24.672409</td>\n",
       "      <td>43.878</td>\n",
       "      <td>32.129</td>\n",
       "      <td>31.192</td>\n",
       "    </tr>\n",
       "    <tr>\n",
       "      <td>12</td>\n",
       "      <td>Belgium</td>\n",
       "      <td>2012</td>\n",
       "      <td>12.700000</td>\n",
       "      <td>1.28718</td>\n",
       "      <td>24.200029</td>\n",
       "      <td>43.878</td>\n",
       "      <td>32.129</td>\n",
       "      <td>31.192</td>\n",
       "    </tr>\n",
       "    <tr>\n",
       "      <td>13</td>\n",
       "      <td>Belgium</td>\n",
       "      <td>2013</td>\n",
       "      <td>11.700000</td>\n",
       "      <td>1.30132</td>\n",
       "      <td>24.546341</td>\n",
       "      <td>43.878</td>\n",
       "      <td>32.129</td>\n",
       "      <td>31.192</td>\n",
       "    </tr>\n",
       "    <tr>\n",
       "      <td>14</td>\n",
       "      <td>Belgium</td>\n",
       "      <td>2014</td>\n",
       "      <td>12.500000</td>\n",
       "      <td>1.31026</td>\n",
       "      <td>NaN</td>\n",
       "      <td>43.878</td>\n",
       "      <td>32.129</td>\n",
       "      <td>31.192</td>\n",
       "    </tr>\n",
       "    <tr>\n",
       "      <td>15</td>\n",
       "      <td>Canada</td>\n",
       "      <td>2010</td>\n",
       "      <td>12.100000</td>\n",
       "      <td>NaN</td>\n",
       "      <td>NaN</td>\n",
       "      <td>64.711</td>\n",
       "      <td>49.541</td>\n",
       "      <td>56.682</td>\n",
       "    </tr>\n",
       "    <tr>\n",
       "      <td>16</td>\n",
       "      <td>Canada</td>\n",
       "      <td>2011</td>\n",
       "      <td>11.900000</td>\n",
       "      <td>NaN</td>\n",
       "      <td>NaN</td>\n",
       "      <td>64.711</td>\n",
       "      <td>49.541</td>\n",
       "      <td>56.682</td>\n",
       "    </tr>\n",
       "    <tr>\n",
       "      <td>17</td>\n",
       "      <td>Canada</td>\n",
       "      <td>2012</td>\n",
       "      <td>11.900000</td>\n",
       "      <td>NaN</td>\n",
       "      <td>NaN</td>\n",
       "      <td>64.711</td>\n",
       "      <td>49.541</td>\n",
       "      <td>56.682</td>\n",
       "    </tr>\n",
       "    <tr>\n",
       "      <td>18</td>\n",
       "      <td>Canada</td>\n",
       "      <td>2013</td>\n",
       "      <td>12.200000</td>\n",
       "      <td>NaN</td>\n",
       "      <td>NaN</td>\n",
       "      <td>64.711</td>\n",
       "      <td>49.541</td>\n",
       "      <td>56.682</td>\n",
       "    </tr>\n",
       "    <tr>\n",
       "      <td>19</td>\n",
       "      <td>Canada</td>\n",
       "      <td>2014</td>\n",
       "      <td>12.200000</td>\n",
       "      <td>NaN</td>\n",
       "      <td>NaN</td>\n",
       "      <td>64.711</td>\n",
       "      <td>49.541</td>\n",
       "      <td>56.682</td>\n",
       "    </tr>\n",
       "    <tr>\n",
       "      <td>20</td>\n",
       "      <td>Chile</td>\n",
       "      <td>2010</td>\n",
       "      <td>23.600000</td>\n",
       "      <td>1.07766</td>\n",
       "      <td>19.495939</td>\n",
       "      <td>29.034</td>\n",
       "      <td>18.017</td>\n",
       "      <td>70.783</td>\n",
       "    </tr>\n",
       "    <tr>\n",
       "      <td>21</td>\n",
       "      <td>Chile</td>\n",
       "      <td>2011</td>\n",
       "      <td>24.799999</td>\n",
       "      <td>1.10703</td>\n",
       "      <td>NaN</td>\n",
       "      <td>29.034</td>\n",
       "      <td>18.017</td>\n",
       "      <td>70.783</td>\n",
       "    </tr>\n",
       "    <tr>\n",
       "      <td>22</td>\n",
       "      <td>Chile</td>\n",
       "      <td>2012</td>\n",
       "      <td>20.299999</td>\n",
       "      <td>1.13002</td>\n",
       "      <td>19.328140</td>\n",
       "      <td>29.034</td>\n",
       "      <td>18.017</td>\n",
       "      <td>70.783</td>\n",
       "    </tr>\n",
       "    <tr>\n",
       "      <td>23</td>\n",
       "      <td>Chile</td>\n",
       "      <td>2013</td>\n",
       "      <td>21.600000</td>\n",
       "      <td>1.12747</td>\n",
       "      <td>NaN</td>\n",
       "      <td>29.034</td>\n",
       "      <td>18.017</td>\n",
       "      <td>70.783</td>\n",
       "    </tr>\n",
       "    <tr>\n",
       "      <td>24</td>\n",
       "      <td>Chile</td>\n",
       "      <td>2014</td>\n",
       "      <td>21.400000</td>\n",
       "      <td>1.13570</td>\n",
       "      <td>18.244160</td>\n",
       "      <td>29.034</td>\n",
       "      <td>18.017</td>\n",
       "      <td>70.783</td>\n",
       "    </tr>\n",
       "    <tr>\n",
       "      <td>25</td>\n",
       "      <td>Colombia</td>\n",
       "      <td>2010</td>\n",
       "      <td>11.100000</td>\n",
       "      <td>1.09840</td>\n",
       "      <td>NaN</td>\n",
       "      <td>NaN</td>\n",
       "      <td>NaN</td>\n",
       "      <td>NaN</td>\n",
       "    </tr>\n",
       "    <tr>\n",
       "      <td>26</td>\n",
       "      <td>Colombia</td>\n",
       "      <td>2011</td>\n",
       "      <td>13.400000</td>\n",
       "      <td>1.09874</td>\n",
       "      <td>34.281250</td>\n",
       "      <td>NaN</td>\n",
       "      <td>NaN</td>\n",
       "      <td>NaN</td>\n",
       "    </tr>\n",
       "    <tr>\n",
       "      <td>27</td>\n",
       "      <td>Colombia</td>\n",
       "      <td>2012</td>\n",
       "      <td>17.900000</td>\n",
       "      <td>1.12918</td>\n",
       "      <td>33.865292</td>\n",
       "      <td>NaN</td>\n",
       "      <td>NaN</td>\n",
       "      <td>NaN</td>\n",
       "    </tr>\n",
       "    <tr>\n",
       "      <td>28</td>\n",
       "      <td>Colombia</td>\n",
       "      <td>2013</td>\n",
       "      <td>23.799999</td>\n",
       "      <td>1.14547</td>\n",
       "      <td>33.995720</td>\n",
       "      <td>NaN</td>\n",
       "      <td>NaN</td>\n",
       "      <td>NaN</td>\n",
       "    </tr>\n",
       "    <tr>\n",
       "      <td>29</td>\n",
       "      <td>Colombia</td>\n",
       "      <td>2014</td>\n",
       "      <td>26.299999</td>\n",
       "      <td>1.14540</td>\n",
       "      <td>33.711849</td>\n",
       "      <td>NaN</td>\n",
       "      <td>NaN</td>\n",
       "      <td>NaN</td>\n",
       "    </tr>\n",
       "  </tbody>\n",
       "</table>\n",
       "</div>"
      ],
      "text/plain": [
       "      Country  Year  Share of Women Inventors (%)  \\\n",
       "0   Australia  2010                     10.700000   \n",
       "1   Australia  2011                     11.000000   \n",
       "2   Australia  2012                     11.100000   \n",
       "3   Australia  2013                     11.400000   \n",
       "4   Australia  2014                     11.500000   \n",
       "5     Austria  2010                      5.600000   \n",
       "6     Austria  2011                      5.400000   \n",
       "7     Austria  2012                      5.400000   \n",
       "8     Austria  2013                      5.400000   \n",
       "9     Austria  2014                      5.600000   \n",
       "10    Belgium  2010                     14.200000   \n",
       "11    Belgium  2011                     13.400000   \n",
       "12    Belgium  2012                     12.700000   \n",
       "13    Belgium  2013                     11.700000   \n",
       "14    Belgium  2014                     12.500000   \n",
       "15     Canada  2010                     12.100000   \n",
       "16     Canada  2011                     11.900000   \n",
       "17     Canada  2012                     11.900000   \n",
       "18     Canada  2013                     12.200000   \n",
       "19     Canada  2014                     12.200000   \n",
       "20      Chile  2010                     23.600000   \n",
       "21      Chile  2011                     24.799999   \n",
       "22      Chile  2012                     20.299999   \n",
       "23      Chile  2013                     21.600000   \n",
       "24      Chile  2014                     21.400000   \n",
       "25   Colombia  2010                     11.100000   \n",
       "26   Colombia  2011                     13.400000   \n",
       "27   Colombia  2012                     17.900000   \n",
       "28   Colombia  2013                     23.799999   \n",
       "29   Colombia  2014                     26.299999   \n",
       "\n",
       "    Gross enrolment ratio, tertiary, gender parity index (GPI)  \\\n",
       "0                                             1.38099            \n",
       "1                                             1.39396            \n",
       "2                                             1.40529            \n",
       "3                                             1.40312            \n",
       "4                                             1.40312            \n",
       "5                                             1.17002            \n",
       "6                                             1.18257            \n",
       "7                                             1.19864            \n",
       "8                                             1.20621            \n",
       "9                                             1.20348            \n",
       "10                                            1.26629            \n",
       "11                                            1.27273            \n",
       "12                                            1.28718            \n",
       "13                                            1.30132            \n",
       "14                                            1.31026            \n",
       "15                                                NaN            \n",
       "16                                                NaN            \n",
       "17                                                NaN            \n",
       "18                                                NaN            \n",
       "19                                                NaN            \n",
       "20                                            1.07766            \n",
       "21                                            1.10703            \n",
       "22                                            1.13002            \n",
       "23                                            1.12747            \n",
       "24                                            1.13570            \n",
       "25                                            1.09840            \n",
       "26                                            1.09874            \n",
       "27                                            1.12918            \n",
       "28                                            1.14547            \n",
       "29                                            1.14540            \n",
       "\n",
       "    Percentage of graduates from Science and Technology programmes in tertiary education who are female (%)  \\\n",
       "0                                           29.322420                                                         \n",
       "1                                           29.104170                                                         \n",
       "2                                                 NaN                                                         \n",
       "3                                                 NaN                                                         \n",
       "4                                           29.765360                                                         \n",
       "5                                           23.489010                                                         \n",
       "6                                           25.145361                                                         \n",
       "7                                           25.540199                                                         \n",
       "8                                           25.146490                                                         \n",
       "9                                           25.482410                                                         \n",
       "10                                          23.994690                                                         \n",
       "11                                          24.672409                                                         \n",
       "12                                          24.200029                                                         \n",
       "13                                          24.546341                                                         \n",
       "14                                                NaN                                                         \n",
       "15                                                NaN                                                         \n",
       "16                                                NaN                                                         \n",
       "17                                                NaN                                                         \n",
       "18                                                NaN                                                         \n",
       "19                                                NaN                                                         \n",
       "20                                          19.495939                                                         \n",
       "21                                                NaN                                                         \n",
       "22                                          19.328140                                                         \n",
       "23                                                NaN                                                         \n",
       "24                                          18.244160                                                         \n",
       "25                                                NaN                                                         \n",
       "26                                          34.281250                                                         \n",
       "27                                          33.865292                                                         \n",
       "28                                          33.995720                                                         \n",
       "29                                          33.711849                                                         \n",
       "\n",
       "    Percentage of women declaring that they have access to training on how to start a business (%)  \\\n",
       "0                                              67.871                                                \n",
       "1                                              67.871                                                \n",
       "2                                              67.871                                                \n",
       "3                                              67.871                                                \n",
       "4                                              67.871                                                \n",
       "5                                              61.505                                                \n",
       "6                                              61.505                                                \n",
       "7                                              61.505                                                \n",
       "8                                              61.505                                                \n",
       "9                                              61.505                                                \n",
       "10                                             43.878                                                \n",
       "11                                             43.878                                                \n",
       "12                                             43.878                                                \n",
       "13                                             43.878                                                \n",
       "14                                             43.878                                                \n",
       "15                                             64.711                                                \n",
       "16                                             64.711                                                \n",
       "17                                             64.711                                                \n",
       "18                                             64.711                                                \n",
       "19                                             64.711                                                \n",
       "20                                             29.034                                                \n",
       "21                                             29.034                                                \n",
       "22                                             29.034                                                \n",
       "23                                             29.034                                                \n",
       "24                                             29.034                                                \n",
       "25                                                NaN                                                \n",
       "26                                                NaN                                                \n",
       "27                                                NaN                                                \n",
       "28                                                NaN                                                \n",
       "29                                                NaN                                                \n",
       "\n",
       "    Percentage of women declaring that they have access to money to start a business (%)  \\\n",
       "0                                              41.324                                      \n",
       "1                                              41.324                                      \n",
       "2                                              41.324                                      \n",
       "3                                              41.324                                      \n",
       "4                                              41.324                                      \n",
       "5                                              48.044                                      \n",
       "6                                              48.044                                      \n",
       "7                                              48.044                                      \n",
       "8                                              48.044                                      \n",
       "9                                              48.044                                      \n",
       "10                                             32.129                                      \n",
       "11                                             32.129                                      \n",
       "12                                             32.129                                      \n",
       "13                                             32.129                                      \n",
       "14                                             32.129                                      \n",
       "15                                             49.541                                      \n",
       "16                                             49.541                                      \n",
       "17                                             49.541                                      \n",
       "18                                             49.541                                      \n",
       "19                                             49.541                                      \n",
       "20                                             18.017                                      \n",
       "21                                             18.017                                      \n",
       "22                                             18.017                                      \n",
       "23                                             18.017                                      \n",
       "24                                             18.017                                      \n",
       "25                                                NaN                                      \n",
       "26                                                NaN                                      \n",
       "27                                                NaN                                      \n",
       "28                                                NaN                                      \n",
       "29                                                NaN                                      \n",
       "\n",
       "    Percentage of women prefering taking a risk and starting a new business to working for someone else (%)  \n",
       "0                                              45.305                                                        \n",
       "1                                              45.305                                                        \n",
       "2                                              45.305                                                        \n",
       "3                                              45.305                                                        \n",
       "4                                              45.305                                                        \n",
       "5                                              23.726                                                        \n",
       "6                                              23.726                                                        \n",
       "7                                              23.726                                                        \n",
       "8                                              23.726                                                        \n",
       "9                                              23.726                                                        \n",
       "10                                             31.192                                                        \n",
       "11                                             31.192                                                        \n",
       "12                                             31.192                                                        \n",
       "13                                             31.192                                                        \n",
       "14                                             31.192                                                        \n",
       "15                                             56.682                                                        \n",
       "16                                             56.682                                                        \n",
       "17                                             56.682                                                        \n",
       "18                                             56.682                                                        \n",
       "19                                             56.682                                                        \n",
       "20                                             70.783                                                        \n",
       "21                                             70.783                                                        \n",
       "22                                             70.783                                                        \n",
       "23                                             70.783                                                        \n",
       "24                                             70.783                                                        \n",
       "25                                                NaN                                                        \n",
       "26                                                NaN                                                        \n",
       "27                                                NaN                                                        \n",
       "28                                                NaN                                                        \n",
       "29                                                NaN                                                        "
      ]
     },
     "execution_count": 47,
     "metadata": {},
     "output_type": "execute_result"
    }
   ],
   "source": [
    "#merge datasets of employment factors with the above merged dataset\n",
    "final = pd.merge(final, attitude_risk_women_final, on=['Country'], how='left', suffixes=('', '_y'))\n",
    "\n",
    "final = final.drop(columns=['Year_y'])\n",
    "\n",
    "#view of new dataset\n",
    "final.head(30)"
   ]
  },
  {
   "cell_type": "code",
   "execution_count": 48,
   "metadata": {
    "ExecuteTime": {
     "end_time": "2021-04-28T03:28:29.295277Z",
     "start_time": "2021-04-28T03:28:29.265356Z"
    }
   },
   "outputs": [
    {
     "data": {
      "text/plain": [
       "(165, 8)"
      ]
     },
     "execution_count": 48,
     "metadata": {},
     "output_type": "execute_result"
    }
   ],
   "source": [
    "#size of the new dataset\n",
    "final.shape"
   ]
  },
  {
   "cell_type": "code",
   "execution_count": 49,
   "metadata": {
    "ExecuteTime": {
     "end_time": "2021-04-28T03:28:29.326194Z",
     "start_time": "2021-04-28T03:28:29.297271Z"
    }
   },
   "outputs": [],
   "source": [
    "final.to_csv(r'C:\\Users\\jiang\\INFO 2950\\final.csv', index=False)"
   ]
  },
  {
   "cell_type": "markdown",
   "metadata": {},
   "source": [
    "# 3. Data Description"
   ]
  },
  {
   "cell_type": "markdown",
   "metadata": {},
   "source": [
    "#### What are the observations (rows) and the attributes (columns)?\n",
    "\n",
    "The observations (rows) are the 33 OECD member countries, and the attributes (columns) are country, year, and the five variables from four datasets: Access to training to start a business, access to training to start a business, attitude towards entrepreneurial risk, GPI enrollment ratio of tertiary education (women to men) and Percentage of women major in Science and Technology majors."
   ]
  },
  {
   "cell_type": "markdown",
   "metadata": {},
   "source": [
    "#### Why was this dataset created?\n",
    "\n",
    "We created this dataset to find out about possible factors that may influence the share of women inventors relative to the total number of inventors. Inventors are defined as ones that focus on creating new products, while they also inherit the nature of entreprenuers, which is taking the risk of inventing new products for profits. \n",
    "\n",
    "For a long period of time, women take on most domestic and family responsibilities, and seldome work. Evene when they started to step into workplaces, they received unfair wages and abusing treatments, comparing to men. Now that women are having higher social status, more of them gotten rid of the fate of being house wives and being repressed during work. They are also receiving better treatments at their workplaces. Apart from women being employees, we are also able to hear about many well-known and successful female entrepreneurs and inventors. After researching related areas, we found out about a dataset on the share of owmen inventors. We observed that there are significant increases in the share across countries, but the trend is somehow unpredictable and varied a lot. Some countries have higher share at a certain point, but suddenly decreases dramatically after the peak value. Therefore, we are curious about factors that contribute the fluactuation in numbers of women inventors across time and countries.\n",
    "\n",
    "We therefore raised some secondary question including what role domestic factors, education, social resources, and personal motivations are playing in influence share of women factors. \n",
    "\n",
    "We focused on OECD member countries since they are mostly developed countries, so they have similar economic and political situations. We collected five variables that might influence the share of women inventors based on research: Access to training to start a business, access to training to start a business, attitude towards entrepreneurial risk, GPI enrollment ratio of tertiary education (women to men) and percentage of graduates from Science and Technology programmes in tertiary education who are female. We want to compare the factors accross the five years as well as countries to figure out the answer to our research question. Since the factors are collected from different datasets, we merge them into a relatively concise dataset shown above to better carry out the following analysis."
   ]
  },
  {
   "cell_type": "markdown",
   "metadata": {},
   "source": [
    "#### Who funded the creation of the dataset?\n",
    "The dataset for share of women inventors is from estimates based on PATSTAT database. The datasets for Access to training and money to start a business by sex and Attitude towards entrepreneurial risk by sex are from Gallup. The datasets for GPI enrollment ratio of tertiary education (women to men) and Percentage of women major in Science and Technology majors are form UNESCO Institute for Statistics, published by World Bank EdStats.\n",
    "\n",
    "A more thorough documentation of sources and description of raw datasets can be found in this Google doc we created: https://docs.google.com/document/d/1VErYKO1LZg3yLdvlMQ3RTLXYmMFLk6cFQSOs9pd_IHQ/edit?usp=sharing"
   ]
  },
  {
   "cell_type": "markdown",
   "metadata": {},
   "source": [
    "#### What processes might have influenced what data was observed and recorded and what was not?\n",
    "\n",
    "The datasets we found, including share of owmen inventors as well as possible factors that might influence the share, are all on OECD member countries. It is hard to obtain data of developing and under-developed countries. We conjecture that this is due to the accessibily and ability to collect data from citizens. OECD countries also have the technology and comprehensive methods of recording and developing these datasets mianly through calculation through algorith that identify dependent variables, such as the number of inventors of different genders, on the basis of a large list of male and female.\n",
    "\n",
    "Moreover, among the data of OECD member countries, we also observe several NaNs, this may be due to the sequence and time each country join the OECD union. "
   ]
  },
  {
   "cell_type": "markdown",
   "metadata": {},
   "source": [
    "#### What preprocessing was done, and how did the data come to be in the form that you are using?\n",
    "\n",
    "We merge the five variables from four datasets: Access to training to start a business, access to training to start a business, attitude towards entrepreneurial risk, GPI enrollment ratio of tertiary education (women to men) and Percentage of women major in Science and Technology majors. We went through a long data cleaning process by changing all the datasets into ones with the same number, alphabetical order of country name, and time range.\n",
    "\n",
    "The countries we chose, as mentioned above, are all member countries of OECD that have similar economic and political conditions. The time range we came across is from 2010-2014, a total of five years. The reason why we choose this time range is because it was the post-financial-crisis stage. We are curious in learning about how the financial crisis may influence the share of women inventors, given that the overall environment has changed significantly. We believe this 5-year period is representative. In addition, we are able to gather data of different factors and across all 33 countries in these 5 years, which is beneficial for our later exploration and analysis.\n",
    "\n",
    "We also carried out a thorough cleaning and merging of columns so that the final combination of the four datasets is feasible and organized. "
   ]
  },
  {
   "cell_type": "markdown",
   "metadata": {},
   "source": [
    "#### If people are involved, were they aware of the data collection and if so, what purpose did they expect the data to be used for?\n",
    "\n",
    "All of our data are from authoritative dataset sources, so there were no people involved."
   ]
  },
  {
   "cell_type": "markdown",
   "metadata": {},
   "source": [
    "#### Where can your raw source data be found, if applicable? Provide a link to the raw data (hosted in a Cornell Google Drive or Cornell Box). \n",
    "\n",
    "Here is the shared drive to our raw source data:\n",
    "https://drive.google.com/drive/folders/1v-iBVRjUGSWxAnkwVBzUr9Do9cALBF_L?usp=sharing "
   ]
  },
  {
   "cell_type": "markdown",
   "metadata": {},
   "source": [
    "# 4. Data Limitations"
   ]
  },
  {
   "cell_type": "markdown",
   "metadata": {},
   "source": [
    "One limit of our dataset is that we didn't include the public opinions on women inventors (or entrepreneurs), which can be an important externality that influence the share of women inventors. Though we thought about this critical factor, we didn't include it since public opinions are hard to be quantized. We didn't find suitable data source that include data from the countries and timeframe we are researching on either.\n",
    "\n",
    "In terms of harm and gap, our dataset is also limited by the choice of countries. We only focus on OECD member countries, which are all already developed. Therefore, our dataset can only reflect the situation of women inventors in developed countries, but we are unable to explore that of devloping and undert-developed ones. The population of developed countries only make up of a small proportion of the world population, so our dataset cannot reflect the overall realistic situation of women. If we want to actually figure out underlying trend and reasons that influence share of owmen inventors, we should go beyond just looking at developed countries. We should in turn focus more on missing data and try to collect data from all over the world. However, due to the limited time and resource, we only focus on existing data on developed countries, hoping to get a preliminary understanding of the topic of women inventors. Another associating limitation due to choice of countries is that there are only 33 OECD member countries, making our dataset relatively small in the scale. \n",
    "\n",
    "Last but not least, our dataset is also limited in the timeframe we chose. We only focus on data from 2010-2014, which is only a 5-year period. This period of time is also over 5 year from now. Though we believe this is a representative and meaningful period of time, our dataset is relatively small in its scale. There may be some other trends and influencial factors that might influence share of women inventors, but we cannot include them.\n",
    "\n",
    "In all, though we have included multiple valuable variables that may influence share of women inventors that can potentially bring interesting discussion and analysis of the issue, our dataset size is not massive enough to conclude a comprehensive result. "
   ]
  },
  {
   "cell_type": "markdown",
   "metadata": {},
   "source": [
    "# 5. Exploratory Data Analysis"
   ]
  },
  {
   "cell_type": "code",
   "execution_count": 50,
   "metadata": {
    "ExecuteTime": {
     "end_time": "2021-04-28T03:28:29.540640Z",
     "start_time": "2021-04-28T03:28:29.328189Z"
    }
   },
   "outputs": [],
   "source": [
    "import seaborn as sns\n",
    "\n",
    "%matplotlib inline\n",
    "plt.style.use('seaborn-notebook')"
   ]
  },
  {
   "cell_type": "markdown",
   "metadata": {},
   "source": [
    "\n",
    "### In Part 5 \"Exploratory Data Analysis,\" we will provide important summary statistics and typical values for the percentage of female inventors.\n",
    "\n",
    "### We will draw plots to show the statistics, and use what we learned from the lecture to find out the connections between variables.\n"
   ]
  },
  {
   "cell_type": "code",
   "execution_count": 51,
   "metadata": {
    "ExecuteTime": {
     "end_time": "2021-04-28T03:28:29.571557Z",
     "start_time": "2021-04-28T03:28:29.542635Z"
    },
    "scrolled": true
   },
   "outputs": [
    {
     "name": "stdout",
     "output_type": "stream",
     "text": [
      "Let's take a glance at the 'Share of Women Inventors' for some countries as examples.\n",
      "Some of them are the most developed countries, like the US and Japan, and \n",
      "\n",
      "Mean of 'Share of Women Inventors' between 2010 and 2014:\n",
      "AMERICA: 11.88%\n",
      "BRITAIN: 10.08%\n",
      "CHILE:   22.34%\n",
      "COLOMBIA:18.5%\n",
      "JAPAN:   7.36%\n",
      "PORTUGAL:21.74%\n",
      "POLAND:  18.48%\n"
     ]
    }
   ],
   "source": [
    "print(\"Let's take a glance at the 'Share of Women Inventors' for some countries as examples.\")\n",
    "print(\"Some of them are the most developed countries, like the US and Japan, and \")\n",
    "\n",
    "print()\n",
    "\n",
    "print(\"Mean of 'Share of Women Inventors' between 2010 and 2014:\")\n",
    "\n",
    "grouped = final.groupby('Country')\n",
    "\n",
    "group_US = np.round(grouped['Share of Women Inventors (%)'].mean()['United States'], decimals=2)\n",
    "print(\"AMERICA: \" + str(group_US) + \"%\")\n",
    "\n",
    "group_UK = np.round(grouped['Share of Women Inventors (%)'].mean()['United Kingdom'], decimals=2)\n",
    "print(\"BRITAIN: \" + str(group_UK) + \"%\")\n",
    "\n",
    "group_CHI = np.round(grouped['Share of Women Inventors (%)'].mean()['Chile'], decimals=2)\n",
    "print(\"CHILE:   \" + str(group_CHI) + \"%\")\n",
    "\n",
    "group_COL = np.round(grouped['Share of Women Inventors (%)'].mean()['Colombia'], decimals=2)\n",
    "print(\"COLOMBIA:\" + str(group_COL) + \"%\")\n",
    "\n",
    "group_JPN = np.round(grouped['Share of Women Inventors (%)'].mean()['Japan'], decimals=2)\n",
    "print(\"JAPAN:   \" + str(group_JPN) + \"%\")\n",
    "\n",
    "group_PRT = np.round(grouped['Share of Women Inventors (%)'].mean()['Portugal'], decimals=2)\n",
    "print(\"PORTUGAL:\" + str(group_PRT) + \"%\")\n",
    "\n",
    "group_POL = np.round(grouped['Share of Women Inventors (%)'].mean()['Poland'], decimals=2)\n",
    "print(\"POLAND:  \" + str(group_POL) + \"%\")"
   ]
  },
  {
   "cell_type": "code",
   "execution_count": 52,
   "metadata": {
    "ExecuteTime": {
     "end_time": "2021-04-28T03:28:29.586518Z",
     "start_time": "2021-04-28T03:28:29.572555Z"
    }
   },
   "outputs": [
    {
     "name": "stdout",
     "output_type": "stream",
     "text": [
      "Global Mean of 'Share of Women Inventors (%)' between 2010 and 2014: 12.19%\n",
      "Global Standard Deviation of 'Share of Women Inventors (%)' between 2010 and 2014: 4.65%\n"
     ]
    }
   ],
   "source": [
    "mean_all = np.round(final['Share of Women Inventors (%)'].mean(), decimals=2)\n",
    "print(\"Global Mean of 'Share of Women Inventors (%)' between 2010 and 2014: \" + str(mean_all) + \"%\")\n",
    "\n",
    "std_all = np.round(grouped['Share of Women Inventors (%)'].mean().std(), decimals=2)\n",
    "print(\"Global Standard Deviation of 'Share of Women Inventors (%)' between 2010 and 2014: \" + str(std_all) + \"%\")"
   ]
  },
  {
   "cell_type": "code",
   "execution_count": 53,
   "metadata": {
    "ExecuteTime": {
     "end_time": "2021-04-28T03:28:29.679269Z",
     "start_time": "2021-04-28T03:28:29.588513Z"
    }
   },
   "outputs": [
    {
     "name": "stdout",
     "output_type": "stream",
     "text": [
      "Let's take a glance at the means of 'Share of Women Inventors (%)' of each OECD country:\n"
     ]
    },
    {
     "data": {
      "text/plain": [
       "Country\n",
       "Australia         11.14\n",
       "Austria            5.48\n",
       "Belgium           12.90\n",
       "Canada            12.06\n",
       "Chile             22.34\n",
       "Colombia          18.50\n",
       "Denmark           10.82\n",
       "Finland            9.50\n",
       "France            13.52\n",
       "Germany            7.10\n",
       "Greece            18.96\n",
       "Hungary            8.34\n",
       "Iceland            8.82\n",
       "Ireland            9.70\n",
       "Israel            13.24\n",
       "Italy             11.08\n",
       "Japan              7.36\n",
       "Lithuania         19.26\n",
       "Luxembourg         8.42\n",
       "Mexico            13.36\n",
       "Netherlands        9.02\n",
       "New Zealand        9.44\n",
       "Norway             8.60\n",
       "Poland            18.48\n",
       "Portugal          21.74\n",
       "Slovakia           5.44\n",
       "Slovenia          14.24\n",
       "Spain             19.80\n",
       "Sweden             8.22\n",
       "Switzerland       10.12\n",
       "Turkey            13.42\n",
       "United Kingdom    10.08\n",
       "United States     11.88\n",
       "Name: mean, dtype: float64"
      ]
     },
     "execution_count": 53,
     "metadata": {},
     "output_type": "execute_result"
    }
   ],
   "source": [
    "print(\"Let's take a glance at the means of 'Share of Women Inventors (%)' of each OECD country:\")\n",
    "np.round(grouped['Share of Women Inventors (%)'].describe()[\"mean\"], decimals=2)"
   ]
  },
  {
   "cell_type": "markdown",
   "metadata": {},
   "source": [
    "\n",
    "\n",
    "### What we discovered: The huge gap of female inventor percentage exists among OECD countries, and the most developed countries not necessarily have the highest percentage.\n",
    "\n",
    "### What about the change in the share of women inventors during these 5 years? Will countries vary substancially in it?\n"
   ]
  },
  {
   "cell_type": "code",
   "execution_count": 54,
   "metadata": {
    "ExecuteTime": {
     "end_time": "2021-04-28T03:28:30.108635Z",
     "start_time": "2021-04-28T03:28:29.682261Z"
    }
   },
   "outputs": [
    {
     "data": {
      "image/png": "[encoded data removed]",
      "text/plain": [
       "<Figure size 720x432 with 1 Axes>"
      ]
     },
     "metadata": {
      "needs_background": "light"
     },
     "output_type": "display_data"
    }
   ],
   "source": [
    "# Domestic change in the 'Share of Women Inventors'\n",
    "\n",
    "example = set([\"United States\",\"United Kingdom\",\"Chile\",\"Colombia\",\"Japan\",\"Portugal\",\"Poland\"])\n",
    "\n",
    "compare_example = final.loc[final.Country.isin(example)]\n",
    "\n",
    "plt.figure(figsize=(10,6))\n",
    "line = sns.lineplot(x='Year', y='Share of Women Inventors (%)', hue=\"Country\", data=compare_example)\n",
    "plt.xlabel(\"Year\", size = 14)\n",
    "plt.ylabel(\"Share of Women Inventors (%)\", size = 14)\n",
    "plt.title(\"OECD Countries: Change in the 'Share of Women Inventors'\", size=16)\n",
    "plt.show()"
   ]
  },
  {
   "cell_type": "markdown",
   "metadata": {},
   "source": [
    "\n",
    "### As what the figure above shows, we can find that some countries maintain a relatively low 'share of female inventors' for five years, while the others are developing and may experience markable fluctuations.\n",
    "\n",
    "### What is related to this phenomena? Would education be the important factors that might have relation, or even causation, with it?\n"
   ]
  },
  {
   "cell_type": "code",
   "execution_count": 55,
   "metadata": {
    "ExecuteTime": {
     "end_time": "2021-04-28T03:28:30.801495Z",
     "start_time": "2021-04-28T03:28:30.111629Z"
    }
   },
   "outputs": [
    {
     "name": "stdout",
     "output_type": "stream",
     "text": [
      "Let's create a barchart for Gross enrolment ratio, tertiary, gender parity index (GPI).\n",
      "\n",
      "*NOTE: missing Canada data*\n"
     ]
    },
    {
     "data": {
      "image/png": "[encoded data removed]",
      "text/plain": [
       "<Figure size 576x396 with 1 Axes>"
      ]
     },
     "metadata": {
      "needs_background": "light"
     },
     "output_type": "display_data"
    }
   ],
   "source": [
    "print(\"Let's create a barchart for Gross enrolment ratio, tertiary, gender parity index (GPI).\")\n",
    "print()\n",
    "print(\"*NOTE: missing Canada data*\")\n",
    "\n",
    "x = final.Country\n",
    "y = final['Gross enrolment ratio, tertiary, gender parity index (GPI)']\n",
    "plt.bar(x,y)\n",
    "plt.xlabel('Country')\n",
    "plt.xticks(rotation='vertical')\n",
    "plt.ylabel('GPI')\n",
    "plt.show()"
   ]
  },
  {
   "cell_type": "code",
   "execution_count": 56,
   "metadata": {
    "ExecuteTime": {
     "end_time": "2021-04-28T03:28:31.388797Z",
     "start_time": "2021-04-28T03:28:30.804423Z"
    }
   },
   "outputs": [
    {
     "name": "stdout",
     "output_type": "stream",
     "text": [
      "Create a barchart for Percentage of graduates from Science and Technology programmes in tertiary education who are female (%).\n",
      "\n",
      "*NOTE: missing Canada & Israel data*\n"
     ]
    },
    {
     "data": {
      "image/png": "[encoded data removed]",
      "text/plain": [
       "<Figure size 576x396 with 1 Axes>"
      ]
     },
     "metadata": {
      "needs_background": "light"
     },
     "output_type": "display_data"
    }
   ],
   "source": [
    "print(\"Create a barchart for Percentage of graduates from Science and Technology programmes in tertiary education who are female (%).\")\n",
    "print()\n",
    "print(\"*NOTE: missing Canada & Israel data*\")\n",
    "\n",
    "x = final.Country\n",
    "y = final['Percentage of graduates from Science and Technology programmes in tertiary education who are female (%)']\n",
    "\n",
    "plt.bar(x,y)\n",
    "\n",
    "plt.xlabel('Country', size = 14)\n",
    "plt.xticks(rotation='vertical')\n",
    "plt.ylabel('Percentage of Female Graduates (%)', size = 14)\n",
    "\n",
    "plt.show()"
   ]
  },
  {
   "cell_type": "markdown",
   "metadata": {},
   "source": [
    "\n",
    "### Observations of the charts above give us important insights: Gross enrolment ratio, tertiary, gender parity index (GPI) might not be a good predictor of the percentage of female inventors, given that the GPI does not vary a lot among OECD countries.\n",
    "\n",
    "### Let's check the correlation between 'Share of Women Inventors (%)' and multiple variables.\n"
   ]
  },
  {
   "cell_type": "code",
   "execution_count": 57,
   "metadata": {
    "ExecuteTime": {
     "end_time": "2021-04-28T03:28:31.419683Z",
     "start_time": "2021-04-28T03:28:31.392767Z"
    }
   },
   "outputs": [
    {
     "name": "stdout",
     "output_type": "stream",
     "text": [
      "Correlation for GPI:     -0.08894196173543101\n",
      "Correlation for STEM:     0.1675552771382865\n",
      "Correlation for Training:-0.29510206226813157\n",
      "Correlation for Money:   -0.47871431431135125\n",
      "Correlation for Attitude: 0.5250063650115774\n"
     ]
    }
   ],
   "source": [
    "correlation_GPI = grouped['Share of Women Inventors (%)'].mean().corr(grouped['Gross enrolment ratio, tertiary, gender parity index (GPI)'].mean())\n",
    "correlation_STEM = grouped['Share of Women Inventors (%)'].mean().corr(grouped['Percentage of graduates from Science and Technology programmes in tertiary education who are female (%)'].mean())\n",
    "correlation_train = grouped['Share of Women Inventors (%)'].mean().corr(grouped['Percentage of women declaring that they have access to training on how to start a business (%)'].mean())\n",
    "correlation_money = grouped['Share of Women Inventors (%)'].mean().corr(grouped['Percentage of women declaring that they have access to money to start a business (%)'].mean())\n",
    "correlation_attitude = grouped['Share of Women Inventors (%)'].mean().corr(grouped['Percentage of women prefering taking a risk and starting a new business to working for someone else (%)'].mean())\n",
    "\n",
    "print( (\"Correlation for GPI:     \") + str(correlation_GPI) )\n",
    "print( (\"Correlation for STEM:     \") + str(correlation_STEM) )\n",
    "print( (\"Correlation for Training:\") + str(correlation_train) )\n",
    "print( (\"Correlation for Money:   \") + str(correlation_money) )\n",
    "print( (\"Correlation for Attitude: \") + str(correlation_attitude) )"
   ]
  },
  {
   "cell_type": "markdown",
   "metadata": {},
   "source": [
    "\n",
    "### These numbers now give us a sense of what variables are important, but correlation itself only suggests linear relation, so we should be careful about what is going on between the 'Share of Women Inventors (%)' and these variables.\n",
    "\n",
    "### Now, we may assume that the access to money and attitude towards entrepreneural risks are likely to have a linear relation with the growth of female inventor group. Let's check it by drawing scatter plots.\n"
   ]
  },
  {
   "cell_type": "code",
   "execution_count": 58,
   "metadata": {
    "ExecuteTime": {
     "end_time": "2021-04-28T03:28:31.760782Z",
     "start_time": "2021-04-28T03:28:31.422675Z"
    }
   },
   "outputs": [
    {
     "data": {
      "image/png": "[encoded data removed]",
      "text/plain": [
       "<Figure size 576x396 with 1 Axes>"
      ]
     },
     "metadata": {
      "needs_background": "light"
     },
     "output_type": "display_data"
    }
   ],
   "source": [
    "X = grouped['Gross enrolment ratio, tertiary, gender parity index (GPI)'].mean()\n",
    "Y = grouped['Share of Women Inventors (%)'].mean()\n",
    "\n",
    "plt.scatter(X, Y, linewidths=3)\n",
    "plt.xlabel('GPI')\n",
    "plt.ylabel('Share of Women Inventors (%)')\n",
    "plt.title(\"Female Inventors (%) vs GPI\", size=20)\n",
    "plt.show()"
   ]
  },
  {
   "cell_type": "code",
   "execution_count": 59,
   "metadata": {
    "ExecuteTime": {
     "end_time": "2021-04-28T03:28:31.994340Z",
     "start_time": "2021-04-28T03:28:31.763708Z"
    }
   },
   "outputs": [
    {
     "data": {
      "image/png": "[encoded data removed]",
      "text/plain": [
       "<Figure size 576x396 with 1 Axes>"
      ]
     },
     "metadata": {
      "needs_background": "light"
     },
     "output_type": "display_data"
    }
   ],
   "source": [
    "X = grouped['Percentage of graduates from Science and Technology programmes in tertiary education who are female (%)'].mean()\n",
    "Y = grouped['Share of Women Inventors (%)'].mean()\n",
    "\n",
    "plt.scatter(X, Y, linewidths=3)\n",
    "plt.xlabel('STEM Graduates(%)')\n",
    "plt.ylabel('Share of Women Inventors (%)')\n",
    "plt.title(\"Female Inventors (%) vs STEM Programmes Graduates\", size=20)\n",
    "plt.show()"
   ]
  },
  {
   "cell_type": "code",
   "execution_count": 60,
   "metadata": {
    "ExecuteTime": {
     "end_time": "2021-04-28T03:28:32.226281Z",
     "start_time": "2021-04-28T03:28:31.997302Z"
    }
   },
   "outputs": [
    {
     "data": {
      "image/png": "[encoded data removed]",
      "text/plain": [
       "<Figure size 576x396 with 1 Axes>"
      ]
     },
     "metadata": {
      "needs_background": "light"
     },
     "output_type": "display_data"
    }
   ],
   "source": [
    "X = grouped['Percentage of women declaring that they have access to training on how to start a business (%)'].mean()\n",
    "Y = grouped['Share of Women Inventors (%)'].mean()\n",
    "\n",
    "plt.scatter(X, Y, linewidths=3)\n",
    "plt.xlabel('Have Access to Training (%)')\n",
    "plt.ylabel('Share of Women Inventors (%)')\n",
    "plt.title(\"Female Inventors (%) vs Access to training (%)\", size=20)\n",
    "plt.show()"
   ]
  },
  {
   "cell_type": "code",
   "execution_count": 61,
   "metadata": {
    "ExecuteTime": {
     "end_time": "2021-04-28T03:28:32.443908Z",
     "start_time": "2021-04-28T03:28:32.228207Z"
    }
   },
   "outputs": [
    {
     "data": {
      "image/png": "[encoded data removed]",
      "text/plain": [
       "<Figure size 576x396 with 1 Axes>"
      ]
     },
     "metadata": {
      "needs_background": "light"
     },
     "output_type": "display_data"
    }
   ],
   "source": [
    "X = grouped['Percentage of women declaring that they have access to money to start a business (%)'].mean()\n",
    "Y = grouped['Share of Women Inventors (%)'].mean()\n",
    "\n",
    "plt.scatter(X, Y, linewidths=3)\n",
    "plt.xlabel('Have Access to Money (%)')\n",
    "plt.ylabel('Share of Women Inventors (%)')\n",
    "plt.title(\"Female Inventors (%) vs Access to Money (%)\", size=20)\n",
    "plt.show()"
   ]
  },
  {
   "cell_type": "code",
   "execution_count": 62,
   "metadata": {
    "ExecuteTime": {
     "end_time": "2021-04-28T03:28:32.643920Z",
     "start_time": "2021-04-28T03:28:32.445904Z"
    }
   },
   "outputs": [
    {
     "data": {
      "image/png": "[encoded data removed]",
      "text/plain": [
       "<Figure size 576x396 with 1 Axes>"
      ]
     },
     "metadata": {
      "needs_background": "light"
     },
     "output_type": "display_data"
    }
   ],
   "source": [
    "X = grouped['Percentage of women prefering taking a risk and starting a new business to working for someone else (%)'].mean()\n",
    "Y = grouped['Share of Women Inventors (%)'].mean()\n",
    "\n",
    "plt.scatter(X, Y, linewidths=3)\n",
    "plt.xlabel('Positive Attitude (%)')\n",
    "plt.ylabel('Share of Women Inventors (%)')\n",
    "plt.title(\"Female Inventors (%) vs Attitude to Entrepreneural Risks(%)\", size=20)\n",
    "plt.show()"
   ]
  },
  {
   "cell_type": "markdown",
   "metadata": {},
   "source": [
    "## Confirm/Update Research Questions and Data Description:\n",
    "\n",
    "From the scatter plots above, we can find two patterns, though not very conspicuous: for those OECD countries where female survey respondents declare not having access to money, the percentages of female inventors are likely to be higher; for those OECD countries where the female survey respondents declare preference of taking risks and not working for someone else, the shares of women inventors are also likely to be higher.\n",
    "\n",
    "What we can update with our research questions is that we find out that Education may not be a strong predictor of female inventors; also, our findings confirm the speculation of the relation between adventurous spirit and inventiveness for females. What might be counter-intuitive is that having access to money to start new business has negative relation with the percentage of female inventor in a country. A possibile explanation is that female property owners are less likely to take entrepreneural risks and pursue inventions, but we are not able to confirm this speculation yet."
   ]
  },
  {
   "cell_type": "markdown",
   "metadata": {},
   "source": [
    "## 6. Questions for Reviewers\n",
    "\n",
    "1. Is our research question(s) so far detailed and overarching enough to have the potential to dig into?\n",
    "2. Do you think the variables (factors that might influence share of women inventors) we include so far is enough? What variables or datasets can we look for further to make stronger arguments?\n",
    "3. Given that we are only focusing on 2010-2014, shall we expand the time range to 10 years or even beyond so that we have more substantive data to come to a conclusion?"
   ]
  }
 ],
 "metadata": {
  "kernelspec": {
   "display_name": "Python 3",
   "language": "python",
   "name": "python3"
  },
  "language_info": {
   "codemirror_mode": {
    "name": "ipython",
    "version": 3
   },
   "file_extension": ".py",
   "mimetype": "text/x-python",
   "name": "python",
   "nbconvert_exporter": "python",
   "pygments_lexer": "ipython3",
   "version": "3.7.4"
  }
 },
 "nbformat": 4,
 "nbformat_minor": 4
}
