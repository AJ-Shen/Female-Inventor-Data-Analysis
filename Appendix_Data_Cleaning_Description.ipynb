{
 "cells": [
  {
   "cell_type": "markdown",
   "metadata": {},
   "source": [
    "# Data Cleaning"
   ]
  },
  {
   "cell_type": "markdown",
   "metadata": {},
   "source": [
    "## 1. Dataset: Share of Women Inventors"
   ]
  },
  {
   "cell_type": "code",
   "execution_count": 1,
   "metadata": {
    "ExecuteTime": {
     "end_time": "2021-04-28T03:28:28.123936Z",
     "start_time": "2021-04-28T03:28:26.608082Z"
    }
   },
   "outputs": [],
   "source": [
    "import pandas as pd\n",
    "import numpy as np\n",
    "import matplotlib.pyplot as plt\n",
    "from scipy import stats"
   ]
  },
  {
   "cell_type": "markdown",
   "metadata": {},
   "source": [
    "5 Datasets are downloaded before preprocessing in this jupyter notebook:\n",
    "\n",
    "2 datasets from Max Roser and Esteban Ortiz-Ospina (2013) - \"Tertiary Education\". Published online at OurWorldInData.org. Retrieved from: 'https://ourworldindata.org/tertiary-education' [Online Resource].\n",
    "\n",
    "1. gpi-tertiary-education.csv \n",
    "2. share-graduates-stem-female.csv\n",
    "\n",
    "3 datasets from OECD.Stat (https://stats.oecd.org/index.aspx?queryid=83119#).\n",
    "\n",
    "1. Share_of_women_inventors.csv \n",
    "2. Attitude_towards_entrepreneurial_risk_by_sex.csv \n",
    "3. Access_to_training_and_money_to_start_a_business_by_sex.csv "
   ]
  },
  {
   "cell_type": "code",
   "execution_count": 2,
   "metadata": {
    "ExecuteTime": {
     "end_time": "2021-04-28T03:28:28.200139Z",
     "start_time": "2021-04-28T03:28:28.126583Z"
    }
   },
   "outputs": [
    {
     "data": {
      "text/html": [
       "<div>\n",
       "<style scoped>\n",
       "    .dataframe tbody tr th:only-of-type {\n",
       "        vertical-align: middle;\n",
       "    }\n",
       "\n",
       "    .dataframe tbody tr th {\n",
       "        vertical-align: top;\n",
       "    }\n",
       "\n",
       "    .dataframe thead th {\n",
       "        text-align: right;\n",
       "    }\n",
       "</style>\n",
       "<table border=\"1\" class=\"dataframe\">\n",
       "  <thead>\n",
       "    <tr style=\"text-align: right;\">\n",
       "      <th></th>\n",
       "      <th>Country</th>\n",
       "      <th>Year</th>\n",
       "      <th>Unit</th>\n",
       "      <th>Share of Women Inventors (%)</th>\n",
       "    </tr>\n",
       "  </thead>\n",
       "  <tbody>\n",
       "    <tr>\n",
       "      <td>0</td>\n",
       "      <td>Argentina</td>\n",
       "      <td>1996</td>\n",
       "      <td>Percentage</td>\n",
       "      <td>10.7</td>\n",
       "    </tr>\n",
       "    <tr>\n",
       "      <td>1</td>\n",
       "      <td>Argentina</td>\n",
       "      <td>1997</td>\n",
       "      <td>Percentage</td>\n",
       "      <td>8.6</td>\n",
       "    </tr>\n",
       "    <tr>\n",
       "      <td>2</td>\n",
       "      <td>Argentina</td>\n",
       "      <td>1998</td>\n",
       "      <td>Percentage</td>\n",
       "      <td>9.4</td>\n",
       "    </tr>\n",
       "    <tr>\n",
       "      <td>3</td>\n",
       "      <td>Argentina</td>\n",
       "      <td>1999</td>\n",
       "      <td>Percentage</td>\n",
       "      <td>12.9</td>\n",
       "    </tr>\n",
       "    <tr>\n",
       "      <td>4</td>\n",
       "      <td>Argentina</td>\n",
       "      <td>2000</td>\n",
       "      <td>Percentage</td>\n",
       "      <td>16.4</td>\n",
       "    </tr>\n",
       "  </tbody>\n",
       "</table>\n",
       "</div>"
      ],
      "text/plain": [
       "     Country  Year        Unit  Share of Women Inventors (%)\n",
       "0  Argentina  1996  Percentage                          10.7\n",
       "1  Argentina  1997  Percentage                           8.6\n",
       "2  Argentina  1998  Percentage                           9.4\n",
       "3  Argentina  1999  Percentage                          12.9\n",
       "4  Argentina  2000  Percentage                          16.4"
      ]
     },
     "execution_count": 2,
     "metadata": {},
     "output_type": "execute_result"
    }
   ],
   "source": [
    "#load raw dataset of Share of Women Inventors\n",
    "share_of_women_inventors = pd.read_csv(\"share_of_women_inventors.csv\")\n",
    "\n",
    "#get rid of undesired columns\n",
    "share_of_women_inventors = share_of_women_inventors.drop(columns=['LOCATION','INDICATOR','SEX','Sex','AGE','Age','TIME','Unit Code','PowerCode Code','PowerCode','Reference Period Code','Reference Period','Flag Codes','Flags'])\n",
    "\n",
    "#merge indicator and value columns to one column\n",
    "share_of_women_inventors['Share of Women Inventors (%)'] = share_of_women_inventors['Value']\n",
    "\n",
    "#get rid of the original indicator and value columns\n",
    "share_of_women_inventors = share_of_women_inventors.drop(columns=['Indicator','Value'])\n",
    "\n",
    "#view of the dataset\n",
    "share_of_women_inventors.head()"
   ]
  },
  {
   "cell_type": "markdown",
   "metadata": {},
   "source": [
    "To clarity, GPI Ratio of female to male net enrolment ratio for tertiary education. It is calculated by dividing the female value for the indicator by the male value for the indicator. A GPI of 1 indicates parity between females and males. A value less than 1 indicates disparity in favor of males and a value greater than 1 indicates disparity in favor of females. "
   ]
  },
  {
   "cell_type": "code",
   "execution_count": 3,
   "metadata": {
    "ExecuteTime": {
     "end_time": "2021-04-28T03:28:28.215098Z",
     "start_time": "2021-04-28T03:28:28.203132Z"
    }
   },
   "outputs": [
    {
     "data": {
      "text/plain": [
       "(1074, 4)"
      ]
     },
     "execution_count": 3,
     "metadata": {},
     "output_type": "execute_result"
    }
   ],
   "source": [
    "#size of the dataset\n",
    "share_of_women_inventors.shape"
   ]
  },
  {
   "cell_type": "code",
   "execution_count": 4,
   "metadata": {
    "ExecuteTime": {
     "end_time": "2021-04-28T03:28:28.231056Z",
     "start_time": "2021-04-28T03:28:28.218094Z"
    }
   },
   "outputs": [],
   "source": [
    "#create a list of desired OECD countries\n",
    "countries = set(\n",
    "    [\n",
    "        \"Australia\",\n",
    "        \"Austria\",\n",
    "        \"Belgium\",\n",
    "        \"Canada\",\n",
    "        \"Chile\",\n",
    "        \"Colombia\",\n",
    "        \"Denmark\",\n",
    "        \"Finland\",\n",
    "        \"France\",\n",
    "        \"Germany\",\n",
    "        \"Greece\",\n",
    "        \"Hungary\",\n",
    "        \"Iceland\",\n",
    "        \"Ireland\",\n",
    "        \"Israel\",\n",
    "        \"Italy\",\n",
    "        \"Japan\",\n",
    "        \"Lithuania\",\n",
    "        \"Luxembourg\",\n",
    "        \"Mexico\",\n",
    "        \"Netherlands\",\n",
    "        \"New Zealand\",\n",
    "        \"Norway\",\n",
    "        \"Poland\",\n",
    "        \"Portugal\",\n",
    "        \"Slovakia\",\n",
    "        \"Slovenia\",\n",
    "        \"Spain\",\n",
    "        \"Sweden\",\n",
    "        \"Switzerland\",\n",
    "        \"Turkey\",\n",
    "        \"United Kingdom\",\n",
    "        \"United States\",\n",
    "    ]\n",
    ")"
   ]
  },
  {
   "cell_type": "code",
   "execution_count": 5,
   "metadata": {
    "ExecuteTime": {
     "end_time": "2021-04-28T03:28:28.261980Z",
     "start_time": "2021-04-28T03:28:28.234050Z"
    }
   },
   "outputs": [
    {
     "data": {
      "text/html": [
       "<div>\n",
       "<style scoped>\n",
       "    .dataframe tbody tr th:only-of-type {\n",
       "        vertical-align: middle;\n",
       "    }\n",
       "\n",
       "    .dataframe tbody tr th {\n",
       "        vertical-align: top;\n",
       "    }\n",
       "\n",
       "    .dataframe thead th {\n",
       "        text-align: right;\n",
       "    }\n",
       "</style>\n",
       "<table border=\"1\" class=\"dataframe\">\n",
       "  <thead>\n",
       "    <tr style=\"text-align: right;\">\n",
       "      <th></th>\n",
       "      <th>Country</th>\n",
       "      <th>Year</th>\n",
       "      <th>Unit</th>\n",
       "      <th>Share of Women Inventors (%)</th>\n",
       "    </tr>\n",
       "  </thead>\n",
       "  <tbody>\n",
       "    <tr>\n",
       "      <td>0</td>\n",
       "      <td>Australia</td>\n",
       "      <td>1985</td>\n",
       "      <td>Percentage</td>\n",
       "      <td>4.4</td>\n",
       "    </tr>\n",
       "    <tr>\n",
       "      <td>1</td>\n",
       "      <td>Australia</td>\n",
       "      <td>1986</td>\n",
       "      <td>Percentage</td>\n",
       "      <td>4.7</td>\n",
       "    </tr>\n",
       "    <tr>\n",
       "      <td>2</td>\n",
       "      <td>Australia</td>\n",
       "      <td>1987</td>\n",
       "      <td>Percentage</td>\n",
       "      <td>5.7</td>\n",
       "    </tr>\n",
       "    <tr>\n",
       "      <td>3</td>\n",
       "      <td>Australia</td>\n",
       "      <td>1988</td>\n",
       "      <td>Percentage</td>\n",
       "      <td>6.0</td>\n",
       "    </tr>\n",
       "    <tr>\n",
       "      <td>4</td>\n",
       "      <td>Australia</td>\n",
       "      <td>1989</td>\n",
       "      <td>Percentage</td>\n",
       "      <td>6.5</td>\n",
       "    </tr>\n",
       "    <tr>\n",
       "      <td>...</td>\n",
       "      <td>...</td>\n",
       "      <td>...</td>\n",
       "      <td>...</td>\n",
       "      <td>...</td>\n",
       "    </tr>\n",
       "    <tr>\n",
       "      <td>913</td>\n",
       "      <td>United States</td>\n",
       "      <td>2013</td>\n",
       "      <td>Percentage</td>\n",
       "      <td>12.1</td>\n",
       "    </tr>\n",
       "    <tr>\n",
       "      <td>914</td>\n",
       "      <td>United States</td>\n",
       "      <td>2014</td>\n",
       "      <td>Percentage</td>\n",
       "      <td>12.1</td>\n",
       "    </tr>\n",
       "    <tr>\n",
       "      <td>915</td>\n",
       "      <td>United States</td>\n",
       "      <td>2015</td>\n",
       "      <td>Percentage</td>\n",
       "      <td>12.1</td>\n",
       "    </tr>\n",
       "    <tr>\n",
       "      <td>916</td>\n",
       "      <td>United States</td>\n",
       "      <td>2016</td>\n",
       "      <td>Percentage</td>\n",
       "      <td>11.9</td>\n",
       "    </tr>\n",
       "    <tr>\n",
       "      <td>917</td>\n",
       "      <td>United States</td>\n",
       "      <td>2017</td>\n",
       "      <td>Percentage</td>\n",
       "      <td>11.8</td>\n",
       "    </tr>\n",
       "  </tbody>\n",
       "</table>\n",
       "<p>918 rows × 4 columns</p>\n",
       "</div>"
      ],
      "text/plain": [
       "           Country  Year        Unit  Share of Women Inventors (%)\n",
       "0        Australia  1985  Percentage                           4.4\n",
       "1        Australia  1986  Percentage                           4.7\n",
       "2        Australia  1987  Percentage                           5.7\n",
       "3        Australia  1988  Percentage                           6.0\n",
       "4        Australia  1989  Percentage                           6.5\n",
       "..             ...   ...         ...                           ...\n",
       "913  United States  2013  Percentage                          12.1\n",
       "914  United States  2014  Percentage                          12.1\n",
       "915  United States  2015  Percentage                          12.1\n",
       "916  United States  2016  Percentage                          11.9\n",
       "917  United States  2017  Percentage                          11.8\n",
       "\n",
       "[918 rows x 4 columns]"
      ]
     },
     "execution_count": 5,
     "metadata": {},
     "output_type": "execute_result"
    }
   ],
   "source": [
    "#filter out the desired countries in the dataset\n",
    "share_of_women_inventors_1 = share_of_women_inventors.loc[share_of_women_inventors.Country.isin(countries)]\n",
    "\n",
    "#reset index\n",
    "share_of_women_inventors_1.reset_index(drop='True')"
   ]
  },
  {
   "cell_type": "code",
   "execution_count": 6,
   "metadata": {
    "ExecuteTime": {
     "end_time": "2021-04-28T03:28:28.277933Z",
     "start_time": "2021-04-28T03:28:28.264967Z"
    }
   },
   "outputs": [],
   "source": [
    "years = set(\n",
    "    [\n",
    "        \"2010\",\n",
    "        \"2011\",\n",
    "        \"2012\",\n",
    "        \"2013\",\n",
    "        \"2014\",\n",
    "    ]\n",
    ")"
   ]
  },
  {
   "cell_type": "code",
   "execution_count": 7,
   "metadata": {
    "ExecuteTime": {
     "end_time": "2021-04-28T03:28:28.309125Z",
     "start_time": "2021-04-28T03:28:28.279942Z"
    }
   },
   "outputs": [],
   "source": [
    "#filter out the desired countries in the dataset\n",
    "share_of_women_inventors_final = share_of_women_inventors_1.loc[share_of_women_inventors_1.Year.astype(str).isin(years)]"
   ]
  },
  {
   "cell_type": "code",
   "execution_count": 8,
   "metadata": {
    "ExecuteTime": {
     "end_time": "2021-04-28T03:28:28.340040Z",
     "start_time": "2021-04-28T03:28:28.314111Z"
    }
   },
   "outputs": [
    {
     "data": {
      "text/html": [
       "<div>\n",
       "<style scoped>\n",
       "    .dataframe tbody tr th:only-of-type {\n",
       "        vertical-align: middle;\n",
       "    }\n",
       "\n",
       "    .dataframe tbody tr th {\n",
       "        vertical-align: top;\n",
       "    }\n",
       "\n",
       "    .dataframe thead th {\n",
       "        text-align: right;\n",
       "    }\n",
       "</style>\n",
       "<table border=\"1\" class=\"dataframe\">\n",
       "  <thead>\n",
       "    <tr style=\"text-align: right;\">\n",
       "      <th></th>\n",
       "      <th>Country</th>\n",
       "      <th>Year</th>\n",
       "      <th>Unit</th>\n",
       "      <th>Share of Women Inventors (%)</th>\n",
       "    </tr>\n",
       "  </thead>\n",
       "  <tbody>\n",
       "    <tr>\n",
       "      <td>0</td>\n",
       "      <td>Australia</td>\n",
       "      <td>2010</td>\n",
       "      <td>Percentage</td>\n",
       "      <td>10.7</td>\n",
       "    </tr>\n",
       "    <tr>\n",
       "      <td>1</td>\n",
       "      <td>Australia</td>\n",
       "      <td>2011</td>\n",
       "      <td>Percentage</td>\n",
       "      <td>11.0</td>\n",
       "    </tr>\n",
       "    <tr>\n",
       "      <td>2</td>\n",
       "      <td>Australia</td>\n",
       "      <td>2012</td>\n",
       "      <td>Percentage</td>\n",
       "      <td>11.1</td>\n",
       "    </tr>\n",
       "    <tr>\n",
       "      <td>3</td>\n",
       "      <td>Australia</td>\n",
       "      <td>2013</td>\n",
       "      <td>Percentage</td>\n",
       "      <td>11.4</td>\n",
       "    </tr>\n",
       "    <tr>\n",
       "      <td>4</td>\n",
       "      <td>Australia</td>\n",
       "      <td>2014</td>\n",
       "      <td>Percentage</td>\n",
       "      <td>11.5</td>\n",
       "    </tr>\n",
       "    <tr>\n",
       "      <td>...</td>\n",
       "      <td>...</td>\n",
       "      <td>...</td>\n",
       "      <td>...</td>\n",
       "      <td>...</td>\n",
       "    </tr>\n",
       "    <tr>\n",
       "      <td>160</td>\n",
       "      <td>United States</td>\n",
       "      <td>2010</td>\n",
       "      <td>Percentage</td>\n",
       "      <td>11.7</td>\n",
       "    </tr>\n",
       "    <tr>\n",
       "      <td>161</td>\n",
       "      <td>United States</td>\n",
       "      <td>2011</td>\n",
       "      <td>Percentage</td>\n",
       "      <td>11.7</td>\n",
       "    </tr>\n",
       "    <tr>\n",
       "      <td>162</td>\n",
       "      <td>United States</td>\n",
       "      <td>2012</td>\n",
       "      <td>Percentage</td>\n",
       "      <td>11.8</td>\n",
       "    </tr>\n",
       "    <tr>\n",
       "      <td>163</td>\n",
       "      <td>United States</td>\n",
       "      <td>2013</td>\n",
       "      <td>Percentage</td>\n",
       "      <td>12.1</td>\n",
       "    </tr>\n",
       "    <tr>\n",
       "      <td>164</td>\n",
       "      <td>United States</td>\n",
       "      <td>2014</td>\n",
       "      <td>Percentage</td>\n",
       "      <td>12.1</td>\n",
       "    </tr>\n",
       "  </tbody>\n",
       "</table>\n",
       "<p>165 rows × 4 columns</p>\n",
       "</div>"
      ],
      "text/plain": [
       "           Country  Year        Unit  Share of Women Inventors (%)\n",
       "0        Australia  2010  Percentage                          10.7\n",
       "1        Australia  2011  Percentage                          11.0\n",
       "2        Australia  2012  Percentage                          11.1\n",
       "3        Australia  2013  Percentage                          11.4\n",
       "4        Australia  2014  Percentage                          11.5\n",
       "..             ...   ...         ...                           ...\n",
       "160  United States  2010  Percentage                          11.7\n",
       "161  United States  2011  Percentage                          11.7\n",
       "162  United States  2012  Percentage                          11.8\n",
       "163  United States  2013  Percentage                          12.1\n",
       "164  United States  2014  Percentage                          12.1\n",
       "\n",
       "[165 rows x 4 columns]"
      ]
     },
     "execution_count": 8,
     "metadata": {},
     "output_type": "execute_result"
    }
   ],
   "source": [
    "#view of cleaned dataset\n",
    "share_of_women_inventors_final.head()\n",
    "\n",
    "#reset index\n",
    "share_of_women_inventors_final.reset_index(drop='True')"
   ]
  },
  {
   "cell_type": "code",
   "execution_count": 9,
   "metadata": {
    "ExecuteTime": {
     "end_time": "2021-04-28T03:28:28.355001Z",
     "start_time": "2021-04-28T03:28:28.344031Z"
    }
   },
   "outputs": [
    {
     "data": {
      "text/plain": [
       "(165, 4)"
      ]
     },
     "execution_count": 9,
     "metadata": {},
     "output_type": "execute_result"
    }
   ],
   "source": [
    "#size of the cleaned dataset\n",
    "share_of_women_inventors_final.shape"
   ]
  },
  {
   "cell_type": "markdown",
   "metadata": {},
   "source": [
    "## 2. Dataset: Education Factors"
   ]
  },
  {
   "cell_type": "code",
   "execution_count": 10,
   "metadata": {
    "ExecuteTime": {
     "end_time": "2021-04-28T03:28:28.385503Z",
     "start_time": "2021-04-28T03:28:28.357993Z"
    },
    "scrolled": true
   },
   "outputs": [
    {
     "data": {
      "text/html": [
       "<div>\n",
       "<style scoped>\n",
       "    .dataframe tbody tr th:only-of-type {\n",
       "        vertical-align: middle;\n",
       "    }\n",
       "\n",
       "    .dataframe tbody tr th {\n",
       "        vertical-align: top;\n",
       "    }\n",
       "\n",
       "    .dataframe thead th {\n",
       "        text-align: right;\n",
       "    }\n",
       "</style>\n",
       "<table border=\"1\" class=\"dataframe\">\n",
       "  <thead>\n",
       "    <tr style=\"text-align: right;\">\n",
       "      <th></th>\n",
       "      <th>Country</th>\n",
       "      <th>Year</th>\n",
       "      <th>Gross enrolment ratio, tertiary, gender parity index (GPI)</th>\n",
       "    </tr>\n",
       "  </thead>\n",
       "  <tbody>\n",
       "    <tr>\n",
       "      <td>0</td>\n",
       "      <td>Afghanistan</td>\n",
       "      <td>1970</td>\n",
       "      <td>0.16565</td>\n",
       "    </tr>\n",
       "    <tr>\n",
       "      <td>1</td>\n",
       "      <td>Afghanistan</td>\n",
       "      <td>1972</td>\n",
       "      <td>0.15370</td>\n",
       "    </tr>\n",
       "    <tr>\n",
       "      <td>2</td>\n",
       "      <td>Afghanistan</td>\n",
       "      <td>1973</td>\n",
       "      <td>0.18578</td>\n",
       "    </tr>\n",
       "    <tr>\n",
       "      <td>3</td>\n",
       "      <td>Afghanistan</td>\n",
       "      <td>1974</td>\n",
       "      <td>0.16274</td>\n",
       "    </tr>\n",
       "    <tr>\n",
       "      <td>4</td>\n",
       "      <td>Afghanistan</td>\n",
       "      <td>1975</td>\n",
       "      <td>0.16533</td>\n",
       "    </tr>\n",
       "  </tbody>\n",
       "</table>\n",
       "</div>"
      ],
      "text/plain": [
       "       Country  Year  \\\n",
       "0  Afghanistan  1970   \n",
       "1  Afghanistan  1972   \n",
       "2  Afghanistan  1973   \n",
       "3  Afghanistan  1974   \n",
       "4  Afghanistan  1975   \n",
       "\n",
       "   Gross enrolment ratio, tertiary, gender parity index (GPI)  \n",
       "0                                            0.16565           \n",
       "1                                            0.15370           \n",
       "2                                            0.18578           \n",
       "3                                            0.16274           \n",
       "4                                            0.16533           "
      ]
     },
     "execution_count": 10,
     "metadata": {},
     "output_type": "execute_result"
    }
   ],
   "source": [
    "#load raw dataset of GPI enrollment ratio of tertiary education (women to men)\n",
    "gpi = pd.read_csv(\"gpi-tertiary-education.csv\")\n",
    "\n",
    "#get rid of undesired columns\n",
    "gpi = gpi.drop(columns=['Code'])\n",
    "\n",
    "#view of the dataset\n",
    "gpi.head()"
   ]
  },
  {
   "cell_type": "code",
   "execution_count": 11,
   "metadata": {
    "ExecuteTime": {
     "end_time": "2021-04-28T03:28:28.400974Z",
     "start_time": "2021-04-28T03:28:28.388010Z"
    }
   },
   "outputs": [
    {
     "data": {
      "text/plain": [
       "(5382, 3)"
      ]
     },
     "execution_count": 11,
     "metadata": {},
     "output_type": "execute_result"
    }
   ],
   "source": [
    "#size of the dataset\n",
    "gpi.shape"
   ]
  },
  {
   "cell_type": "code",
   "execution_count": 12,
   "metadata": {
    "ExecuteTime": {
     "end_time": "2021-04-28T03:28:28.415934Z",
     "start_time": "2021-04-28T03:28:28.403966Z"
    }
   },
   "outputs": [],
   "source": [
    "#filter out the desired countries in the dataset\n",
    "gpi_1 = gpi.loc[gpi.Country.isin(countries)]"
   ]
  },
  {
   "cell_type": "code",
   "execution_count": 13,
   "metadata": {
    "ExecuteTime": {
     "end_time": "2021-04-28T03:28:28.431893Z",
     "start_time": "2021-04-28T03:28:28.417931Z"
    }
   },
   "outputs": [],
   "source": [
    "#filter out the desired countries in the dataset\n",
    "gpi_final = gpi_1.loc[gpi_1.Year.astype(str).isin(years)]"
   ]
  },
  {
   "cell_type": "code",
   "execution_count": 14,
   "metadata": {
    "ExecuteTime": {
     "end_time": "2021-04-28T03:28:28.461811Z",
     "start_time": "2021-04-28T03:28:28.434885Z"
    }
   },
   "outputs": [
    {
     "data": {
      "text/html": [
       "<div>\n",
       "<style scoped>\n",
       "    .dataframe tbody tr th:only-of-type {\n",
       "        vertical-align: middle;\n",
       "    }\n",
       "\n",
       "    .dataframe tbody tr th {\n",
       "        vertical-align: top;\n",
       "    }\n",
       "\n",
       "    .dataframe thead th {\n",
       "        text-align: right;\n",
       "    }\n",
       "</style>\n",
       "<table border=\"1\" class=\"dataframe\">\n",
       "  <thead>\n",
       "    <tr style=\"text-align: right;\">\n",
       "      <th></th>\n",
       "      <th>Country</th>\n",
       "      <th>Year</th>\n",
       "      <th>Gross enrolment ratio, tertiary, gender parity index (GPI)</th>\n",
       "    </tr>\n",
       "  </thead>\n",
       "  <tbody>\n",
       "    <tr>\n",
       "      <td>0</td>\n",
       "      <td>Australia</td>\n",
       "      <td>2010</td>\n",
       "      <td>1.38099</td>\n",
       "    </tr>\n",
       "    <tr>\n",
       "      <td>1</td>\n",
       "      <td>Australia</td>\n",
       "      <td>2011</td>\n",
       "      <td>1.39396</td>\n",
       "    </tr>\n",
       "    <tr>\n",
       "      <td>2</td>\n",
       "      <td>Australia</td>\n",
       "      <td>2012</td>\n",
       "      <td>1.40529</td>\n",
       "    </tr>\n",
       "    <tr>\n",
       "      <td>3</td>\n",
       "      <td>Australia</td>\n",
       "      <td>2013</td>\n",
       "      <td>1.40312</td>\n",
       "    </tr>\n",
       "    <tr>\n",
       "      <td>4</td>\n",
       "      <td>Australia</td>\n",
       "      <td>2014</td>\n",
       "      <td>1.40312</td>\n",
       "    </tr>\n",
       "    <tr>\n",
       "      <td>...</td>\n",
       "      <td>...</td>\n",
       "      <td>...</td>\n",
       "      <td>...</td>\n",
       "    </tr>\n",
       "    <tr>\n",
       "      <td>160</td>\n",
       "      <td>United States</td>\n",
       "      <td>2010</td>\n",
       "      <td>1.40825</td>\n",
       "    </tr>\n",
       "    <tr>\n",
       "      <td>161</td>\n",
       "      <td>United States</td>\n",
       "      <td>2011</td>\n",
       "      <td>1.40311</td>\n",
       "    </tr>\n",
       "    <tr>\n",
       "      <td>162</td>\n",
       "      <td>United States</td>\n",
       "      <td>2012</td>\n",
       "      <td>1.40738</td>\n",
       "    </tr>\n",
       "    <tr>\n",
       "      <td>163</td>\n",
       "      <td>United States</td>\n",
       "      <td>2013</td>\n",
       "      <td>1.38494</td>\n",
       "    </tr>\n",
       "    <tr>\n",
       "      <td>164</td>\n",
       "      <td>United States</td>\n",
       "      <td>2014</td>\n",
       "      <td>1.37069</td>\n",
       "    </tr>\n",
       "  </tbody>\n",
       "</table>\n",
       "<p>165 rows × 3 columns</p>\n",
       "</div>"
      ],
      "text/plain": [
       "           Country  Year  \\\n",
       "0        Australia  2010   \n",
       "1        Australia  2011   \n",
       "2        Australia  2012   \n",
       "3        Australia  2013   \n",
       "4        Australia  2014   \n",
       "..             ...   ...   \n",
       "160  United States  2010   \n",
       "161  United States  2011   \n",
       "162  United States  2012   \n",
       "163  United States  2013   \n",
       "164  United States  2014   \n",
       "\n",
       "     Gross enrolment ratio, tertiary, gender parity index (GPI)  \n",
       "0                                              1.38099           \n",
       "1                                              1.39396           \n",
       "2                                              1.40529           \n",
       "3                                              1.40312           \n",
       "4                                              1.40312           \n",
       "..                                                 ...           \n",
       "160                                            1.40825           \n",
       "161                                            1.40311           \n",
       "162                                            1.40738           \n",
       "163                                            1.38494           \n",
       "164                                            1.37069           \n",
       "\n",
       "[165 rows x 3 columns]"
      ]
     },
     "execution_count": 14,
     "metadata": {},
     "output_type": "execute_result"
    }
   ],
   "source": [
    "#view of cleaned dataset\n",
    "gpi_final.head()\n",
    "\n",
    "#reset index\n",
    "gpi_final.reset_index(drop='True')"
   ]
  },
  {
   "cell_type": "code",
   "execution_count": 15,
   "metadata": {
    "ExecuteTime": {
     "end_time": "2021-04-28T03:28:28.493239Z",
     "start_time": "2021-04-28T03:28:28.463806Z"
    }
   },
   "outputs": [
    {
     "data": {
      "text/html": [
       "<div>\n",
       "<style scoped>\n",
       "    .dataframe tbody tr th:only-of-type {\n",
       "        vertical-align: middle;\n",
       "    }\n",
       "\n",
       "    .dataframe tbody tr th {\n",
       "        vertical-align: top;\n",
       "    }\n",
       "\n",
       "    .dataframe thead th {\n",
       "        text-align: right;\n",
       "    }\n",
       "</style>\n",
       "<table border=\"1\" class=\"dataframe\">\n",
       "  <thead>\n",
       "    <tr style=\"text-align: right;\">\n",
       "      <th></th>\n",
       "      <th>Country</th>\n",
       "      <th>Year</th>\n",
       "      <th>Gross enrolment ratio, tertiary, gender parity index (GPI)</th>\n",
       "    </tr>\n",
       "  </thead>\n",
       "  <tbody>\n",
       "    <tr>\n",
       "      <td>0</td>\n",
       "      <td>Australia</td>\n",
       "      <td>2010</td>\n",
       "      <td>1.38099</td>\n",
       "    </tr>\n",
       "    <tr>\n",
       "      <td>1</td>\n",
       "      <td>Australia</td>\n",
       "      <td>2011</td>\n",
       "      <td>1.39396</td>\n",
       "    </tr>\n",
       "    <tr>\n",
       "      <td>2</td>\n",
       "      <td>Australia</td>\n",
       "      <td>2012</td>\n",
       "      <td>1.40529</td>\n",
       "    </tr>\n",
       "    <tr>\n",
       "      <td>3</td>\n",
       "      <td>Australia</td>\n",
       "      <td>2013</td>\n",
       "      <td>1.40312</td>\n",
       "    </tr>\n",
       "    <tr>\n",
       "      <td>4</td>\n",
       "      <td>Australia</td>\n",
       "      <td>2014</td>\n",
       "      <td>1.40312</td>\n",
       "    </tr>\n",
       "    <tr>\n",
       "      <td>...</td>\n",
       "      <td>...</td>\n",
       "      <td>...</td>\n",
       "      <td>...</td>\n",
       "    </tr>\n",
       "    <tr>\n",
       "      <td>160</td>\n",
       "      <td>United States</td>\n",
       "      <td>2010</td>\n",
       "      <td>1.40825</td>\n",
       "    </tr>\n",
       "    <tr>\n",
       "      <td>161</td>\n",
       "      <td>United States</td>\n",
       "      <td>2011</td>\n",
       "      <td>1.40311</td>\n",
       "    </tr>\n",
       "    <tr>\n",
       "      <td>162</td>\n",
       "      <td>United States</td>\n",
       "      <td>2012</td>\n",
       "      <td>1.40738</td>\n",
       "    </tr>\n",
       "    <tr>\n",
       "      <td>163</td>\n",
       "      <td>United States</td>\n",
       "      <td>2013</td>\n",
       "      <td>1.38494</td>\n",
       "    </tr>\n",
       "    <tr>\n",
       "      <td>164</td>\n",
       "      <td>United States</td>\n",
       "      <td>2014</td>\n",
       "      <td>1.37069</td>\n",
       "    </tr>\n",
       "  </tbody>\n",
       "</table>\n",
       "<p>165 rows × 3 columns</p>\n",
       "</div>"
      ],
      "text/plain": [
       "           Country  Year  \\\n",
       "0        Australia  2010   \n",
       "1        Australia  2011   \n",
       "2        Australia  2012   \n",
       "3        Australia  2013   \n",
       "4        Australia  2014   \n",
       "..             ...   ...   \n",
       "160  United States  2010   \n",
       "161  United States  2011   \n",
       "162  United States  2012   \n",
       "163  United States  2013   \n",
       "164  United States  2014   \n",
       "\n",
       "     Gross enrolment ratio, tertiary, gender parity index (GPI)  \n",
       "0                                              1.38099           \n",
       "1                                              1.39396           \n",
       "2                                              1.40529           \n",
       "3                                              1.40312           \n",
       "4                                              1.40312           \n",
       "..                                                 ...           \n",
       "160                                            1.40825           \n",
       "161                                            1.40311           \n",
       "162                                            1.40738           \n",
       "163                                            1.38494           \n",
       "164                                            1.37069           \n",
       "\n",
       "[165 rows x 3 columns]"
      ]
     },
     "execution_count": 15,
     "metadata": {},
     "output_type": "execute_result"
    }
   ],
   "source": [
    "#view of cleaned dataset\n",
    "gpi_final.head()\n",
    "\n",
    "#reset index\n",
    "gpi_final.reset_index(drop='True')"
   ]
  },
  {
   "cell_type": "code",
   "execution_count": 16,
   "metadata": {
    "ExecuteTime": {
     "end_time": "2021-04-28T03:28:28.508200Z",
     "start_time": "2021-04-28T03:28:28.496232Z"
    }
   },
   "outputs": [
    {
     "data": {
      "text/plain": [
       "(165, 3)"
      ]
     },
     "execution_count": 16,
     "metadata": {},
     "output_type": "execute_result"
    }
   ],
   "source": [
    "#size of the cleaned dataset\n",
    "gpi_final.shape"
   ]
  },
  {
   "cell_type": "code",
   "execution_count": 17,
   "metadata": {
    "ExecuteTime": {
     "end_time": "2021-04-28T03:28:28.539119Z",
     "start_time": "2021-04-28T03:28:28.511191Z"
    }
   },
   "outputs": [
    {
     "data": {
      "text/html": [
       "<div>\n",
       "<style scoped>\n",
       "    .dataframe tbody tr th:only-of-type {\n",
       "        vertical-align: middle;\n",
       "    }\n",
       "\n",
       "    .dataframe tbody tr th {\n",
       "        vertical-align: top;\n",
       "    }\n",
       "\n",
       "    .dataframe thead th {\n",
       "        text-align: right;\n",
       "    }\n",
       "</style>\n",
       "<table border=\"1\" class=\"dataframe\">\n",
       "  <thead>\n",
       "    <tr style=\"text-align: right;\">\n",
       "      <th></th>\n",
       "      <th>Country</th>\n",
       "      <th>Year</th>\n",
       "      <th>Percentage of graduates from Science and Technology programmes in tertiary education who are female (%)</th>\n",
       "    </tr>\n",
       "  </thead>\n",
       "  <tbody>\n",
       "    <tr>\n",
       "      <td>0</td>\n",
       "      <td>Afghanistan</td>\n",
       "      <td>2014</td>\n",
       "      <td>10.632770</td>\n",
       "    </tr>\n",
       "    <tr>\n",
       "      <td>1</td>\n",
       "      <td>Albania</td>\n",
       "      <td>2000</td>\n",
       "      <td>29.968451</td>\n",
       "    </tr>\n",
       "    <tr>\n",
       "      <td>2</td>\n",
       "      <td>Albania</td>\n",
       "      <td>2003</td>\n",
       "      <td>44.200630</td>\n",
       "    </tr>\n",
       "    <tr>\n",
       "      <td>3</td>\n",
       "      <td>Albania</td>\n",
       "      <td>2011</td>\n",
       "      <td>48.064209</td>\n",
       "    </tr>\n",
       "    <tr>\n",
       "      <td>4</td>\n",
       "      <td>Albania</td>\n",
       "      <td>2013</td>\n",
       "      <td>52.198551</td>\n",
       "    </tr>\n",
       "  </tbody>\n",
       "</table>\n",
       "</div>"
      ],
      "text/plain": [
       "       Country  Year  \\\n",
       "0  Afghanistan  2014   \n",
       "1      Albania  2000   \n",
       "2      Albania  2003   \n",
       "3      Albania  2011   \n",
       "4      Albania  2013   \n",
       "\n",
       "   Percentage of graduates from Science and Technology programmes in tertiary education who are female (%)  \n",
       "0                                          10.632770                                                        \n",
       "1                                          29.968451                                                        \n",
       "2                                          44.200630                                                        \n",
       "3                                          48.064209                                                        \n",
       "4                                          52.198551                                                        "
      ]
     },
     "execution_count": 17,
     "metadata": {},
     "output_type": "execute_result"
    }
   ],
   "source": [
    "#load raw dataset of Percentage of Women in Science and Tech majors\n",
    "sci_tech_women = pd.read_csv(\"share-graduates-stem-female.csv\")\n",
    "\n",
    "#get rid of undesired columns\n",
    "sci_tech_women = sci_tech_women.drop(columns=['Code'])\n",
    "\n",
    "#view of the dataset\n",
    "sci_tech_women.head()"
   ]
  },
  {
   "cell_type": "code",
   "execution_count": 18,
   "metadata": {
    "ExecuteTime": {
     "end_time": "2021-04-28T03:28:28.555076Z",
     "start_time": "2021-04-28T03:28:28.543109Z"
    }
   },
   "outputs": [
    {
     "data": {
      "text/plain": [
       "(1100, 3)"
      ]
     },
     "execution_count": 18,
     "metadata": {},
     "output_type": "execute_result"
    }
   ],
   "source": [
    "#size of the dataset\n",
    "sci_tech_women.shape"
   ]
  },
  {
   "cell_type": "code",
   "execution_count": 19,
   "metadata": {
    "ExecuteTime": {
     "end_time": "2021-04-28T03:28:28.570035Z",
     "start_time": "2021-04-28T03:28:28.557069Z"
    }
   },
   "outputs": [],
   "source": [
    "#filter out the desired countries in the dataset\n",
    "sci_tech_women_1 = sci_tech_women.loc[sci_tech_women.Country.isin(countries)]"
   ]
  },
  {
   "cell_type": "code",
   "execution_count": 20,
   "metadata": {
    "ExecuteTime": {
     "end_time": "2021-04-28T03:28:28.585991Z",
     "start_time": "2021-04-28T03:28:28.572029Z"
    }
   },
   "outputs": [],
   "source": [
    "#filter out the desired countries in the dataset\n",
    "sci_tech_women_final = sci_tech_women_1.loc[sci_tech_women_1.Year.astype(str).isin(years)]"
   ]
  },
  {
   "cell_type": "code",
   "execution_count": 21,
   "metadata": {
    "ExecuteTime": {
     "end_time": "2021-04-28T03:28:28.616421Z",
     "start_time": "2021-04-28T03:28:28.587497Z"
    }
   },
   "outputs": [
    {
     "data": {
      "text/html": [
       "<div>\n",
       "<style scoped>\n",
       "    .dataframe tbody tr th:only-of-type {\n",
       "        vertical-align: middle;\n",
       "    }\n",
       "\n",
       "    .dataframe tbody tr th {\n",
       "        vertical-align: top;\n",
       "    }\n",
       "\n",
       "    .dataframe thead th {\n",
       "        text-align: right;\n",
       "    }\n",
       "</style>\n",
       "<table border=\"1\" class=\"dataframe\">\n",
       "  <thead>\n",
       "    <tr style=\"text-align: right;\">\n",
       "      <th></th>\n",
       "      <th>Country</th>\n",
       "      <th>Year</th>\n",
       "      <th>Percentage of graduates from Science and Technology programmes in tertiary education who are female (%)</th>\n",
       "    </tr>\n",
       "  </thead>\n",
       "  <tbody>\n",
       "    <tr>\n",
       "      <td>0</td>\n",
       "      <td>Australia</td>\n",
       "      <td>2010</td>\n",
       "      <td>29.322420</td>\n",
       "    </tr>\n",
       "    <tr>\n",
       "      <td>1</td>\n",
       "      <td>Australia</td>\n",
       "      <td>2011</td>\n",
       "      <td>29.104170</td>\n",
       "    </tr>\n",
       "    <tr>\n",
       "      <td>2</td>\n",
       "      <td>Australia</td>\n",
       "      <td>2012</td>\n",
       "      <td>NaN</td>\n",
       "    </tr>\n",
       "    <tr>\n",
       "      <td>3</td>\n",
       "      <td>Australia</td>\n",
       "      <td>2013</td>\n",
       "      <td>NaN</td>\n",
       "    </tr>\n",
       "    <tr>\n",
       "      <td>4</td>\n",
       "      <td>Australia</td>\n",
       "      <td>2014</td>\n",
       "      <td>29.765360</td>\n",
       "    </tr>\n",
       "    <tr>\n",
       "      <td>...</td>\n",
       "      <td>...</td>\n",
       "      <td>...</td>\n",
       "      <td>...</td>\n",
       "    </tr>\n",
       "    <tr>\n",
       "      <td>160</td>\n",
       "      <td>United States</td>\n",
       "      <td>2010</td>\n",
       "      <td>30.906891</td>\n",
       "    </tr>\n",
       "    <tr>\n",
       "      <td>161</td>\n",
       "      <td>United States</td>\n",
       "      <td>2011</td>\n",
       "      <td>30.387581</td>\n",
       "    </tr>\n",
       "    <tr>\n",
       "      <td>162</td>\n",
       "      <td>United States</td>\n",
       "      <td>2012</td>\n",
       "      <td>30.390720</td>\n",
       "    </tr>\n",
       "    <tr>\n",
       "      <td>163</td>\n",
       "      <td>United States</td>\n",
       "      <td>2013</td>\n",
       "      <td>31.001530</td>\n",
       "    </tr>\n",
       "    <tr>\n",
       "      <td>164</td>\n",
       "      <td>United States</td>\n",
       "      <td>2014</td>\n",
       "      <td>31.256451</td>\n",
       "    </tr>\n",
       "  </tbody>\n",
       "</table>\n",
       "<p>165 rows × 3 columns</p>\n",
       "</div>"
      ],
      "text/plain": [
       "           Country  Year  \\\n",
       "0        Australia  2010   \n",
       "1        Australia  2011   \n",
       "2        Australia  2012   \n",
       "3        Australia  2013   \n",
       "4        Australia  2014   \n",
       "..             ...   ...   \n",
       "160  United States  2010   \n",
       "161  United States  2011   \n",
       "162  United States  2012   \n",
       "163  United States  2013   \n",
       "164  United States  2014   \n",
       "\n",
       "     Percentage of graduates from Science and Technology programmes in tertiary education who are female (%)  \n",
       "0                                            29.322420                                                        \n",
       "1                                            29.104170                                                        \n",
       "2                                                  NaN                                                        \n",
       "3                                                  NaN                                                        \n",
       "4                                            29.765360                                                        \n",
       "..                                                 ...                                                        \n",
       "160                                          30.906891                                                        \n",
       "161                                          30.387581                                                        \n",
       "162                                          30.390720                                                        \n",
       "163                                          31.001530                                                        \n",
       "164                                          31.256451                                                        \n",
       "\n",
       "[165 rows x 3 columns]"
      ]
     },
     "execution_count": 21,
     "metadata": {},
     "output_type": "execute_result"
    }
   ],
   "source": [
    "#view of cleaned dataset\n",
    "sci_tech_women_final.head()\n",
    "\n",
    "#reset index\n",
    "sci_tech_women_final.reset_index(drop='True')"
   ]
  },
  {
   "cell_type": "code",
   "execution_count": 22,
   "metadata": {
    "ExecuteTime": {
     "end_time": "2021-04-28T03:28:28.648334Z",
     "start_time": "2021-04-28T03:28:28.618415Z"
    }
   },
   "outputs": [
    {
     "data": {
      "text/plain": [
       "(165, 3)"
      ]
     },
     "execution_count": 22,
     "metadata": {},
     "output_type": "execute_result"
    }
   ],
   "source": [
    "#size of the cleaned dataset\n",
    "sci_tech_women_final.shape"
   ]
  },
  {
   "cell_type": "markdown",
   "metadata": {},
   "source": [
    "## 3. Dataset: Social Resource Factors"
   ]
  },
  {
   "cell_type": "code",
   "execution_count": 23,
   "metadata": {
    "ExecuteTime": {
     "end_time": "2021-04-28T03:28:28.694211Z",
     "start_time": "2021-04-28T03:28:28.652324Z"
    }
   },
   "outputs": [
    {
     "data": {
      "text/html": [
       "<div>\n",
       "<style scoped>\n",
       "    .dataframe tbody tr th:only-of-type {\n",
       "        vertical-align: middle;\n",
       "    }\n",
       "\n",
       "    .dataframe tbody tr th {\n",
       "        vertical-align: top;\n",
       "    }\n",
       "\n",
       "    .dataframe thead th {\n",
       "        text-align: right;\n",
       "    }\n",
       "</style>\n",
       "<table border=\"1\" class=\"dataframe\">\n",
       "  <thead>\n",
       "    <tr style=\"text-align: right;\">\n",
       "      <th></th>\n",
       "      <th>Country</th>\n",
       "      <th>Indicator</th>\n",
       "      <th>Sex</th>\n",
       "      <th>Time</th>\n",
       "      <th>Value</th>\n",
       "    </tr>\n",
       "  </thead>\n",
       "  <tbody>\n",
       "    <tr>\n",
       "      <td>0</td>\n",
       "      <td>Australia</td>\n",
       "      <td>Access to training on how to start a business</td>\n",
       "      <td>Women</td>\n",
       "      <td>2013</td>\n",
       "      <td>67.871</td>\n",
       "    </tr>\n",
       "    <tr>\n",
       "      <td>1</td>\n",
       "      <td>Australia</td>\n",
       "      <td>Access to money to start a business</td>\n",
       "      <td>Women</td>\n",
       "      <td>2013</td>\n",
       "      <td>41.324</td>\n",
       "    </tr>\n",
       "    <tr>\n",
       "      <td>2</td>\n",
       "      <td>Australia</td>\n",
       "      <td>Access to training on how to start a business</td>\n",
       "      <td>Men</td>\n",
       "      <td>2013</td>\n",
       "      <td>65.745</td>\n",
       "    </tr>\n",
       "    <tr>\n",
       "      <td>3</td>\n",
       "      <td>Australia</td>\n",
       "      <td>Access to money to start a business</td>\n",
       "      <td>Men</td>\n",
       "      <td>2013</td>\n",
       "      <td>57.703</td>\n",
       "    </tr>\n",
       "    <tr>\n",
       "      <td>4</td>\n",
       "      <td>Austria</td>\n",
       "      <td>Access to training on how to start a business</td>\n",
       "      <td>Women</td>\n",
       "      <td>2013</td>\n",
       "      <td>61.505</td>\n",
       "    </tr>\n",
       "  </tbody>\n",
       "</table>\n",
       "</div>"
      ],
      "text/plain": [
       "     Country                                      Indicator    Sex  Time  \\\n",
       "0  Australia  Access to training on how to start a business  Women  2013   \n",
       "1  Australia            Access to money to start a business  Women  2013   \n",
       "2  Australia  Access to training on how to start a business    Men  2013   \n",
       "3  Australia            Access to money to start a business    Men  2013   \n",
       "4    Austria  Access to training on how to start a business  Women  2013   \n",
       "\n",
       "    Value  \n",
       "0  67.871  \n",
       "1  41.324  \n",
       "2  65.745  \n",
       "3  57.703  \n",
       "4  61.505  "
      ]
     },
     "execution_count": 23,
     "metadata": {},
     "output_type": "execute_result"
    }
   ],
   "source": [
    "#load data\n",
    "access_women = pd.read_csv(\"Access_to_training_and_money_to_start_a_business_by_sex.csv\")\n",
    "\n",
    "#get rid of undesired data\n",
    "access_women = access_women.drop(columns=['LOCATION','INDICATOR','SEX','AGE','Age','TIME','Unit Code','Unit','PowerCode Code','PowerCode','Reference Period Code','Reference Period','Flag Codes','Flags'])\n",
    "\n",
    "#view of the dataset\n",
    "access_women.head()"
   ]
  },
  {
   "cell_type": "code",
   "execution_count": 24,
   "metadata": {
    "ExecuteTime": {
     "end_time": "2021-04-28T03:28:28.710169Z",
     "start_time": "2021-04-28T03:28:28.700196Z"
    }
   },
   "outputs": [
    {
     "data": {
      "text/plain": [
       "(152, 5)"
      ]
     },
     "execution_count": 24,
     "metadata": {},
     "output_type": "execute_result"
    }
   ],
   "source": [
    "#view size of datasize\n",
    "access_women.shape"
   ]
  },
  {
   "cell_type": "code",
   "execution_count": 25,
   "metadata": {
    "ExecuteTime": {
     "end_time": "2021-04-28T03:28:28.741086Z",
     "start_time": "2021-04-28T03:28:28.712164Z"
    },
    "scrolled": true
   },
   "outputs": [
    {
     "data": {
      "text/html": [
       "<div>\n",
       "<style scoped>\n",
       "    .dataframe tbody tr th:only-of-type {\n",
       "        vertical-align: middle;\n",
       "    }\n",
       "\n",
       "    .dataframe tbody tr th {\n",
       "        vertical-align: top;\n",
       "    }\n",
       "\n",
       "    .dataframe thead th {\n",
       "        text-align: right;\n",
       "    }\n",
       "</style>\n",
       "<table border=\"1\" class=\"dataframe\">\n",
       "  <thead>\n",
       "    <tr style=\"text-align: right;\">\n",
       "      <th></th>\n",
       "      <th>Country</th>\n",
       "      <th>Indicator</th>\n",
       "      <th>Sex</th>\n",
       "      <th>Time</th>\n",
       "      <th>Value</th>\n",
       "    </tr>\n",
       "  </thead>\n",
       "  <tbody>\n",
       "    <tr>\n",
       "      <td>0</td>\n",
       "      <td>Australia</td>\n",
       "      <td>Access to training on how to start a business</td>\n",
       "      <td>Women</td>\n",
       "      <td>2013</td>\n",
       "      <td>67.871</td>\n",
       "    </tr>\n",
       "    <tr>\n",
       "      <td>4</td>\n",
       "      <td>Austria</td>\n",
       "      <td>Access to training on how to start a business</td>\n",
       "      <td>Women</td>\n",
       "      <td>2013</td>\n",
       "      <td>61.505</td>\n",
       "    </tr>\n",
       "    <tr>\n",
       "      <td>9</td>\n",
       "      <td>Belgium</td>\n",
       "      <td>Access to training on how to start a business</td>\n",
       "      <td>Women</td>\n",
       "      <td>2013</td>\n",
       "      <td>43.878</td>\n",
       "    </tr>\n",
       "    <tr>\n",
       "      <td>13</td>\n",
       "      <td>Brazil</td>\n",
       "      <td>Access to training on how to start a business</td>\n",
       "      <td>Women</td>\n",
       "      <td>2013</td>\n",
       "      <td>20.995</td>\n",
       "    </tr>\n",
       "    <tr>\n",
       "      <td>16</td>\n",
       "      <td>Canada</td>\n",
       "      <td>Access to training on how to start a business</td>\n",
       "      <td>Women</td>\n",
       "      <td>2013</td>\n",
       "      <td>64.711</td>\n",
       "    </tr>\n",
       "  </tbody>\n",
       "</table>\n",
       "</div>"
      ],
      "text/plain": [
       "      Country                                      Indicator    Sex  Time  \\\n",
       "0   Australia  Access to training on how to start a business  Women  2013   \n",
       "4     Austria  Access to training on how to start a business  Women  2013   \n",
       "9     Belgium  Access to training on how to start a business  Women  2013   \n",
       "13     Brazil  Access to training on how to start a business  Women  2013   \n",
       "16     Canada  Access to training on how to start a business  Women  2013   \n",
       "\n",
       "     Value  \n",
       "0   67.871  \n",
       "4   61.505  \n",
       "9   43.878  \n",
       "13  20.995  \n",
       "16  64.711  "
      ]
     },
     "execution_count": 25,
     "metadata": {},
     "output_type": "execute_result"
    }
   ],
   "source": [
    "#get rid of men access\n",
    "access_training_women = access_women.loc[(access_women['Indicator']=='Access to training on how to start a business') & (access_women['Sex']=='Women')]\n",
    "\n",
    "#view of dataset\n",
    "access_training_women.head()"
   ]
  },
  {
   "cell_type": "code",
   "execution_count": 26,
   "metadata": {
    "ExecuteTime": {
     "end_time": "2021-04-28T03:28:28.756053Z",
     "start_time": "2021-04-28T03:28:28.743083Z"
    }
   },
   "outputs": [
    {
     "data": {
      "text/plain": [
       "(38, 5)"
      ]
     },
     "execution_count": 26,
     "metadata": {},
     "output_type": "execute_result"
    }
   ],
   "source": [
    "#size of the new dataset\n",
    "access_training_women.shape"
   ]
  },
  {
   "cell_type": "code",
   "execution_count": 27,
   "metadata": {
    "ExecuteTime": {
     "end_time": "2021-04-28T03:28:28.786969Z",
     "start_time": "2021-04-28T03:28:28.758048Z"
    }
   },
   "outputs": [
    {
     "data": {
      "text/html": [
       "<div>\n",
       "<style scoped>\n",
       "    .dataframe tbody tr th:only-of-type {\n",
       "        vertical-align: middle;\n",
       "    }\n",
       "\n",
       "    .dataframe tbody tr th {\n",
       "        vertical-align: top;\n",
       "    }\n",
       "\n",
       "    .dataframe thead th {\n",
       "        text-align: right;\n",
       "    }\n",
       "</style>\n",
       "<table border=\"1\" class=\"dataframe\">\n",
       "  <thead>\n",
       "    <tr style=\"text-align: right;\">\n",
       "      <th></th>\n",
       "      <th>Country</th>\n",
       "      <th>Year</th>\n",
       "      <th>Percentage of women declaring that they have access to training on how to start a business (%)</th>\n",
       "    </tr>\n",
       "  </thead>\n",
       "  <tbody>\n",
       "    <tr>\n",
       "      <td>0</td>\n",
       "      <td>Australia</td>\n",
       "      <td>2013</td>\n",
       "      <td>67.871</td>\n",
       "    </tr>\n",
       "    <tr>\n",
       "      <td>1</td>\n",
       "      <td>Austria</td>\n",
       "      <td>2013</td>\n",
       "      <td>61.505</td>\n",
       "    </tr>\n",
       "    <tr>\n",
       "      <td>2</td>\n",
       "      <td>Belgium</td>\n",
       "      <td>2013</td>\n",
       "      <td>43.878</td>\n",
       "    </tr>\n",
       "    <tr>\n",
       "      <td>3</td>\n",
       "      <td>Canada</td>\n",
       "      <td>2013</td>\n",
       "      <td>64.711</td>\n",
       "    </tr>\n",
       "    <tr>\n",
       "      <td>4</td>\n",
       "      <td>Chile</td>\n",
       "      <td>2013</td>\n",
       "      <td>29.034</td>\n",
       "    </tr>\n",
       "  </tbody>\n",
       "</table>\n",
       "</div>"
      ],
      "text/plain": [
       "     Country  Year  \\\n",
       "0  Australia  2013   \n",
       "1    Austria  2013   \n",
       "2    Belgium  2013   \n",
       "3     Canada  2013   \n",
       "4      Chile  2013   \n",
       "\n",
       "   Percentage of women declaring that they have access to training on how to start a business (%)  \n",
       "0                                             67.871                                               \n",
       "1                                             61.505                                               \n",
       "2                                             43.878                                               \n",
       "3                                             64.711                                               \n",
       "4                                             29.034                                               "
      ]
     },
     "execution_count": 27,
     "metadata": {},
     "output_type": "execute_result"
    }
   ],
   "source": [
    "#clean and rename columns\n",
    "access_training_women_final = access_training_women.loc[access_training_women.Country.isin(countries)].reset_index()\n",
    "access_training_women_final = access_training_women_final.drop(columns=['index'])\n",
    "\n",
    "access_training_women_final.rename(columns={'Value':'Percentage of women declaring that they have access to training on how to start a business (%)'}, inplace=True)\n",
    "access_training_women_final.rename(columns={'Time':'Year'}, inplace=True)\n",
    "access_training_women_final = access_training_women_final.drop(columns=['Sex','Indicator'])\n",
    "\n",
    "#view of dataset\n",
    "access_training_women_final.head()"
   ]
  },
  {
   "cell_type": "code",
   "execution_count": 28,
   "metadata": {
    "ExecuteTime": {
     "end_time": "2021-04-28T03:28:28.802654Z",
     "start_time": "2021-04-28T03:28:28.788964Z"
    }
   },
   "outputs": [
    {
     "data": {
      "text/plain": [
       "(28, 3)"
      ]
     },
     "execution_count": 28,
     "metadata": {},
     "output_type": "execute_result"
    }
   ],
   "source": [
    "#size of the dataset\n",
    "access_training_women_final.shape"
   ]
  },
  {
   "cell_type": "code",
   "execution_count": 29,
   "metadata": {
    "ExecuteTime": {
     "end_time": "2021-04-28T03:28:28.833571Z",
     "start_time": "2021-04-28T03:28:28.804649Z"
    }
   },
   "outputs": [
    {
     "data": {
      "text/html": [
       "<div>\n",
       "<style scoped>\n",
       "    .dataframe tbody tr th:only-of-type {\n",
       "        vertical-align: middle;\n",
       "    }\n",
       "\n",
       "    .dataframe tbody tr th {\n",
       "        vertical-align: top;\n",
       "    }\n",
       "\n",
       "    .dataframe thead th {\n",
       "        text-align: right;\n",
       "    }\n",
       "</style>\n",
       "<table border=\"1\" class=\"dataframe\">\n",
       "  <thead>\n",
       "    <tr style=\"text-align: right;\">\n",
       "      <th></th>\n",
       "      <th>Country</th>\n",
       "      <th>Indicator</th>\n",
       "      <th>Sex</th>\n",
       "      <th>Time</th>\n",
       "      <th>Value</th>\n",
       "    </tr>\n",
       "  </thead>\n",
       "  <tbody>\n",
       "    <tr>\n",
       "      <td>1</td>\n",
       "      <td>Australia</td>\n",
       "      <td>Access to money to start a business</td>\n",
       "      <td>Women</td>\n",
       "      <td>2013</td>\n",
       "      <td>41.324</td>\n",
       "    </tr>\n",
       "    <tr>\n",
       "      <td>5</td>\n",
       "      <td>Austria</td>\n",
       "      <td>Access to money to start a business</td>\n",
       "      <td>Women</td>\n",
       "      <td>2013</td>\n",
       "      <td>48.044</td>\n",
       "    </tr>\n",
       "    <tr>\n",
       "      <td>8</td>\n",
       "      <td>Belgium</td>\n",
       "      <td>Access to money to start a business</td>\n",
       "      <td>Women</td>\n",
       "      <td>2013</td>\n",
       "      <td>32.129</td>\n",
       "    </tr>\n",
       "    <tr>\n",
       "      <td>12</td>\n",
       "      <td>Brazil</td>\n",
       "      <td>Access to money to start a business</td>\n",
       "      <td>Women</td>\n",
       "      <td>2013</td>\n",
       "      <td>16.677</td>\n",
       "    </tr>\n",
       "    <tr>\n",
       "      <td>17</td>\n",
       "      <td>Canada</td>\n",
       "      <td>Access to money to start a business</td>\n",
       "      <td>Women</td>\n",
       "      <td>2013</td>\n",
       "      <td>49.541</td>\n",
       "    </tr>\n",
       "  </tbody>\n",
       "</table>\n",
       "</div>"
      ],
      "text/plain": [
       "      Country                            Indicator    Sex  Time   Value\n",
       "1   Australia  Access to money to start a business  Women  2013  41.324\n",
       "5     Austria  Access to money to start a business  Women  2013  48.044\n",
       "8     Belgium  Access to money to start a business  Women  2013  32.129\n",
       "12     Brazil  Access to money to start a business  Women  2013  16.677\n",
       "17     Canada  Access to money to start a business  Women  2013  49.541"
      ]
     },
     "execution_count": 29,
     "metadata": {},
     "output_type": "execute_result"
    }
   ],
   "source": [
    "#get rid of men stats\n",
    "access_money_women = access_women.loc[(access_women['Indicator']=='Access to money to start a business') & (access_women['Sex']=='Women')]\n",
    "\n",
    "#view of dataset\n",
    "access_money_women.head()"
   ]
  },
  {
   "cell_type": "code",
   "execution_count": 30,
   "metadata": {
    "ExecuteTime": {
     "end_time": "2021-04-28T03:28:28.848531Z",
     "start_time": "2021-04-28T03:28:28.835567Z"
    }
   },
   "outputs": [
    {
     "data": {
      "text/plain": [
       "(38, 5)"
      ]
     },
     "execution_count": 30,
     "metadata": {},
     "output_type": "execute_result"
    }
   ],
   "source": [
    "#size of the dataset\n",
    "access_money_women.shape"
   ]
  },
  {
   "cell_type": "code",
   "execution_count": 31,
   "metadata": {
    "ExecuteTime": {
     "end_time": "2021-04-28T03:28:28.879151Z",
     "start_time": "2021-04-28T03:28:28.850527Z"
    }
   },
   "outputs": [
    {
     "data": {
      "text/html": [
       "<div>\n",
       "<style scoped>\n",
       "    .dataframe tbody tr th:only-of-type {\n",
       "        vertical-align: middle;\n",
       "    }\n",
       "\n",
       "    .dataframe tbody tr th {\n",
       "        vertical-align: top;\n",
       "    }\n",
       "\n",
       "    .dataframe thead th {\n",
       "        text-align: right;\n",
       "    }\n",
       "</style>\n",
       "<table border=\"1\" class=\"dataframe\">\n",
       "  <thead>\n",
       "    <tr style=\"text-align: right;\">\n",
       "      <th></th>\n",
       "      <th>Country</th>\n",
       "      <th>Year</th>\n",
       "      <th>Percentage of women declaring that they have access to money to start a business (%)</th>\n",
       "    </tr>\n",
       "  </thead>\n",
       "  <tbody>\n",
       "    <tr>\n",
       "      <td>0</td>\n",
       "      <td>Australia</td>\n",
       "      <td>2013</td>\n",
       "      <td>41.324</td>\n",
       "    </tr>\n",
       "    <tr>\n",
       "      <td>1</td>\n",
       "      <td>Austria</td>\n",
       "      <td>2013</td>\n",
       "      <td>48.044</td>\n",
       "    </tr>\n",
       "    <tr>\n",
       "      <td>2</td>\n",
       "      <td>Belgium</td>\n",
       "      <td>2013</td>\n",
       "      <td>32.129</td>\n",
       "    </tr>\n",
       "    <tr>\n",
       "      <td>3</td>\n",
       "      <td>Canada</td>\n",
       "      <td>2013</td>\n",
       "      <td>49.541</td>\n",
       "    </tr>\n",
       "    <tr>\n",
       "      <td>4</td>\n",
       "      <td>Chile</td>\n",
       "      <td>2013</td>\n",
       "      <td>18.017</td>\n",
       "    </tr>\n",
       "  </tbody>\n",
       "</table>\n",
       "</div>"
      ],
      "text/plain": [
       "     Country  Year  \\\n",
       "0  Australia  2013   \n",
       "1    Austria  2013   \n",
       "2    Belgium  2013   \n",
       "3     Canada  2013   \n",
       "4      Chile  2013   \n",
       "\n",
       "   Percentage of women declaring that they have access to money to start a business (%)  \n",
       "0                                             41.324                                     \n",
       "1                                             48.044                                     \n",
       "2                                             32.129                                     \n",
       "3                                             49.541                                     \n",
       "4                                             18.017                                     "
      ]
     },
     "execution_count": 31,
     "metadata": {},
     "output_type": "execute_result"
    }
   ],
   "source": [
    "#clean and rename columns\n",
    "access_money_women_final = access_money_women.loc[access_money_women.Country.isin(countries)].reset_index()\n",
    "access_money_women_final = access_money_women_final.drop(columns=['index'])\n",
    "\n",
    "access_money_women_final.rename(columns={'Value':'Percentage of women declaring that they have access to money to start a business (%)'}, inplace=True)\n",
    "access_money_women_final.rename(columns={'Time':'Year'}, inplace=True)\n",
    "access_money_women_final = access_money_women_final.drop(columns=['Sex','Indicator'])\n",
    "\n",
    "#size of the dataset\n",
    "access_money_women_final.head()"
   ]
  },
  {
   "cell_type": "code",
   "execution_count": 32,
   "metadata": {
    "ExecuteTime": {
     "end_time": "2021-04-28T03:28:28.895108Z",
     "start_time": "2021-04-28T03:28:28.881146Z"
    }
   },
   "outputs": [
    {
     "data": {
      "text/plain": [
       "(28, 3)"
      ]
     },
     "execution_count": 32,
     "metadata": {},
     "output_type": "execute_result"
    }
   ],
   "source": [
    "#size of the dataset\n",
    "access_money_women_final.shape"
   ]
  },
  {
   "cell_type": "markdown",
   "metadata": {},
   "source": [
    "## 4. Dataset: Attitude Factor"
   ]
  },
  {
   "cell_type": "code",
   "execution_count": 33,
   "metadata": {
    "ExecuteTime": {
     "end_time": "2021-04-28T03:28:28.925754Z",
     "start_time": "2021-04-28T03:28:28.897104Z"
    }
   },
   "outputs": [
    {
     "data": {
      "text/html": [
       "<div>\n",
       "<style scoped>\n",
       "    .dataframe tbody tr th:only-of-type {\n",
       "        vertical-align: middle;\n",
       "    }\n",
       "\n",
       "    .dataframe tbody tr th {\n",
       "        vertical-align: top;\n",
       "    }\n",
       "\n",
       "    .dataframe thead th {\n",
       "        text-align: right;\n",
       "    }\n",
       "</style>\n",
       "<table border=\"1\" class=\"dataframe\">\n",
       "  <thead>\n",
       "    <tr style=\"text-align: right;\">\n",
       "      <th></th>\n",
       "      <th>Country</th>\n",
       "      <th>Indicator</th>\n",
       "      <th>Sex</th>\n",
       "      <th>Time</th>\n",
       "      <th>Value</th>\n",
       "    </tr>\n",
       "  </thead>\n",
       "  <tbody>\n",
       "    <tr>\n",
       "      <td>0</td>\n",
       "      <td>Australia</td>\n",
       "      <td>Attitude towards entrepreneurial risk</td>\n",
       "      <td>Women</td>\n",
       "      <td>2013</td>\n",
       "      <td>45.305</td>\n",
       "    </tr>\n",
       "    <tr>\n",
       "      <td>1</td>\n",
       "      <td>Australia</td>\n",
       "      <td>Attitude towards entrepreneurial risk</td>\n",
       "      <td>Men</td>\n",
       "      <td>2013</td>\n",
       "      <td>53.772</td>\n",
       "    </tr>\n",
       "    <tr>\n",
       "      <td>2</td>\n",
       "      <td>Austria</td>\n",
       "      <td>Attitude towards entrepreneurial risk</td>\n",
       "      <td>Women</td>\n",
       "      <td>2013</td>\n",
       "      <td>23.726</td>\n",
       "    </tr>\n",
       "    <tr>\n",
       "      <td>3</td>\n",
       "      <td>Austria</td>\n",
       "      <td>Attitude towards entrepreneurial risk</td>\n",
       "      <td>Men</td>\n",
       "      <td>2013</td>\n",
       "      <td>39.002</td>\n",
       "    </tr>\n",
       "    <tr>\n",
       "      <td>4</td>\n",
       "      <td>Belgium</td>\n",
       "      <td>Attitude towards entrepreneurial risk</td>\n",
       "      <td>Women</td>\n",
       "      <td>2013</td>\n",
       "      <td>31.192</td>\n",
       "    </tr>\n",
       "  </tbody>\n",
       "</table>\n",
       "</div>"
      ],
      "text/plain": [
       "     Country                              Indicator    Sex  Time   Value\n",
       "0  Australia  Attitude towards entrepreneurial risk  Women  2013  45.305\n",
       "1  Australia  Attitude towards entrepreneurial risk    Men  2013  53.772\n",
       "2    Austria  Attitude towards entrepreneurial risk  Women  2013  23.726\n",
       "3    Austria  Attitude towards entrepreneurial risk    Men  2013  39.002\n",
       "4    Belgium  Attitude towards entrepreneurial risk  Women  2013  31.192"
      ]
     },
     "execution_count": 33,
     "metadata": {},
     "output_type": "execute_result"
    }
   ],
   "source": [
    "#load data\n",
    "attitude_risk_women = pd.read_csv(\"Attitude_towards_entrepreneurial_risk_by_sex.csv\")\n",
    "\n",
    "#get rid of undesired data\n",
    "attitude_risk_women = attitude_risk_women.drop(columns=['LOCATION','INDICATOR','SEX','AGE','Age','TIME','Unit Code','Unit','PowerCode Code','PowerCode','Reference Period Code','Reference Period','Flag Codes','Flags'])\n",
    "\n",
    "#view of the dataset\n",
    "attitude_risk_women.head()"
   ]
  },
  {
   "cell_type": "code",
   "execution_count": 34,
   "metadata": {
    "ExecuteTime": {
     "end_time": "2021-04-28T03:28:28.940712Z",
     "start_time": "2021-04-28T03:28:28.927752Z"
    }
   },
   "outputs": [
    {
     "data": {
      "text/plain": [
       "(76, 5)"
      ]
     },
     "execution_count": 34,
     "metadata": {},
     "output_type": "execute_result"
    }
   ],
   "source": [
    "#size of the dataset\n",
    "attitude_risk_women.shape"
   ]
  },
  {
   "cell_type": "code",
   "execution_count": 35,
   "metadata": {
    "ExecuteTime": {
     "end_time": "2021-04-28T03:28:28.956223Z",
     "start_time": "2021-04-28T03:28:28.941710Z"
    }
   },
   "outputs": [
    {
     "data": {
      "text/html": [
       "<div>\n",
       "<style scoped>\n",
       "    .dataframe tbody tr th:only-of-type {\n",
       "        vertical-align: middle;\n",
       "    }\n",
       "\n",
       "    .dataframe tbody tr th {\n",
       "        vertical-align: top;\n",
       "    }\n",
       "\n",
       "    .dataframe thead th {\n",
       "        text-align: right;\n",
       "    }\n",
       "</style>\n",
       "<table border=\"1\" class=\"dataframe\">\n",
       "  <thead>\n",
       "    <tr style=\"text-align: right;\">\n",
       "      <th></th>\n",
       "      <th>Country</th>\n",
       "      <th>Indicator</th>\n",
       "      <th>Sex</th>\n",
       "      <th>Time</th>\n",
       "      <th>Value</th>\n",
       "    </tr>\n",
       "  </thead>\n",
       "  <tbody>\n",
       "    <tr>\n",
       "      <td>0</td>\n",
       "      <td>Australia</td>\n",
       "      <td>Attitude towards entrepreneurial risk</td>\n",
       "      <td>Women</td>\n",
       "      <td>2013</td>\n",
       "      <td>45.305</td>\n",
       "    </tr>\n",
       "    <tr>\n",
       "      <td>2</td>\n",
       "      <td>Austria</td>\n",
       "      <td>Attitude towards entrepreneurial risk</td>\n",
       "      <td>Women</td>\n",
       "      <td>2013</td>\n",
       "      <td>23.726</td>\n",
       "    </tr>\n",
       "    <tr>\n",
       "      <td>4</td>\n",
       "      <td>Belgium</td>\n",
       "      <td>Attitude towards entrepreneurial risk</td>\n",
       "      <td>Women</td>\n",
       "      <td>2013</td>\n",
       "      <td>31.192</td>\n",
       "    </tr>\n",
       "    <tr>\n",
       "      <td>6</td>\n",
       "      <td>Brazil</td>\n",
       "      <td>Attitude towards entrepreneurial risk</td>\n",
       "      <td>Women</td>\n",
       "      <td>2013</td>\n",
       "      <td>59.766</td>\n",
       "    </tr>\n",
       "    <tr>\n",
       "      <td>8</td>\n",
       "      <td>Canada</td>\n",
       "      <td>Attitude towards entrepreneurial risk</td>\n",
       "      <td>Women</td>\n",
       "      <td>2013</td>\n",
       "      <td>56.682</td>\n",
       "    </tr>\n",
       "  </tbody>\n",
       "</table>\n",
       "</div>"
      ],
      "text/plain": [
       "     Country                              Indicator    Sex  Time   Value\n",
       "0  Australia  Attitude towards entrepreneurial risk  Women  2013  45.305\n",
       "2    Austria  Attitude towards entrepreneurial risk  Women  2013  23.726\n",
       "4    Belgium  Attitude towards entrepreneurial risk  Women  2013  31.192\n",
       "6     Brazil  Attitude towards entrepreneurial risk  Women  2013  59.766\n",
       "8     Canada  Attitude towards entrepreneurial risk  Women  2013  56.682"
      ]
     },
     "execution_count": 35,
     "metadata": {},
     "output_type": "execute_result"
    }
   ],
   "source": [
    "#get rid of men attitudes\n",
    "attitude_risk_women = attitude_risk_women.loc[(attitude_risk_women['Indicator']=='Attitude towards entrepreneurial risk') & (attitude_risk_women['Sex']=='Women')]\n",
    "\n",
    "#view of the dataset\n",
    "attitude_risk_women.head()"
   ]
  },
  {
   "cell_type": "code",
   "execution_count": 36,
   "metadata": {
    "ExecuteTime": {
     "end_time": "2021-04-28T03:28:28.972140Z",
     "start_time": "2021-04-28T03:28:28.959178Z"
    }
   },
   "outputs": [
    {
     "data": {
      "text/plain": [
       "(38, 5)"
      ]
     },
     "execution_count": 36,
     "metadata": {},
     "output_type": "execute_result"
    }
   ],
   "source": [
    "#size of the dataset\n",
    "attitude_risk_women.shape"
   ]
  },
  {
   "cell_type": "code",
   "execution_count": 37,
   "metadata": {
    "ExecuteTime": {
     "end_time": "2021-04-28T03:28:29.003063Z",
     "start_time": "2021-04-28T03:28:28.974136Z"
    }
   },
   "outputs": [
    {
     "data": {
      "text/html": [
       "<div>\n",
       "<style scoped>\n",
       "    .dataframe tbody tr th:only-of-type {\n",
       "        vertical-align: middle;\n",
       "    }\n",
       "\n",
       "    .dataframe tbody tr th {\n",
       "        vertical-align: top;\n",
       "    }\n",
       "\n",
       "    .dataframe thead th {\n",
       "        text-align: right;\n",
       "    }\n",
       "</style>\n",
       "<table border=\"1\" class=\"dataframe\">\n",
       "  <thead>\n",
       "    <tr style=\"text-align: right;\">\n",
       "      <th></th>\n",
       "      <th>Country</th>\n",
       "      <th>Year</th>\n",
       "      <th>Percentage of women prefering taking a risk and starting a new business to working for someone else (%)</th>\n",
       "    </tr>\n",
       "  </thead>\n",
       "  <tbody>\n",
       "    <tr>\n",
       "      <td>0</td>\n",
       "      <td>Australia</td>\n",
       "      <td>2013</td>\n",
       "      <td>45.305</td>\n",
       "    </tr>\n",
       "    <tr>\n",
       "      <td>1</td>\n",
       "      <td>Austria</td>\n",
       "      <td>2013</td>\n",
       "      <td>23.726</td>\n",
       "    </tr>\n",
       "    <tr>\n",
       "      <td>2</td>\n",
       "      <td>Belgium</td>\n",
       "      <td>2013</td>\n",
       "      <td>31.192</td>\n",
       "    </tr>\n",
       "    <tr>\n",
       "      <td>3</td>\n",
       "      <td>Canada</td>\n",
       "      <td>2013</td>\n",
       "      <td>56.682</td>\n",
       "    </tr>\n",
       "    <tr>\n",
       "      <td>4</td>\n",
       "      <td>Chile</td>\n",
       "      <td>2013</td>\n",
       "      <td>70.783</td>\n",
       "    </tr>\n",
       "  </tbody>\n",
       "</table>\n",
       "</div>"
      ],
      "text/plain": [
       "     Country  Year  \\\n",
       "0  Australia  2013   \n",
       "1    Austria  2013   \n",
       "2    Belgium  2013   \n",
       "3     Canada  2013   \n",
       "4      Chile  2013   \n",
       "\n",
       "   Percentage of women prefering taking a risk and starting a new business to working for someone else (%)  \n",
       "0                                             45.305                                                        \n",
       "1                                             23.726                                                        \n",
       "2                                             31.192                                                        \n",
       "3                                             56.682                                                        \n",
       "4                                             70.783                                                        "
      ]
     },
     "execution_count": 37,
     "metadata": {},
     "output_type": "execute_result"
    }
   ],
   "source": [
    "#clean and rename columns\n",
    "attitude_risk_women_final = attitude_risk_women.loc[attitude_risk_women.Country.isin(countries)].reset_index()\n",
    "attitude_risk_women_final = attitude_risk_women_final.drop(columns=['index'])\n",
    "\n",
    "attitude_risk_women_final.rename(columns={'Value':'Percentage of women prefering taking a risk and starting a new business to working for someone else (%)'}, inplace=True)\n",
    "attitude_risk_women_final.rename(columns={'Time':'Year'}, inplace=True)\n",
    "attitude_risk_women_final = attitude_risk_women_final.drop(columns=['Sex','Indicator'])\n",
    "\n",
    "#view of the dataset\n",
    "attitude_risk_women_final.head()"
   ]
  },
  {
   "cell_type": "code",
   "execution_count": 38,
   "metadata": {
    "ExecuteTime": {
     "end_time": "2021-04-28T03:28:29.019017Z",
     "start_time": "2021-04-28T03:28:29.007048Z"
    }
   },
   "outputs": [
    {
     "data": {
      "text/plain": [
       "(28, 3)"
      ]
     },
     "execution_count": 38,
     "metadata": {},
     "output_type": "execute_result"
    }
   ],
   "source": [
    "#size of the dataset\n",
    "attitude_risk_women_final.shape"
   ]
  },
  {
   "cell_type": "markdown",
   "metadata": {},
   "source": [
    "# Dataset Merge"
   ]
  },
  {
   "cell_type": "code",
   "execution_count": 39,
   "metadata": {
    "ExecuteTime": {
     "end_time": "2021-04-28T03:28:29.049933Z",
     "start_time": "2021-04-28T03:28:29.021009Z"
    }
   },
   "outputs": [
    {
     "data": {
      "text/html": [
       "<div>\n",
       "<style scoped>\n",
       "    .dataframe tbody tr th:only-of-type {\n",
       "        vertical-align: middle;\n",
       "    }\n",
       "\n",
       "    .dataframe tbody tr th {\n",
       "        vertical-align: top;\n",
       "    }\n",
       "\n",
       "    .dataframe thead th {\n",
       "        text-align: right;\n",
       "    }\n",
       "</style>\n",
       "<table border=\"1\" class=\"dataframe\">\n",
       "  <thead>\n",
       "    <tr style=\"text-align: right;\">\n",
       "      <th></th>\n",
       "      <th>Country</th>\n",
       "      <th>Year</th>\n",
       "      <th>Gross enrolment ratio, tertiary, gender parity index (GPI)</th>\n",
       "      <th>Percentage of graduates from Science and Technology programmes in tertiary education who are female (%)</th>\n",
       "    </tr>\n",
       "  </thead>\n",
       "  <tbody>\n",
       "    <tr>\n",
       "      <td>0</td>\n",
       "      <td>Australia</td>\n",
       "      <td>2010</td>\n",
       "      <td>1.38099</td>\n",
       "      <td>29.322420</td>\n",
       "    </tr>\n",
       "    <tr>\n",
       "      <td>1</td>\n",
       "      <td>Australia</td>\n",
       "      <td>2011</td>\n",
       "      <td>1.39396</td>\n",
       "      <td>29.104170</td>\n",
       "    </tr>\n",
       "    <tr>\n",
       "      <td>2</td>\n",
       "      <td>Australia</td>\n",
       "      <td>2012</td>\n",
       "      <td>1.40529</td>\n",
       "      <td>NaN</td>\n",
       "    </tr>\n",
       "    <tr>\n",
       "      <td>3</td>\n",
       "      <td>Australia</td>\n",
       "      <td>2013</td>\n",
       "      <td>1.40312</td>\n",
       "      <td>NaN</td>\n",
       "    </tr>\n",
       "    <tr>\n",
       "      <td>4</td>\n",
       "      <td>Australia</td>\n",
       "      <td>2014</td>\n",
       "      <td>1.40312</td>\n",
       "      <td>29.765360</td>\n",
       "    </tr>\n",
       "    <tr>\n",
       "      <td>...</td>\n",
       "      <td>...</td>\n",
       "      <td>...</td>\n",
       "      <td>...</td>\n",
       "      <td>...</td>\n",
       "    </tr>\n",
       "    <tr>\n",
       "      <td>160</td>\n",
       "      <td>United States</td>\n",
       "      <td>2010</td>\n",
       "      <td>1.40825</td>\n",
       "      <td>30.906891</td>\n",
       "    </tr>\n",
       "    <tr>\n",
       "      <td>161</td>\n",
       "      <td>United States</td>\n",
       "      <td>2011</td>\n",
       "      <td>1.40311</td>\n",
       "      <td>30.387581</td>\n",
       "    </tr>\n",
       "    <tr>\n",
       "      <td>162</td>\n",
       "      <td>United States</td>\n",
       "      <td>2012</td>\n",
       "      <td>1.40738</td>\n",
       "      <td>30.390720</td>\n",
       "    </tr>\n",
       "    <tr>\n",
       "      <td>163</td>\n",
       "      <td>United States</td>\n",
       "      <td>2013</td>\n",
       "      <td>1.38494</td>\n",
       "      <td>31.001530</td>\n",
       "    </tr>\n",
       "    <tr>\n",
       "      <td>164</td>\n",
       "      <td>United States</td>\n",
       "      <td>2014</td>\n",
       "      <td>1.37069</td>\n",
       "      <td>31.256451</td>\n",
       "    </tr>\n",
       "  </tbody>\n",
       "</table>\n",
       "<p>165 rows × 4 columns</p>\n",
       "</div>"
      ],
      "text/plain": [
       "           Country  Year  \\\n",
       "0        Australia  2010   \n",
       "1        Australia  2011   \n",
       "2        Australia  2012   \n",
       "3        Australia  2013   \n",
       "4        Australia  2014   \n",
       "..             ...   ...   \n",
       "160  United States  2010   \n",
       "161  United States  2011   \n",
       "162  United States  2012   \n",
       "163  United States  2013   \n",
       "164  United States  2014   \n",
       "\n",
       "     Gross enrolment ratio, tertiary, gender parity index (GPI)  \\\n",
       "0                                              1.38099            \n",
       "1                                              1.39396            \n",
       "2                                              1.40529            \n",
       "3                                              1.40312            \n",
       "4                                              1.40312            \n",
       "..                                                 ...            \n",
       "160                                            1.40825            \n",
       "161                                            1.40311            \n",
       "162                                            1.40738            \n",
       "163                                            1.38494            \n",
       "164                                            1.37069            \n",
       "\n",
       "     Percentage of graduates from Science and Technology programmes in tertiary education who are female (%)  \n",
       "0                                            29.322420                                                        \n",
       "1                                            29.104170                                                        \n",
       "2                                                  NaN                                                        \n",
       "3                                                  NaN                                                        \n",
       "4                                            29.765360                                                        \n",
       "..                                                 ...                                                        \n",
       "160                                          30.906891                                                        \n",
       "161                                          30.387581                                                        \n",
       "162                                          30.390720                                                        \n",
       "163                                          31.001530                                                        \n",
       "164                                          31.256451                                                        \n",
       "\n",
       "[165 rows x 4 columns]"
      ]
     },
     "execution_count": 39,
     "metadata": {},
     "output_type": "execute_result"
    }
   ],
   "source": [
    "#merge datasets of education factors\n",
    "education = pd.merge(gpi_final, sci_tech_women_final,how='outer')\n",
    "\n",
    "#view of the new dataset\n",
    "education.head(165)"
   ]
  },
  {
   "cell_type": "code",
   "execution_count": 40,
   "metadata": {
    "ExecuteTime": {
     "end_time": "2021-04-28T03:28:29.095809Z",
     "start_time": "2021-04-28T03:28:29.050930Z"
    }
   },
   "outputs": [
    {
     "data": {
      "text/plain": [
       "(165, 4)"
      ]
     },
     "execution_count": 40,
     "metadata": {},
     "output_type": "execute_result"
    }
   ],
   "source": [
    "#size of the new dataset\n",
    "education.shape"
   ]
  },
  {
   "cell_type": "code",
   "execution_count": 41,
   "metadata": {
    "ExecuteTime": {
     "end_time": "2021-04-28T03:28:29.126728Z",
     "start_time": "2021-04-28T03:28:29.097806Z"
    }
   },
   "outputs": [
    {
     "data": {
      "text/html": [
       "<div>\n",
       "<style scoped>\n",
       "    .dataframe tbody tr th:only-of-type {\n",
       "        vertical-align: middle;\n",
       "    }\n",
       "\n",
       "    .dataframe tbody tr th {\n",
       "        vertical-align: top;\n",
       "    }\n",
       "\n",
       "    .dataframe thead th {\n",
       "        text-align: right;\n",
       "    }\n",
       "</style>\n",
       "<table border=\"1\" class=\"dataframe\">\n",
       "  <thead>\n",
       "    <tr style=\"text-align: right;\">\n",
       "      <th></th>\n",
       "      <th>Country</th>\n",
       "      <th>Year</th>\n",
       "      <th>Unit</th>\n",
       "      <th>Share of Women Inventors (%)</th>\n",
       "      <th>Gross enrolment ratio, tertiary, gender parity index (GPI)</th>\n",
       "      <th>Percentage of graduates from Science and Technology programmes in tertiary education who are female (%)</th>\n",
       "    </tr>\n",
       "  </thead>\n",
       "  <tbody>\n",
       "    <tr>\n",
       "      <td>0</td>\n",
       "      <td>Australia</td>\n",
       "      <td>2010</td>\n",
       "      <td>Percentage</td>\n",
       "      <td>10.7</td>\n",
       "      <td>1.38099</td>\n",
       "      <td>29.32242</td>\n",
       "    </tr>\n",
       "    <tr>\n",
       "      <td>1</td>\n",
       "      <td>Australia</td>\n",
       "      <td>2011</td>\n",
       "      <td>Percentage</td>\n",
       "      <td>11.0</td>\n",
       "      <td>1.39396</td>\n",
       "      <td>29.10417</td>\n",
       "    </tr>\n",
       "    <tr>\n",
       "      <td>2</td>\n",
       "      <td>Australia</td>\n",
       "      <td>2012</td>\n",
       "      <td>Percentage</td>\n",
       "      <td>11.1</td>\n",
       "      <td>1.40529</td>\n",
       "      <td>NaN</td>\n",
       "    </tr>\n",
       "    <tr>\n",
       "      <td>3</td>\n",
       "      <td>Australia</td>\n",
       "      <td>2013</td>\n",
       "      <td>Percentage</td>\n",
       "      <td>11.4</td>\n",
       "      <td>1.40312</td>\n",
       "      <td>NaN</td>\n",
       "    </tr>\n",
       "    <tr>\n",
       "      <td>4</td>\n",
       "      <td>Australia</td>\n",
       "      <td>2014</td>\n",
       "      <td>Percentage</td>\n",
       "      <td>11.5</td>\n",
       "      <td>1.40312</td>\n",
       "      <td>29.76536</td>\n",
       "    </tr>\n",
       "  </tbody>\n",
       "</table>\n",
       "</div>"
      ],
      "text/plain": [
       "     Country  Year        Unit  Share of Women Inventors (%)  \\\n",
       "0  Australia  2010  Percentage                          10.7   \n",
       "1  Australia  2011  Percentage                          11.0   \n",
       "2  Australia  2012  Percentage                          11.1   \n",
       "3  Australia  2013  Percentage                          11.4   \n",
       "4  Australia  2014  Percentage                          11.5   \n",
       "\n",
       "   Gross enrolment ratio, tertiary, gender parity index (GPI)  \\\n",
       "0                                            1.38099            \n",
       "1                                            1.39396            \n",
       "2                                            1.40529            \n",
       "3                                            1.40312            \n",
       "4                                            1.40312            \n",
       "\n",
       "   Percentage of graduates from Science and Technology programmes in tertiary education who are female (%)  \n",
       "0                                           29.32242                                                        \n",
       "1                                           29.10417                                                        \n",
       "2                                                NaN                                                        \n",
       "3                                                NaN                                                        \n",
       "4                                           29.76536                                                        "
      ]
     },
     "execution_count": 41,
     "metadata": {},
     "output_type": "execute_result"
    }
   ],
   "source": [
    "#merge datasets of education factors\n",
    "result = pd.merge(share_of_women_inventors_final, education, on=['Year','Country'])\n",
    "\n",
    "#view of new dataset\n",
    "result.head()"
   ]
  },
  {
   "cell_type": "code",
   "execution_count": 42,
   "metadata": {
    "ExecuteTime": {
     "end_time": "2021-04-28T03:28:29.141686Z",
     "start_time": "2021-04-28T03:28:29.128722Z"
    }
   },
   "outputs": [
    {
     "data": {
      "text/plain": [
       "(165, 6)"
      ]
     },
     "execution_count": 42,
     "metadata": {},
     "output_type": "execute_result"
    }
   ],
   "source": [
    "result.shape"
   ]
  },
  {
   "cell_type": "code",
   "execution_count": 43,
   "metadata": {
    "ExecuteTime": {
     "end_time": "2021-04-28T03:28:29.171607Z",
     "start_time": "2021-04-28T03:28:29.143682Z"
    },
    "scrolled": true
   },
   "outputs": [
    {
     "data": {
      "text/html": [
       "<div>\n",
       "<style scoped>\n",
       "    .dataframe tbody tr th:only-of-type {\n",
       "        vertical-align: middle;\n",
       "    }\n",
       "\n",
       "    .dataframe tbody tr th {\n",
       "        vertical-align: top;\n",
       "    }\n",
       "\n",
       "    .dataframe thead th {\n",
       "        text-align: right;\n",
       "    }\n",
       "</style>\n",
       "<table border=\"1\" class=\"dataframe\">\n",
       "  <thead>\n",
       "    <tr style=\"text-align: right;\">\n",
       "      <th></th>\n",
       "      <th>Country</th>\n",
       "      <th>Year</th>\n",
       "      <th>Share of Women Inventors (%)</th>\n",
       "      <th>Gross enrolment ratio, tertiary, gender parity index (GPI)</th>\n",
       "      <th>Percentage of graduates from Science and Technology programmes in tertiary education who are female (%)</th>\n",
       "      <th>Percentage of women declaring that they have access to training on how to start a business (%)</th>\n",
       "    </tr>\n",
       "  </thead>\n",
       "  <tbody>\n",
       "    <tr>\n",
       "      <td>0</td>\n",
       "      <td>Australia</td>\n",
       "      <td>2010</td>\n",
       "      <td>10.7</td>\n",
       "      <td>1.38099</td>\n",
       "      <td>29.32242</td>\n",
       "      <td>67.871</td>\n",
       "    </tr>\n",
       "    <tr>\n",
       "      <td>1</td>\n",
       "      <td>Australia</td>\n",
       "      <td>2011</td>\n",
       "      <td>11.0</td>\n",
       "      <td>1.39396</td>\n",
       "      <td>29.10417</td>\n",
       "      <td>67.871</td>\n",
       "    </tr>\n",
       "    <tr>\n",
       "      <td>2</td>\n",
       "      <td>Australia</td>\n",
       "      <td>2012</td>\n",
       "      <td>11.1</td>\n",
       "      <td>1.40529</td>\n",
       "      <td>NaN</td>\n",
       "      <td>67.871</td>\n",
       "    </tr>\n",
       "    <tr>\n",
       "      <td>3</td>\n",
       "      <td>Australia</td>\n",
       "      <td>2013</td>\n",
       "      <td>11.4</td>\n",
       "      <td>1.40312</td>\n",
       "      <td>NaN</td>\n",
       "      <td>67.871</td>\n",
       "    </tr>\n",
       "    <tr>\n",
       "      <td>4</td>\n",
       "      <td>Australia</td>\n",
       "      <td>2014</td>\n",
       "      <td>11.5</td>\n",
       "      <td>1.40312</td>\n",
       "      <td>29.76536</td>\n",
       "      <td>67.871</td>\n",
       "    </tr>\n",
       "  </tbody>\n",
       "</table>\n",
       "</div>"
      ],
      "text/plain": [
       "     Country  Year  Share of Women Inventors (%)  \\\n",
       "0  Australia  2010                          10.7   \n",
       "1  Australia  2011                          11.0   \n",
       "2  Australia  2012                          11.1   \n",
       "3  Australia  2013                          11.4   \n",
       "4  Australia  2014                          11.5   \n",
       "\n",
       "   Gross enrolment ratio, tertiary, gender parity index (GPI)  \\\n",
       "0                                            1.38099            \n",
       "1                                            1.39396            \n",
       "2                                            1.40529            \n",
       "3                                            1.40312            \n",
       "4                                            1.40312            \n",
       "\n",
       "   Percentage of graduates from Science and Technology programmes in tertiary education who are female (%)  \\\n",
       "0                                           29.32242                                                         \n",
       "1                                           29.10417                                                         \n",
       "2                                                NaN                                                         \n",
       "3                                                NaN                                                         \n",
       "4                                           29.76536                                                         \n",
       "\n",
       "   Percentage of women declaring that they have access to training on how to start a business (%)  \n",
       "0                                             67.871                                               \n",
       "1                                             67.871                                               \n",
       "2                                             67.871                                               \n",
       "3                                             67.871                                               \n",
       "4                                             67.871                                               "
      ]
     },
     "execution_count": 43,
     "metadata": {},
     "output_type": "execute_result"
    }
   ],
   "source": [
    "#merge datasets of employment factors with the above merged dataset\n",
    "final = pd.merge(result, access_training_women_final, on=['Country'], how='left', suffixes=('', '_y'))\n",
    "\n",
    "final = final.drop(columns=['Year_y','Unit'])\n",
    "\n",
    "#view of new dataset\n",
    "final.head()"
   ]
  },
  {
   "cell_type": "code",
   "execution_count": 44,
   "metadata": {
    "ExecuteTime": {
     "end_time": "2021-04-28T03:28:29.186566Z",
     "start_time": "2021-04-28T03:28:29.173601Z"
    }
   },
   "outputs": [
    {
     "data": {
      "text/plain": [
       "(165, 6)"
      ]
     },
     "execution_count": 44,
     "metadata": {},
     "output_type": "execute_result"
    }
   ],
   "source": [
    "#size of the new dataset\n",
    "final.shape"
   ]
  },
  {
   "cell_type": "code",
   "execution_count": 45,
   "metadata": {
    "ExecuteTime": {
     "end_time": "2021-04-28T03:28:29.217484Z",
     "start_time": "2021-04-28T03:28:29.188562Z"
    }
   },
   "outputs": [
    {
     "data": {
      "text/html": [
       "<div>\n",
       "<style scoped>\n",
       "    .dataframe tbody tr th:only-of-type {\n",
       "        vertical-align: middle;\n",
       "    }\n",
       "\n",
       "    .dataframe tbody tr th {\n",
       "        vertical-align: top;\n",
       "    }\n",
       "\n",
       "    .dataframe thead th {\n",
       "        text-align: right;\n",
       "    }\n",
       "</style>\n",
       "<table border=\"1\" class=\"dataframe\">\n",
       "  <thead>\n",
       "    <tr style=\"text-align: right;\">\n",
       "      <th></th>\n",
       "      <th>Country</th>\n",
       "      <th>Year</th>\n",
       "      <th>Share of Women Inventors (%)</th>\n",
       "      <th>Gross enrolment ratio, tertiary, gender parity index (GPI)</th>\n",
       "      <th>Percentage of graduates from Science and Technology programmes in tertiary education who are female (%)</th>\n",
       "      <th>Percentage of women declaring that they have access to training on how to start a business (%)</th>\n",
       "      <th>Percentage of women declaring that they have access to money to start a business (%)</th>\n",
       "    </tr>\n",
       "  </thead>\n",
       "  <tbody>\n",
       "    <tr>\n",
       "      <td>0</td>\n",
       "      <td>Australia</td>\n",
       "      <td>2010</td>\n",
       "      <td>10.7</td>\n",
       "      <td>1.38099</td>\n",
       "      <td>29.32242</td>\n",
       "      <td>67.871</td>\n",
       "      <td>41.324</td>\n",
       "    </tr>\n",
       "    <tr>\n",
       "      <td>1</td>\n",
       "      <td>Australia</td>\n",
       "      <td>2011</td>\n",
       "      <td>11.0</td>\n",
       "      <td>1.39396</td>\n",
       "      <td>29.10417</td>\n",
       "      <td>67.871</td>\n",
       "      <td>41.324</td>\n",
       "    </tr>\n",
       "    <tr>\n",
       "      <td>2</td>\n",
       "      <td>Australia</td>\n",
       "      <td>2012</td>\n",
       "      <td>11.1</td>\n",
       "      <td>1.40529</td>\n",
       "      <td>NaN</td>\n",
       "      <td>67.871</td>\n",
       "      <td>41.324</td>\n",
       "    </tr>\n",
       "    <tr>\n",
       "      <td>3</td>\n",
       "      <td>Australia</td>\n",
       "      <td>2013</td>\n",
       "      <td>11.4</td>\n",
       "      <td>1.40312</td>\n",
       "      <td>NaN</td>\n",
       "      <td>67.871</td>\n",
       "      <td>41.324</td>\n",
       "    </tr>\n",
       "    <tr>\n",
       "      <td>4</td>\n",
       "      <td>Australia</td>\n",
       "      <td>2014</td>\n",
       "      <td>11.5</td>\n",
       "      <td>1.40312</td>\n",
       "      <td>29.76536</td>\n",
       "      <td>67.871</td>\n",
       "      <td>41.324</td>\n",
       "    </tr>\n",
       "  </tbody>\n",
       "</table>\n",
       "</div>"
      ],
      "text/plain": [
       "     Country  Year  Share of Women Inventors (%)  \\\n",
       "0  Australia  2010                          10.7   \n",
       "1  Australia  2011                          11.0   \n",
       "2  Australia  2012                          11.1   \n",
       "3  Australia  2013                          11.4   \n",
       "4  Australia  2014                          11.5   \n",
       "\n",
       "   Gross enrolment ratio, tertiary, gender parity index (GPI)  \\\n",
       "0                                            1.38099            \n",
       "1                                            1.39396            \n",
       "2                                            1.40529            \n",
       "3                                            1.40312            \n",
       "4                                            1.40312            \n",
       "\n",
       "   Percentage of graduates from Science and Technology programmes in tertiary education who are female (%)  \\\n",
       "0                                           29.32242                                                         \n",
       "1                                           29.10417                                                         \n",
       "2                                                NaN                                                         \n",
       "3                                                NaN                                                         \n",
       "4                                           29.76536                                                         \n",
       "\n",
       "   Percentage of women declaring that they have access to training on how to start a business (%)  \\\n",
       "0                                             67.871                                                \n",
       "1                                             67.871                                                \n",
       "2                                             67.871                                                \n",
       "3                                             67.871                                                \n",
       "4                                             67.871                                                \n",
       "\n",
       "   Percentage of women declaring that they have access to money to start a business (%)  \n",
       "0                                             41.324                                     \n",
       "1                                             41.324                                     \n",
       "2                                             41.324                                     \n",
       "3                                             41.324                                     \n",
       "4                                             41.324                                     "
      ]
     },
     "execution_count": 45,
     "metadata": {},
     "output_type": "execute_result"
    }
   ],
   "source": [
    "#merge datasets of employment factors with the above merged dataset\n",
    "final = pd.merge(final, access_money_women_final, on=['Country'], how='left', suffixes=('', '_y'))\n",
    "\n",
    "final = final.drop(columns=['Year_y'])\n",
    "\n",
    "#view of new dataset\n",
    "final.head()"
   ]
  },
  {
   "cell_type": "code",
   "execution_count": 46,
   "metadata": {
    "ExecuteTime": {
     "end_time": "2021-04-28T03:28:29.232444Z",
     "start_time": "2021-04-28T03:28:29.219483Z"
    }
   },
   "outputs": [
    {
     "data": {
      "text/plain": [
       "(165, 7)"
      ]
     },
     "execution_count": 46,
     "metadata": {},
     "output_type": "execute_result"
    }
   ],
   "source": [
    "#size of the new dataset\n",
    "final.shape"
   ]
  },
  {
   "cell_type": "code",
   "execution_count": 47,
   "metadata": {
    "ExecuteTime": {
     "end_time": "2021-04-28T03:28:29.263362Z",
     "start_time": "2021-04-28T03:28:29.234440Z"
    }
   },
   "outputs": [
    {
     "data": {
      "text/html": [
       "<div>\n",
       "<style scoped>\n",
       "    .dataframe tbody tr th:only-of-type {\n",
       "        vertical-align: middle;\n",
       "    }\n",
       "\n",
       "    .dataframe tbody tr th {\n",
       "        vertical-align: top;\n",
       "    }\n",
       "\n",
       "    .dataframe thead th {\n",
       "        text-align: right;\n",
       "    }\n",
       "</style>\n",
       "<table border=\"1\" class=\"dataframe\">\n",
       "  <thead>\n",
       "    <tr style=\"text-align: right;\">\n",
       "      <th></th>\n",
       "      <th>Country</th>\n",
       "      <th>Year</th>\n",
       "      <th>Share of Women Inventors (%)</th>\n",
       "      <th>Gross enrolment ratio, tertiary, gender parity index (GPI)</th>\n",
       "      <th>Percentage of graduates from Science and Technology programmes in tertiary education who are female (%)</th>\n",
       "      <th>Percentage of women declaring that they have access to training on how to start a business (%)</th>\n",
       "      <th>Percentage of women declaring that they have access to money to start a business (%)</th>\n",
       "      <th>Percentage of women prefering taking a risk and starting a new business to working for someone else (%)</th>\n",
       "    </tr>\n",
       "  </thead>\n",
       "  <tbody>\n",
       "    <tr>\n",
       "      <td>0</td>\n",
       "      <td>Australia</td>\n",
       "      <td>2010</td>\n",
       "      <td>10.700000</td>\n",
       "      <td>1.38099</td>\n",
       "      <td>29.322420</td>\n",
       "      <td>67.871</td>\n",
       "      <td>41.324</td>\n",
       "      <td>45.305</td>\n",
       "    </tr>\n",
       "    <tr>\n",
       "      <td>1</td>\n",
       "      <td>Australia</td>\n",
       "      <td>2011</td>\n",
       "      <td>11.000000</td>\n",
       "      <td>1.39396</td>\n",
       "      <td>29.104170</td>\n",
       "      <td>67.871</td>\n",
       "      <td>41.324</td>\n",
       "      <td>45.305</td>\n",
       "    </tr>\n",
       "    <tr>\n",
       "      <td>2</td>\n",
       "      <td>Australia</td>\n",
       "      <td>2012</td>\n",
       "      <td>11.100000</td>\n",
       "      <td>1.40529</td>\n",
       "      <td>NaN</td>\n",
       "      <td>67.871</td>\n",
       "      <td>41.324</td>\n",
       "      <td>45.305</td>\n",
       "    </tr>\n",
       "    <tr>\n",
       "      <td>3</td>\n",
       "      <td>Australia</td>\n",
       "      <td>2013</td>\n",
       "      <td>11.400000</td>\n",
       "      <td>1.40312</td>\n",
       "      <td>NaN</td>\n",
       "      <td>67.871</td>\n",
       "      <td>41.324</td>\n",
       "      <td>45.305</td>\n",
       "    </tr>\n",
       "    <tr>\n",
       "      <td>4</td>\n",
       "      <td>Australia</td>\n",
       "      <td>2014</td>\n",
       "      <td>11.500000</td>\n",
       "      <td>1.40312</td>\n",
       "      <td>29.765360</td>\n",
       "      <td>67.871</td>\n",
       "      <td>41.324</td>\n",
       "      <td>45.305</td>\n",
       "    </tr>\n",
       "    <tr>\n",
       "      <td>5</td>\n",
       "      <td>Austria</td>\n",
       "      <td>2010</td>\n",
       "      <td>5.600000</td>\n",
       "      <td>1.17002</td>\n",
       "      <td>23.489010</td>\n",
       "      <td>61.505</td>\n",
       "      <td>48.044</td>\n",
       "      <td>23.726</td>\n",
       "    </tr>\n",
       "    <tr>\n",
       "      <td>6</td>\n",
       "      <td>Austria</td>\n",
       "      <td>2011</td>\n",
       "      <td>5.400000</td>\n",
       "      <td>1.18257</td>\n",
       "      <td>25.145361</td>\n",
       "      <td>61.505</td>\n",
       "      <td>48.044</td>\n",
       "      <td>23.726</td>\n",
       "    </tr>\n",
       "    <tr>\n",
       "      <td>7</td>\n",
       "      <td>Austria</td>\n",
       "      <td>2012</td>\n",
       "      <td>5.400000</td>\n",
       "      <td>1.19864</td>\n",
       "      <td>25.540199</td>\n",
       "      <td>61.505</td>\n",
       "      <td>48.044</td>\n",
       "      <td>23.726</td>\n",
       "    </tr>\n",
       "    <tr>\n",
       "      <td>8</td>\n",
       "      <td>Austria</td>\n",
       "      <td>2013</td>\n",
       "      <td>5.400000</td>\n",
       "      <td>1.20621</td>\n",
       "      <td>25.146490</td>\n",
       "      <td>61.505</td>\n",
       "      <td>48.044</td>\n",
       "      <td>23.726</td>\n",
       "    </tr>\n",
       "    <tr>\n",
       "      <td>9</td>\n",
       "      <td>Austria</td>\n",
       "      <td>2014</td>\n",
       "      <td>5.600000</td>\n",
       "      <td>1.20348</td>\n",
       "      <td>25.482410</td>\n",
       "      <td>61.505</td>\n",
       "      <td>48.044</td>\n",
       "      <td>23.726</td>\n",
       "    </tr>\n",
       "    <tr>\n",
       "      <td>10</td>\n",
       "      <td>Belgium</td>\n",
       "      <td>2010</td>\n",
       "      <td>14.200000</td>\n",
       "      <td>1.26629</td>\n",
       "      <td>23.994690</td>\n",
       "      <td>43.878</td>\n",
       "      <td>32.129</td>\n",
       "      <td>31.192</td>\n",
       "    </tr>\n",
       "    <tr>\n",
       "      <td>11</td>\n",
       "      <td>Belgium</td>\n",
       "      <td>2011</td>\n",
       "      <td>13.400000</td>\n",
       "      <td>1.27273</td>\n",
       "      <td>24.672409</td>\n",
       "      <td>43.878</td>\n",
       "      <td>32.129</td>\n",
       "      <td>31.192</td>\n",
       "    </tr>\n",
       "    <tr>\n",
       "      <td>12</td>\n",
       "      <td>Belgium</td>\n",
       "      <td>2012</td>\n",
       "      <td>12.700000</td>\n",
       "      <td>1.28718</td>\n",
       "      <td>24.200029</td>\n",
       "      <td>43.878</td>\n",
       "      <td>32.129</td>\n",
       "      <td>31.192</td>\n",
       "    </tr>\n",
       "    <tr>\n",
       "      <td>13</td>\n",
       "      <td>Belgium</td>\n",
       "      <td>2013</td>\n",
       "      <td>11.700000</td>\n",
       "      <td>1.30132</td>\n",
       "      <td>24.546341</td>\n",
       "      <td>43.878</td>\n",
       "      <td>32.129</td>\n",
       "      <td>31.192</td>\n",
       "    </tr>\n",
       "    <tr>\n",
       "      <td>14</td>\n",
       "      <td>Belgium</td>\n",
       "      <td>2014</td>\n",
       "      <td>12.500000</td>\n",
       "      <td>1.31026</td>\n",
       "      <td>NaN</td>\n",
       "      <td>43.878</td>\n",
       "      <td>32.129</td>\n",
       "      <td>31.192</td>\n",
       "    </tr>\n",
       "    <tr>\n",
       "      <td>15</td>\n",
       "      <td>Canada</td>\n",
       "      <td>2010</td>\n",
       "      <td>12.100000</td>\n",
       "      <td>NaN</td>\n",
       "      <td>NaN</td>\n",
       "      <td>64.711</td>\n",
       "      <td>49.541</td>\n",
       "      <td>56.682</td>\n",
       "    </tr>\n",
       "    <tr>\n",
       "      <td>16</td>\n",
       "      <td>Canada</td>\n",
       "      <td>2011</td>\n",
       "      <td>11.900000</td>\n",
       "      <td>NaN</td>\n",
       "      <td>NaN</td>\n",
       "      <td>64.711</td>\n",
       "      <td>49.541</td>\n",
       "      <td>56.682</td>\n",
       "    </tr>\n",
       "    <tr>\n",
       "      <td>17</td>\n",
       "      <td>Canada</td>\n",
       "      <td>2012</td>\n",
       "      <td>11.900000</td>\n",
       "      <td>NaN</td>\n",
       "      <td>NaN</td>\n",
       "      <td>64.711</td>\n",
       "      <td>49.541</td>\n",
       "      <td>56.682</td>\n",
       "    </tr>\n",
       "    <tr>\n",
       "      <td>18</td>\n",
       "      <td>Canada</td>\n",
       "      <td>2013</td>\n",
       "      <td>12.200000</td>\n",
       "      <td>NaN</td>\n",
       "      <td>NaN</td>\n",
       "      <td>64.711</td>\n",
       "      <td>49.541</td>\n",
       "      <td>56.682</td>\n",
       "    </tr>\n",
       "    <tr>\n",
       "      <td>19</td>\n",
       "      <td>Canada</td>\n",
       "      <td>2014</td>\n",
       "      <td>12.200000</td>\n",
       "      <td>NaN</td>\n",
       "      <td>NaN</td>\n",
       "      <td>64.711</td>\n",
       "      <td>49.541</td>\n",
       "      <td>56.682</td>\n",
       "    </tr>\n",
       "    <tr>\n",
       "      <td>20</td>\n",
       "      <td>Chile</td>\n",
       "      <td>2010</td>\n",
       "      <td>23.600000</td>\n",
       "      <td>1.07766</td>\n",
       "      <td>19.495939</td>\n",
       "      <td>29.034</td>\n",
       "      <td>18.017</td>\n",
       "      <td>70.783</td>\n",
       "    </tr>\n",
       "    <tr>\n",
       "      <td>21</td>\n",
       "      <td>Chile</td>\n",
       "      <td>2011</td>\n",
       "      <td>24.799999</td>\n",
       "      <td>1.10703</td>\n",
       "      <td>NaN</td>\n",
       "      <td>29.034</td>\n",
       "      <td>18.017</td>\n",
       "      <td>70.783</td>\n",
       "    </tr>\n",
       "    <tr>\n",
       "      <td>22</td>\n",
       "      <td>Chile</td>\n",
       "      <td>2012</td>\n",
       "      <td>20.299999</td>\n",
       "      <td>1.13002</td>\n",
       "      <td>19.328140</td>\n",
       "      <td>29.034</td>\n",
       "      <td>18.017</td>\n",
       "      <td>70.783</td>\n",
       "    </tr>\n",
       "    <tr>\n",
       "      <td>23</td>\n",
       "      <td>Chile</td>\n",
       "      <td>2013</td>\n",
       "      <td>21.600000</td>\n",
       "      <td>1.12747</td>\n",
       "      <td>NaN</td>\n",
       "      <td>29.034</td>\n",
       "      <td>18.017</td>\n",
       "      <td>70.783</td>\n",
       "    </tr>\n",
       "    <tr>\n",
       "      <td>24</td>\n",
       "      <td>Chile</td>\n",
       "      <td>2014</td>\n",
       "      <td>21.400000</td>\n",
       "      <td>1.13570</td>\n",
       "      <td>18.244160</td>\n",
       "      <td>29.034</td>\n",
       "      <td>18.017</td>\n",
       "      <td>70.783</td>\n",
       "    </tr>\n",
       "    <tr>\n",
       "      <td>25</td>\n",
       "      <td>Colombia</td>\n",
       "      <td>2010</td>\n",
       "      <td>11.100000</td>\n",
       "      <td>1.09840</td>\n",
       "      <td>NaN</td>\n",
       "      <td>NaN</td>\n",
       "      <td>NaN</td>\n",
       "      <td>NaN</td>\n",
       "    </tr>\n",
       "    <tr>\n",
       "      <td>26</td>\n",
       "      <td>Colombia</td>\n",
       "      <td>2011</td>\n",
       "      <td>13.400000</td>\n",
       "      <td>1.09874</td>\n",
       "      <td>34.281250</td>\n",
       "      <td>NaN</td>\n",
       "      <td>NaN</td>\n",
       "      <td>NaN</td>\n",
       "    </tr>\n",
       "    <tr>\n",
       "      <td>27</td>\n",
       "      <td>Colombia</td>\n",
       "      <td>2012</td>\n",
       "      <td>17.900000</td>\n",
       "      <td>1.12918</td>\n",
       "      <td>33.865292</td>\n",
       "      <td>NaN</td>\n",
       "      <td>NaN</td>\n",
       "      <td>NaN</td>\n",
       "    </tr>\n",
       "    <tr>\n",
       "      <td>28</td>\n",
       "      <td>Colombia</td>\n",
       "      <td>2013</td>\n",
       "      <td>23.799999</td>\n",
       "      <td>1.14547</td>\n",
       "      <td>33.995720</td>\n",
       "      <td>NaN</td>\n",
       "      <td>NaN</td>\n",
       "      <td>NaN</td>\n",
       "    </tr>\n",
       "    <tr>\n",
       "      <td>29</td>\n",
       "      <td>Colombia</td>\n",
       "      <td>2014</td>\n",
       "      <td>26.299999</td>\n",
       "      <td>1.14540</td>\n",
       "      <td>33.711849</td>\n",
       "      <td>NaN</td>\n",
       "      <td>NaN</td>\n",
       "      <td>NaN</td>\n",
       "    </tr>\n",
       "  </tbody>\n",
       "</table>\n",
       "</div>"
      ],
      "text/plain": [
       "      Country  Year  Share of Women Inventors (%)  \\\n",
       "0   Australia  2010                     10.700000   \n",
       "1   Australia  2011                     11.000000   \n",
       "2   Australia  2012                     11.100000   \n",
       "3   Australia  2013                     11.400000   \n",
       "4   Australia  2014                     11.500000   \n",
       "5     Austria  2010                      5.600000   \n",
       "6     Austria  2011                      5.400000   \n",
       "7     Austria  2012                      5.400000   \n",
       "8     Austria  2013                      5.400000   \n",
       "9     Austria  2014                      5.600000   \n",
       "10    Belgium  2010                     14.200000   \n",
       "11    Belgium  2011                     13.400000   \n",
       "12    Belgium  2012                     12.700000   \n",
       "13    Belgium  2013                     11.700000   \n",
       "14    Belgium  2014                     12.500000   \n",
       "15     Canada  2010                     12.100000   \n",
       "16     Canada  2011                     11.900000   \n",
       "17     Canada  2012                     11.900000   \n",
       "18     Canada  2013                     12.200000   \n",
       "19     Canada  2014                     12.200000   \n",
       "20      Chile  2010                     23.600000   \n",
       "21      Chile  2011                     24.799999   \n",
       "22      Chile  2012                     20.299999   \n",
       "23      Chile  2013                     21.600000   \n",
       "24      Chile  2014                     21.400000   \n",
       "25   Colombia  2010                     11.100000   \n",
       "26   Colombia  2011                     13.400000   \n",
       "27   Colombia  2012                     17.900000   \n",
       "28   Colombia  2013                     23.799999   \n",
       "29   Colombia  2014                     26.299999   \n",
       "\n",
       "    Gross enrolment ratio, tertiary, gender parity index (GPI)  \\\n",
       "0                                             1.38099            \n",
       "1                                             1.39396            \n",
       "2                                             1.40529            \n",
       "3                                             1.40312            \n",
       "4                                             1.40312            \n",
       "5                                             1.17002            \n",
       "6                                             1.18257            \n",
       "7                                             1.19864            \n",
       "8                                             1.20621            \n",
       "9                                             1.20348            \n",
       "10                                            1.26629            \n",
       "11                                            1.27273            \n",
       "12                                            1.28718            \n",
       "13                                            1.30132            \n",
       "14                                            1.31026            \n",
       "15                                                NaN            \n",
       "16                                                NaN            \n",
       "17                                                NaN            \n",
       "18                                                NaN            \n",
       "19                                                NaN            \n",
       "20                                            1.07766            \n",
       "21                                            1.10703            \n",
       "22                                            1.13002            \n",
       "23                                            1.12747            \n",
       "24                                            1.13570            \n",
       "25                                            1.09840            \n",
       "26                                            1.09874            \n",
       "27                                            1.12918            \n",
       "28                                            1.14547            \n",
       "29                                            1.14540            \n",
       "\n",
       "    Percentage of graduates from Science and Technology programmes in tertiary education who are female (%)  \\\n",
       "0                                           29.322420                                                         \n",
       "1                                           29.104170                                                         \n",
       "2                                                 NaN                                                         \n",
       "3                                                 NaN                                                         \n",
       "4                                           29.765360                                                         \n",
       "5                                           23.489010                                                         \n",
       "6                                           25.145361                                                         \n",
       "7                                           25.540199                                                         \n",
       "8                                           25.146490                                                         \n",
       "9                                           25.482410                                                         \n",
       "10                                          23.994690                                                         \n",
       "11                                          24.672409                                                         \n",
       "12                                          24.200029                                                         \n",
       "13                                          24.546341                                                         \n",
       "14                                                NaN                                                         \n",
       "15                                                NaN                                                         \n",
       "16                                                NaN                                                         \n",
       "17                                                NaN                                                         \n",
       "18                                                NaN                                                         \n",
       "19                                                NaN                                                         \n",
       "20                                          19.495939                                                         \n",
       "21                                                NaN                                                         \n",
       "22                                          19.328140                                                         \n",
       "23                                                NaN                                                         \n",
       "24                                          18.244160                                                         \n",
       "25                                                NaN                                                         \n",
       "26                                          34.281250                                                         \n",
       "27                                          33.865292                                                         \n",
       "28                                          33.995720                                                         \n",
       "29                                          33.711849                                                         \n",
       "\n",
       "    Percentage of women declaring that they have access to training on how to start a business (%)  \\\n",
       "0                                              67.871                                                \n",
       "1                                              67.871                                                \n",
       "2                                              67.871                                                \n",
       "3                                              67.871                                                \n",
       "4                                              67.871                                                \n",
       "5                                              61.505                                                \n",
       "6                                              61.505                                                \n",
       "7                                              61.505                                                \n",
       "8                                              61.505                                                \n",
       "9                                              61.505                                                \n",
       "10                                             43.878                                                \n",
       "11                                             43.878                                                \n",
       "12                                             43.878                                                \n",
       "13                                             43.878                                                \n",
       "14                                             43.878                                                \n",
       "15                                             64.711                                                \n",
       "16                                             64.711                                                \n",
       "17                                             64.711                                                \n",
       "18                                             64.711                                                \n",
       "19                                             64.711                                                \n",
       "20                                             29.034                                                \n",
       "21                                             29.034                                                \n",
       "22                                             29.034                                                \n",
       "23                                             29.034                                                \n",
       "24                                             29.034                                                \n",
       "25                                                NaN                                                \n",
       "26                                                NaN                                                \n",
       "27                                                NaN                                                \n",
       "28                                                NaN                                                \n",
       "29                                                NaN                                                \n",
       "\n",
       "    Percentage of women declaring that they have access to money to start a business (%)  \\\n",
       "0                                              41.324                                      \n",
       "1                                              41.324                                      \n",
       "2                                              41.324                                      \n",
       "3                                              41.324                                      \n",
       "4                                              41.324                                      \n",
       "5                                              48.044                                      \n",
       "6                                              48.044                                      \n",
       "7                                              48.044                                      \n",
       "8                                              48.044                                      \n",
       "9                                              48.044                                      \n",
       "10                                             32.129                                      \n",
       "11                                             32.129                                      \n",
       "12                                             32.129                                      \n",
       "13                                             32.129                                      \n",
       "14                                             32.129                                      \n",
       "15                                             49.541                                      \n",
       "16                                             49.541                                      \n",
       "17                                             49.541                                      \n",
       "18                                             49.541                                      \n",
       "19                                             49.541                                      \n",
       "20                                             18.017                                      \n",
       "21                                             18.017                                      \n",
       "22                                             18.017                                      \n",
       "23                                             18.017                                      \n",
       "24                                             18.017                                      \n",
       "25                                                NaN                                      \n",
       "26                                                NaN                                      \n",
       "27                                                NaN                                      \n",
       "28                                                NaN                                      \n",
       "29                                                NaN                                      \n",
       "\n",
       "    Percentage of women prefering taking a risk and starting a new business to working for someone else (%)  \n",
       "0                                              45.305                                                        \n",
       "1                                              45.305                                                        \n",
       "2                                              45.305                                                        \n",
       "3                                              45.305                                                        \n",
       "4                                              45.305                                                        \n",
       "5                                              23.726                                                        \n",
       "6                                              23.726                                                        \n",
       "7                                              23.726                                                        \n",
       "8                                              23.726                                                        \n",
       "9                                              23.726                                                        \n",
       "10                                             31.192                                                        \n",
       "11                                             31.192                                                        \n",
       "12                                             31.192                                                        \n",
       "13                                             31.192                                                        \n",
       "14                                             31.192                                                        \n",
       "15                                             56.682                                                        \n",
       "16                                             56.682                                                        \n",
       "17                                             56.682                                                        \n",
       "18                                             56.682                                                        \n",
       "19                                             56.682                                                        \n",
       "20                                             70.783                                                        \n",
       "21                                             70.783                                                        \n",
       "22                                             70.783                                                        \n",
       "23                                             70.783                                                        \n",
       "24                                             70.783                                                        \n",
       "25                                                NaN                                                        \n",
       "26                                                NaN                                                        \n",
       "27                                                NaN                                                        \n",
       "28                                                NaN                                                        \n",
       "29                                                NaN                                                        "
      ]
     },
     "execution_count": 47,
     "metadata": {},
     "output_type": "execute_result"
    }
   ],
   "source": [
    "#merge datasets of employment factors with the above merged dataset\n",
    "final = pd.merge(final, attitude_risk_women_final, on=['Country'], how='left', suffixes=('', '_y'))\n",
    "\n",
    "final = final.drop(columns=['Year_y'])\n",
    "\n",
    "#view of new dataset\n",
    "final.head(30)"
   ]
  },
  {
   "cell_type": "code",
   "execution_count": 48,
   "metadata": {
    "ExecuteTime": {
     "end_time": "2021-04-28T03:28:29.295277Z",
     "start_time": "2021-04-28T03:28:29.265356Z"
    }
   },
   "outputs": [
    {
     "data": {
      "text/plain": [
       "(165, 8)"
      ]
     },
     "execution_count": 48,
     "metadata": {},
     "output_type": "execute_result"
    }
   ],
   "source": [
    "#size of the new dataset\n",
    "final.shape"
   ]
  },
  {
   "cell_type": "code",
   "execution_count": 49,
   "metadata": {
    "ExecuteTime": {
     "end_time": "2021-04-28T03:28:29.326194Z",
     "start_time": "2021-04-28T03:28:29.297271Z"
    }
   },
   "outputs": [],
   "source": [
    "final.to_csv(r'C:\\Users\\jiang\\INFO 2950\\final.csv', index=False)"
   ]
  }
 ],
 "metadata": {
  "kernelspec": {
   "display_name": "Python 3",
   "language": "python",
   "name": "python3"
  },
  "language_info": {
   "codemirror_mode": {
    "name": "ipython",
    "version": 3
   },
   "file_extension": ".py",
   "mimetype": "text/x-python",
   "name": "python",
   "nbconvert_exporter": "python",
   "pygments_lexer": "ipython3",
   "version": "3.8.5"
  }
 },
 "nbformat": 4,
 "nbformat_minor": 4
}
