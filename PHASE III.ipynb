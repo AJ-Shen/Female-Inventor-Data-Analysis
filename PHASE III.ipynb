{
 "cells": [
  {
   "cell_type": "markdown",
   "metadata": {},
   "source": [
    "## Preregistration"
   ]
  },
  {
   "cell_type": "markdown",
   "metadata": {},
   "source": [
    "### 1. Single-variable Linear Regression\n",
    "\n",
    "We will first carry out single-variable regressions for each variable that might influence the percentage of women inventors across different countries within the same time period (2010-2014). \n",
    "\n",
    "Predicting variables:\n",
    "- Gross enrolment ratio, tertiary, gender parity index (GPI)\n",
    "- Percentage of graduates from Science and Technology programmes in tertiary education who are female\n",
    "- Percentage of women declaring that they have access to training on how to start a business\n",
    "- Percentage of women declaring that they have access to money to start a business\n",
    "- Percentage of women preferring taking a risk and starting a new business to working for someone else\n",
    "    \n",
    "Therefore, there will be a total of five linear regressions. We will calculate the correlation coefficient and R square (coefficient of determination) for each linear regression to examine whether there is a strong linear correlation between these variables and our dependent variable, which is the percentage of women inventors. We will also calculate the p-values for each regression to check their significance, together with a hypothesis test.\n",
    "\n",
    "With the results from single-variable regressions, we can then figure out which variables to include in our next step, which is the multi-variable linear regression. To ensure a reliable multi-variable linear regression, we will exclude the variables that have the highest correlation and r square value.\n"
   ]
  },
  {
   "cell_type": "markdown",
   "metadata": {},
   "source": [
    "### 2. Multivariable Linear Regression\n",
    "\n",
    "In reality, many powerful linear regression models are not limited to single input variables, given that we are living in a complex world with countless variables. We will then carry out multivariable regressions for those selected variables that might influence the percentage of women inventors across different countries within the same time period (2010-2014). For those predicting variables that are highly correlated and might have a causal effect on each other, we will exclude the ones with the highest correlation and r square value. For example, “Percentage of women declaring that they have access to training on how to start a business” and “Percentage of women declaring that they have access to money to start a business” might be highly correlated, and adding both variables into the multivariable regression might not bring about much new information compared to introducing only one of them.\n",
    "\n",
    "After we obtained a multivariable regression model, we will calculate its correlation coefficient and r square score to examine whether our multivariable regression has a strong explanatory power (i.e., explaining the percentage of women inventors in countries that are included in our model).\n",
    "We will also calculate the p-value for the multivariable regression to check its significance, together with a hypothesis test.\n",
    "\n",
    "We can compare the r squares for the single regressions and multivariable regression to see which has a higher coefficient of determination, and therefore we are able to predict the relationship between the variables more accurately.\n",
    "\n"
   ]
  }
 ],
 "metadata": {
  "kernelspec": {
   "display_name": "Python 3",
   "language": "python",
   "name": "python3"
  },
  "language_info": {
   "codemirror_mode": {
    "name": "ipython",
    "version": 3
   },
   "file_extension": ".py",
   "mimetype": "text/x-python",
   "name": "python",
   "nbconvert_exporter": "python",
   "pygments_lexer": "ipython3",
   "version": "3.8.5"
  }
 },
 "nbformat": 4,
 "nbformat_minor": 4
}
